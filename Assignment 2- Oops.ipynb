{
 "cells": [
  {
   "cell_type": "markdown",
   "id": "bfc5ae80-59d3-4636-94b3-7c3b26c97c7a",
   "metadata": {},
   "source": [
    "# Constructor"
   ]
  },
  {
   "cell_type": "markdown",
   "id": "81b756c0-dbe8-438c-af79-6080c2c0a91d",
   "metadata": {},
   "source": [
    "1. What is a constructor in Python? Explain its purpose and usage."
   ]
  },
  {
   "cell_type": "code",
   "execution_count": 1,
   "id": "0968a01e-15f3-4114-9535-7b3abc747575",
   "metadata": {},
   "outputs": [],
   "source": [
    "class Name:\n",
    "    def __init__(self):\n",
    "        self.name = 'Python'\n",
    "    def read_name(self):\n",
    "        return self.name"
   ]
  },
  {
   "cell_type": "code",
   "execution_count": 2,
   "id": "c971ce1c-537c-4517-a8b1-c53895d2acfe",
   "metadata": {},
   "outputs": [],
   "source": [
    "name = Name()"
   ]
  },
  {
   "cell_type": "code",
   "execution_count": 3,
   "id": "b4185e01-6a3a-477d-84d7-589c2f5afdf8",
   "metadata": {},
   "outputs": [
    {
     "data": {
      "text/plain": [
       "'Python'"
      ]
     },
     "execution_count": 3,
     "metadata": {},
     "output_type": "execute_result"
    }
   ],
   "source": [
    "name.read_name()"
   ]
  },
  {
   "cell_type": "markdown",
   "id": "44093dc1-27ee-447c-a125-b65444931466",
   "metadata": {},
   "source": [
    "1. Constructors in Python is a special class method for creating and initializing an object instance at that class. \n",
    "2. In Python every class has a constructor; it's not required to define explicitly. \n",
    "3. The purpose of the constructor is to construct an object and assign a value to the object's members.\n",
    "4. We have mentioned one example and created a class called Name\n",
    "5. Inside the class we have created one constructor called self.name which is set them as string data type\n",
    "6. Inside these class we have created a another method called read_name and return the name which we have constructed\n",
    "7. Print the result"
   ]
  },
  {
   "cell_type": "markdown",
   "id": "edccfac2-8acb-4b26-9b5b-730405444370",
   "metadata": {},
   "source": [
    "2. Differentiate between a parameterless constructor and a parameterized constructor in Python."
   ]
  },
  {
   "cell_type": "code",
   "execution_count": 5,
   "id": "214d51a5-a53e-435f-9ca7-12a25369aca2",
   "metadata": {},
   "outputs": [],
   "source": [
    "# Parameterless\n",
    "class Name:\n",
    "    def __init__(self):\n",
    "        self.name = 'Python'\n",
    "    def read_name(self):\n",
    "        return self.name"
   ]
  },
  {
   "cell_type": "code",
   "execution_count": 6,
   "id": "c32c99a3-18a4-45a9-9747-a7342112cebc",
   "metadata": {},
   "outputs": [
    {
     "data": {
      "text/plain": [
       "'Python'"
      ]
     },
     "execution_count": 6,
     "metadata": {},
     "output_type": "execute_result"
    }
   ],
   "source": [
    "name = Name()\n",
    "name.read_name()"
   ]
  },
  {
   "cell_type": "code",
   "execution_count": 7,
   "id": "3b86596a-8811-4c6a-98fb-47b80f631845",
   "metadata": {},
   "outputs": [],
   "source": [
    "#Parameterised\n",
    "class Name:\n",
    "    def __init__(self, name):\n",
    "        self.name = name \n",
    "    def read_name(self):\n",
    "        return self.name"
   ]
  },
  {
   "cell_type": "code",
   "execution_count": 8,
   "id": "39477511-d95c-4a07-9691-0ce8384cd221",
   "metadata": {},
   "outputs": [],
   "source": [
    "name = Name('Python')"
   ]
  },
  {
   "cell_type": "code",
   "execution_count": 9,
   "id": "a6ee92c6-ad4c-44c8-9f56-e5757e4b6266",
   "metadata": {},
   "outputs": [
    {
     "data": {
      "text/plain": [
       "'Python'"
      ]
     },
     "execution_count": 9,
     "metadata": {},
     "output_type": "execute_result"
    }
   ],
   "source": [
    "name.read_name()"
   ]
  },
  {
   "cell_type": "markdown",
   "id": "6146a7f6-5405-4510-b0dd-b1930a8a1ec4",
   "metadata": {},
   "source": [
    "a. Non-Parameterized Constructor: A non-parameterized constructor is a constructor that does not take any arguments.for e.g\n",
    "1. Create a class called name \n",
    "2. Inside the class we have created constructor which does not take any arguments \n",
    "3. At the time calling that module we donot need any arguments to create a class\n",
    "\n",
    "b. Parameterized Constructor: A parameterized constructor is a constructor that takes one or more arguments. It is used to create an object with custom values for its attributes.\n",
    "1. Create a class called name \n",
    "2. Inside the class we have created constructor which does take arguments \n",
    "3. At the time calling that module we do need an arguments to create a class "
   ]
  },
  {
   "cell_type": "markdown",
   "id": "3d13f593-5f03-45cf-a732-9d2cfa908fdd",
   "metadata": {},
   "source": [
    "3. How do you define a constructor in a Python class? Provide an example."
   ]
  },
  {
   "cell_type": "code",
   "execution_count": 10,
   "id": "f856dc4f-f736-4eeb-ac31-45ad4b4efd88",
   "metadata": {},
   "outputs": [],
   "source": [
    "class Name:\n",
    "    def __init__(self):\n",
    "        self.name = 'Python'\n",
    "    def read_name(self):\n",
    "        return self.name"
   ]
  },
  {
   "cell_type": "code",
   "execution_count": 11,
   "id": "7038c34a-257e-46ab-8d35-379134bf8bdb",
   "metadata": {},
   "outputs": [
    {
     "data": {
      "text/plain": [
       "'Python'"
      ]
     },
     "execution_count": 11,
     "metadata": {},
     "output_type": "execute_result"
    }
   ],
   "source": [
    "name = Name()\n",
    "name.read_name()"
   ]
  },
  {
   "cell_type": "markdown",
   "id": "74ab8da2-4382-410e-9405-b2b865f12487",
   "metadata": {},
   "source": [
    "Constructor : The purpose of a python constructor is to assign values to the data members within the class when an object is initialized. The name of the constructor method is always __init__. In this example\n",
    "1. first we have to create a class called Name\n",
    "2. Then we have to def constructor the constructor has always having an init function in order to define the constructor type def __init__(self):\n",
    "3. Inside the constructor we can give any number of arguments as we want or else we cant give arguments inside the constructor it totally depend upon us\n",
    "4. Print the result"
   ]
  },
  {
   "cell_type": "markdown",
   "id": "7020ae5c-8f8d-473f-a9e0-7514200902a2",
   "metadata": {},
   "source": [
    "4. Explain the `__init__` method in Python and its role in constructors."
   ]
  },
  {
   "cell_type": "code",
   "execution_count": 12,
   "id": "78aa1df5-43d7-49c9-8f1d-72530deb0b85",
   "metadata": {},
   "outputs": [],
   "source": [
    "class Name:\n",
    "    def __init__(self):\n",
    "        self.name = 'Python'\n",
    "    def read_name(self):\n",
    "        return self.name"
   ]
  },
  {
   "cell_type": "code",
   "execution_count": 13,
   "id": "096e40bc-8dac-415d-848f-460ea4a23dbe",
   "metadata": {},
   "outputs": [
    {
     "data": {
      "text/plain": [
       "'Python'"
      ]
     },
     "execution_count": 13,
     "metadata": {},
     "output_type": "execute_result"
    }
   ],
   "source": [
    "name = Name()\n",
    "name.read_name()"
   ]
  },
  {
   "cell_type": "markdown",
   "id": "0e6a96e6-f858-4312-856f-374485d04247",
   "metadata": {},
   "source": [
    "The Default __init__ Constructor in Python . Constructors are used to initializing the object’s state. The task of constructors is to initialize(assign values) to the data members of the class when an object of the class is created. Like methods, a constructor also contains a collection of statements(i.e. instructions) that are executed at the time of Object creation. It is run as soon as an object of a class is instantiated. The method is useful to do any initialization you want to do with your object.In the example\n",
    "1. Create a class called Name\n",
    "2. Inside the class we have created a constructor which initialize the name of anything inside the constructor\n",
    "3. Print the result "
   ]
  },
  {
   "cell_type": "markdown",
   "id": "1fdc45f2-0dac-4301-8dc1-611e0cc6bab5",
   "metadata": {},
   "source": [
    "5. In a class named `Person`, create a constructor that initializes the `name` and `age` attributes. Provide an\n",
    "example of creating an object of this class."
   ]
  },
  {
   "cell_type": "code",
   "execution_count": 18,
   "id": "128f06d8-8c6a-465f-8cf9-ae09692c8fc4",
   "metadata": {},
   "outputs": [],
   "source": [
    "class Person:\n",
    "    def __init__(self, name, age):\n",
    "        self.name = name\n",
    "        self.age = age\n",
    "    def name(self):\n",
    "        return self.name\n",
    "    def age(self):\n",
    "        return self.age"
   ]
  },
  {
   "cell_type": "code",
   "execution_count": 19,
   "id": "ea598591-c6d9-4771-ace1-9a9322573ddf",
   "metadata": {},
   "outputs": [],
   "source": [
    "person = Person('Manish', 30)"
   ]
  },
  {
   "cell_type": "code",
   "execution_count": 21,
   "id": "87b873e2-5dc5-4060-b884-4f701c2a6030",
   "metadata": {},
   "outputs": [
    {
     "data": {
      "text/plain": [
       "'Manish'"
      ]
     },
     "execution_count": 21,
     "metadata": {},
     "output_type": "execute_result"
    }
   ],
   "source": [
    "person.name"
   ]
  },
  {
   "cell_type": "code",
   "execution_count": 22,
   "id": "ca13bea7-422b-42f4-9186-87001cba148b",
   "metadata": {},
   "outputs": [
    {
     "data": {
      "text/plain": [
       "30"
      ]
     },
     "execution_count": 22,
     "metadata": {},
     "output_type": "execute_result"
    }
   ],
   "source": [
    "person.age"
   ]
  },
  {
   "cell_type": "markdown",
   "id": "5bf7e78c-e054-4cec-9f04-67e4da858e8c",
   "metadata": {},
   "source": [
    "1. Create a class called Person\n",
    "2. Inside the person class we have created a constructor which takes two arguments first is name and second one is age \n",
    "3. Inside the constructor we have created a attributes i.e. self.name and self.age\n",
    "4. We have created a method called as name it will return the attributes the name of the person\n",
    "5. We have created another method called age it will return the attributes the age of the person\n",
    "6. Print the result "
   ]
  },
  {
   "cell_type": "markdown",
   "id": "b4832b9b-3d8c-471e-9fcd-7dbe219866c3",
   "metadata": {},
   "source": [
    "6. How can you call a constructor explicitly in Python? Give an example."
   ]
  },
  {
   "cell_type": "code",
   "execution_count": 23,
   "id": "4b7e2ced-cc05-4192-aa73-da99ff8abfe2",
   "metadata": {},
   "outputs": [],
   "source": [
    "class Example:\n",
    "    def __init__(self):\n",
    "        print('These is an example for init constructor')"
   ]
  },
  {
   "cell_type": "code",
   "execution_count": 24,
   "id": "c832afbb-660d-4a66-a654-647b051bc029",
   "metadata": {},
   "outputs": [
    {
     "name": "stdout",
     "output_type": "stream",
     "text": [
      "These is an example for init constructor\n"
     ]
    }
   ],
   "source": [
    "example = Example()"
   ]
  },
  {
   "cell_type": "code",
   "execution_count": 25,
   "id": "d1c5f1c3-5b1d-408b-b936-29a274f2cc4a",
   "metadata": {},
   "outputs": [],
   "source": [
    "class Person:\n",
    "    def __init__(self, name, age):\n",
    "        self.name = name\n",
    "        self.age = age\n",
    "    def name(self):\n",
    "        return self.name\n",
    "    def age(self):\n",
    "        return self.age"
   ]
  },
  {
   "cell_type": "code",
   "execution_count": 27,
   "id": "f9b6ba5a-c5cb-4336-ac30-243213529f0a",
   "metadata": {},
   "outputs": [
    {
     "data": {
      "text/plain": [
       "30"
      ]
     },
     "execution_count": 27,
     "metadata": {},
     "output_type": "execute_result"
    }
   ],
   "source": [
    "person = Person('Manish', 30)\n",
    "person.age"
   ]
  },
  {
   "cell_type": "code",
   "execution_count": 28,
   "id": "ec3963d3-1f0e-489f-9e49-26f5b1796a33",
   "metadata": {},
   "outputs": [
    {
     "data": {
      "text/plain": [
       "'Manish'"
      ]
     },
     "execution_count": 28,
     "metadata": {},
     "output_type": "execute_result"
    }
   ],
   "source": [
    "person.name"
   ]
  },
  {
   "cell_type": "markdown",
   "id": "59700c60-a70c-4852-b117-b87baec50b73",
   "metadata": {},
   "source": [
    "a. First Example: \n",
    "1. Create a class called Example\n",
    "2. Inside the class we define one constructor inside the constructor it will initialised at the time of object creation inside the class in the first example we have clearly seen that.\n",
    "\n",
    "b. Second Example:\n",
    "1. Create a class called Person\n",
    "2. Inside the person class we have created a constructor which takes two arguments first is name and second one is age \n",
    "3. Inside the constructor we have created a attributes i.e. self.name and self.age\n",
    "4. We have created a method called as name it will return the attributes the name of the person\n",
    "5. We have created another method called age it will return the attributes the age of the person\n",
    "6. Print the result "
   ]
  },
  {
   "cell_type": "markdown",
   "id": "36f8d380-39e7-441a-bf6a-faa3482a3d82",
   "metadata": {},
   "source": [
    "7. What is the significance of the `self` parameter in Python constructors? Explain with an example."
   ]
  },
  {
   "cell_type": "code",
   "execution_count": 30,
   "id": "202a8dee-f257-43c9-83cf-9c950cca2037",
   "metadata": {},
   "outputs": [],
   "source": [
    "class Person:\n",
    "    def __init__(self, name):\n",
    "        self.name = name\n",
    "    def get_person_name(self):\n",
    "        return self.name"
   ]
  },
  {
   "cell_type": "code",
   "execution_count": 31,
   "id": "4442e24a-01dc-4103-a6a3-e2af901927ee",
   "metadata": {},
   "outputs": [],
   "source": [
    "john = Person('John')"
   ]
  },
  {
   "cell_type": "code",
   "execution_count": 32,
   "id": "5bb35782-3a32-41cf-b12e-587097db4593",
   "metadata": {},
   "outputs": [
    {
     "data": {
      "text/plain": [
       "'John'"
      ]
     },
     "execution_count": 32,
     "metadata": {},
     "output_type": "execute_result"
    }
   ],
   "source": [
    "john.get_person_name()"
   ]
  },
  {
   "cell_type": "markdown",
   "id": "898839c8-f4c5-4809-a70e-1e5d5e17628f",
   "metadata": {},
   "source": [
    "1. In the above example, self refers to the name variable of the entire Person class. \n",
    "1. Here, if we have a variable within a method, self will not work. \n",
    "3. That variable is simply existent only while that method is running and hence, is local to that method.\n",
    "4. For defining global fields or the variables of the complete class, we need to define them outside the class methods."
   ]
  },
  {
   "cell_type": "markdown",
   "id": "fea69edb-b128-4425-b014-fd6a4941370b",
   "metadata": {},
   "source": [
    "8. Discuss the concept of default constructors in Python. When are they used?"
   ]
  },
  {
   "cell_type": "code",
   "execution_count": 33,
   "id": "def54500-d30d-4fd2-b228-69587958831f",
   "metadata": {},
   "outputs": [],
   "source": [
    "class Name:\n",
    "    def __init__(self):\n",
    "        self.name = 'Python'\n",
    "    def read_name(self):\n",
    "        return self.name"
   ]
  },
  {
   "cell_type": "code",
   "execution_count": 34,
   "id": "2f99bbbb-7bff-4a9c-9f84-da307501cdfb",
   "metadata": {},
   "outputs": [
    {
     "data": {
      "text/plain": [
       "'Python'"
      ]
     },
     "execution_count": 34,
     "metadata": {},
     "output_type": "execute_result"
    }
   ],
   "source": [
    "name = Name()\n",
    "name.read_name()"
   ]
  },
  {
   "cell_type": "code",
   "execution_count": 35,
   "id": "5af1a7ec-9b78-4b48-83e3-463e84a20ad1",
   "metadata": {},
   "outputs": [],
   "source": [
    "class Name:\n",
    "    def __init__(self, name):\n",
    "        self.name = name \n",
    "    def read_name(self):\n",
    "        return self.name"
   ]
  },
  {
   "cell_type": "code",
   "execution_count": 36,
   "id": "c20fa2f9-3d39-4c09-8b12-4267deda0b6e",
   "metadata": {},
   "outputs": [],
   "source": [
    "name = Name('Python')"
   ]
  },
  {
   "cell_type": "code",
   "execution_count": 37,
   "id": "84a2d75b-8f00-472c-aa9f-151a2eb5e996",
   "metadata": {},
   "outputs": [
    {
     "data": {
      "text/plain": [
       "'Python'"
      ]
     },
     "execution_count": 37,
     "metadata": {},
     "output_type": "execute_result"
    }
   ],
   "source": [
    "name.read_name()"
   ]
  },
  {
   "cell_type": "markdown",
   "id": "3e3e0e45-c2c3-4b77-89ac-09bf4666427e",
   "metadata": {},
   "source": [
    "a. Non-Parameterized Constructor: A non-parameterized constructor is a constructor that does not take any arguments.for e.g\n",
    "1. Create a class called name \n",
    "2. Inside the class we have created constructor which does not take any arguments \n",
    "3. At the time calling that module we donot need any arguments to create a class\n",
    "\n",
    "b. Parameterized Constructor: A parameterized constructor is a constructor that takes one or more arguments. It is used to create an object with custom values for its attributes.\n",
    "1. Create a class called name \n",
    "2. Inside the class we have created constructor which does take arguments \n",
    "3. At the time calling that module we do need an arguments to create a class "
   ]
  },
  {
   "cell_type": "markdown",
   "id": "0814baf7-5d55-4b8f-8222-1f01ea6ae986",
   "metadata": {},
   "source": [
    "9. Create a Python class called `Rectangle` with a constructor that initializes the `width` and `height`\n",
    "attributes. Provide a method to calculate the area of the rectangle."
   ]
  },
  {
   "cell_type": "code",
   "execution_count": 38,
   "id": "2450c65f-7c6c-4a47-a525-ad21f2c187d6",
   "metadata": {},
   "outputs": [],
   "source": [
    "class Rectangle:\n",
    "    def __init__(self,width, height):\n",
    "        self.width = width\n",
    "        self.height = height \n",
    "    def calculate_area(self):\n",
    "        return self.width * self.height"
   ]
  },
  {
   "cell_type": "code",
   "execution_count": 39,
   "id": "ccf94931-08ce-498d-9a31-6cacce79fd92",
   "metadata": {},
   "outputs": [],
   "source": [
    "rectangle = Rectangle(5, 6)"
   ]
  },
  {
   "cell_type": "code",
   "execution_count": 40,
   "id": "d67d664e-f962-4109-9ab7-2cf38130abaa",
   "metadata": {},
   "outputs": [
    {
     "data": {
      "text/plain": [
       "30"
      ]
     },
     "execution_count": 40,
     "metadata": {},
     "output_type": "execute_result"
    }
   ],
   "source": [
    "rectangle.calculate_area()"
   ]
  },
  {
   "cell_type": "markdown",
   "id": "f8bf1206-8289-4a9d-925f-597bfe11a832",
   "metadata": {},
   "source": [
    "1. Create class called as Rectangle\n",
    "2. Create a constructor inside the constructor we have given the two parameters width snd height of the rectangle\n",
    "3. Create a method called calculate area which will return the area of rectangle\n",
    "4. Print the result "
   ]
  },
  {
   "cell_type": "markdown",
   "id": "8abfcb7a-ebe0-42e8-9a82-a70e9c6a9141",
   "metadata": {},
   "source": [
    "10. How can you have multiple constructors in a Python class? Explain with an example."
   ]
  },
  {
   "cell_type": "code",
   "execution_count": 58,
   "id": "4ab8a89c-31d3-4961-aa92-90a50fd5b30d",
   "metadata": {},
   "outputs": [],
   "source": [
    "class abc:\n",
    "    def __init__(self, name=None):\n",
    "        if name:\n",
    "            print(\"Hello\", name)\n",
    "        else:\n",
    "            print(\"Default Constructor\")"
   ]
  },
  {
   "cell_type": "code",
   "execution_count": 59,
   "id": "3860ec5d-e40a-42ae-ad45-f0579ac2b42b",
   "metadata": {},
   "outputs": [
    {
     "name": "stdout",
     "output_type": "stream",
     "text": [
      "Hello John\n",
      "Default Constructor\n"
     ]
    }
   ],
   "source": [
    "obj1 =abc(\"John\")\n",
    "obj2 =abc()"
   ]
  },
  {
   "cell_type": "markdown",
   "id": "b7daefa7-c453-4be7-899d-ab8530545c6f",
   "metadata": {},
   "source": [
    "1. Create a class called abc\n",
    "2. Inside the class we have creted which takes one argument set them as none \n",
    "3. Inside the constructor we have mentioned the conditional statement the if the name is there then print the hello plus name and if the name is not there then print the default constructor\n",
    "4. Print the result"
   ]
  },
  {
   "cell_type": "markdown",
   "id": "d58642fe-82f9-440d-910d-124b40aed882",
   "metadata": {},
   "source": [
    "11. What is method overloading, and how is it related to constructors in Python?"
   ]
  },
  {
   "cell_type": "code",
   "execution_count": 60,
   "id": "23debd35-6c30-427f-8a46-5e86f321215e",
   "metadata": {},
   "outputs": [],
   "source": [
    "class abc:\n",
    "    def __init__(self, name=None):\n",
    "        if name:\n",
    "            print(\"Hello\", name)\n",
    "        else:\n",
    "            print(\"Default Constructor\")"
   ]
  },
  {
   "cell_type": "code",
   "execution_count": 61,
   "id": "67d0eb7f-dbb7-4347-94d5-2d00bb55ff4b",
   "metadata": {},
   "outputs": [
    {
     "name": "stdout",
     "output_type": "stream",
     "text": [
      "Hello John\n",
      "Default Constructor\n"
     ]
    }
   ],
   "source": [
    "obj1 =abc(\"John\")\n",
    "obj2 =abc()"
   ]
  },
  {
   "cell_type": "markdown",
   "id": "c5b423cd-730e-44f2-b7ad-54b9617f2d84",
   "metadata": {},
   "source": [
    "1. Create a class called abc\n",
    "2. Inside the class we have creted which takes one argument set them as none \n",
    "3. Inside the constructor we have mentioned the conditional statement the if the name is there then print the hello plus name and if the name is not there then print the default constructor\n",
    "4. Print the result"
   ]
  },
  {
   "cell_type": "markdown",
   "id": "c5dbaad1-75d2-42c4-9924-954250481913",
   "metadata": {},
   "source": [
    "12. Explain the use of the `super()` function in Python constructors. Provide an example."
   ]
  },
  {
   "cell_type": "code",
   "execution_count": 126,
   "id": "b28fb5aa-59f0-43c0-a744-a1fdc92d4263",
   "metadata": {},
   "outputs": [],
   "source": [
    "class Person:\n",
    "    def __init__(self,name):\n",
    "        self.name = name\n",
    "class Student(Person):\n",
    "    def __init__(self,name, age):\n",
    "        super().__init__(name)\n",
    "        self.age = age\n",
    "    def display(self):\n",
    "        print(self.name,self.age)"
   ]
  },
  {
   "cell_type": "code",
   "execution_count": 127,
   "id": "edcae1da-761c-4ae2-a5b9-94914dee2c4e",
   "metadata": {},
   "outputs": [],
   "source": [
    "person = Person('Manish')"
   ]
  },
  {
   "cell_type": "code",
   "execution_count": 128,
   "id": "952edbd9-0f88-4ee0-88f9-acabef952434",
   "metadata": {},
   "outputs": [
    {
     "name": "stdout",
     "output_type": "stream",
     "text": [
      "Manoj 29\n"
     ]
    }
   ],
   "source": [
    "student = Student('Manoj',29)\n",
    "student.display()"
   ]
  },
  {
   "cell_type": "markdown",
   "id": "b9a92577-b87a-4e2d-acfb-75cfd9c68082",
   "metadata": {},
   "source": [
    "In Python, the super() function is used to refer to the parent class or superclass. It allows you to call methods defined in the superclass from the subclass, enabling you to extend and customize the functionality inherited from the parent class.\n",
    "1. In the example we have created class called person\n",
    "2. Inside the person we have created constructor which takes the person name and age of the person\n",
    "3. Inside that class we have created one method called as display which display the person age and name\n",
    "4. We have created the another class called as student\n",
    "5. Inside the class we have created an constructor which takes two arguments name and age\n",
    "6. Inside these constructor we have used the super class to inherit the variable age \n",
    "7. Print the result"
   ]
  },
  {
   "cell_type": "markdown",
   "id": "1ca4bb48-45c0-4732-aec5-ef51404ca732",
   "metadata": {},
   "source": [
    "13. Create a class called `Book` with a constructor that initializes the `title`, `author`, and `published_year`\n",
    "attributes. Provide a method to display book details."
   ]
  },
  {
   "cell_type": "code",
   "execution_count": 1,
   "id": "bb238dae-5154-40dd-ac04-2046863029bb",
   "metadata": {},
   "outputs": [],
   "source": [
    "class Book:\n",
    "    def __init__(self, title, author, published_year):\n",
    "        self.title = title\n",
    "        self.author = author\n",
    "        self.published_year = published_year\n",
    "    def display_details(self):\n",
    "        return f'Title : {self.title}, Author Name: {self.author}, Published Year: {self.published_year}'\n",
    "        "
   ]
  },
  {
   "cell_type": "code",
   "execution_count": 2,
   "id": "4efb4ae6-08a6-4f6d-a9e7-bd9e12db862b",
   "metadata": {},
   "outputs": [],
   "source": [
    "book = Book('Harry Potter', 'J.K Rowlings', 2001)"
   ]
  },
  {
   "cell_type": "code",
   "execution_count": 4,
   "id": "f0f6c95d-46cc-46a6-b22c-c264f360dad8",
   "metadata": {},
   "outputs": [
    {
     "data": {
      "text/plain": [
       "'Title : Harry Potter, Author Name: J.K Rowlings, Published Year: 2001'"
      ]
     },
     "execution_count": 4,
     "metadata": {},
     "output_type": "execute_result"
    }
   ],
   "source": [
    "book.display_details()"
   ]
  },
  {
   "cell_type": "markdown",
   "id": "85d3fbed-94e0-42f6-8f1d-d6cad35ffa3f",
   "metadata": {},
   "source": [
    "1. Create a class called Book\n",
    "2. Inside the book class we have created constructor which takes three arguments to initiallized\n",
    "3. The first one is title which takes input as string, the second one is author which also takes input as string and also the published year will the input as integer\n",
    "4. Create a method called display details which display the details of the book "
   ]
  },
  {
   "cell_type": "markdown",
   "id": "b4aae8f3-4442-4b4e-a946-252cd45f83c7",
   "metadata": {},
   "source": [
    "14. Discuss the differences between constructors and regular methods in Python classes."
   ]
  },
  {
   "cell_type": "code",
   "execution_count": 5,
   "id": "e0dfad81-b220-4578-ad3a-851479dbfd99",
   "metadata": {},
   "outputs": [],
   "source": [
    "class Book:\n",
    "    def __init__(self, title, author, published_year):\n",
    "        self.title = title\n",
    "        self.author = author\n",
    "        self.published_year = published_year\n",
    "    def display_details(self):\n",
    "        return f'Title : {self.title}, Author Name: {self.author}, Published Year: {self.published_year}'"
   ]
  },
  {
   "cell_type": "code",
   "execution_count": 6,
   "id": "0c22682d-2a27-4a1e-8714-cd96e43adf7a",
   "metadata": {},
   "outputs": [
    {
     "data": {
      "text/plain": [
       "'Title : Harry Potter, Author Name: J.K Rowlings, Published Year: 2001'"
      ]
     },
     "execution_count": 6,
     "metadata": {},
     "output_type": "execute_result"
    }
   ],
   "source": [
    "book = Book('Harry Potter', 'J.K Rowlings', 2001)\n",
    "book.display_details()"
   ]
  },
  {
   "cell_type": "markdown",
   "id": "d30712ff-ff8b-4720-92f0-4cbb0781f0ce",
   "metadata": {},
   "source": [
    "a. Constructor:\t\n",
    "1. constructor helps in initialising an object\n",
    "2. The new keyword plays a critical role in calling the constructor.\n",
    "3. It does not have a return type.\n",
    "4. A class has the ability to have several constructors with different parameters\n",
    "5. It can’t be inherited by subclasses.\n",
    "\n",
    "b. Method:\n",
    "1. A Method is a grouping of instructions that returns a value upon its execution.\n",
    "2. Method calls play a critical role in invoking methods.\n",
    "3. It has a return type\n",
    "4. A class has the ability to have several methods with different parameters.\n",
    "5. It can be inherited by subclasses"
   ]
  },
  {
   "cell_type": "markdown",
   "id": "dbc181a5-481c-4349-9237-cc4687cf36ef",
   "metadata": {},
   "source": [
    "15. Explain the role of the `self` parameter in instance variable initialization within a constructor."
   ]
  },
  {
   "cell_type": "code",
   "execution_count": 7,
   "id": "7aa0d440-bd49-49fe-ae02-e1e88958a5c3",
   "metadata": {},
   "outputs": [],
   "source": [
    "class Car: \n",
    "    def __init__(self, model): \n",
    "        self.model = model \n",
    "    def Car_info(self): \n",
    "        print(\"Model : \", self.model)"
   ]
  },
  {
   "cell_type": "code",
   "execution_count": 8,
   "id": "aeed4713-7d83-4220-9855-76ed95ef60cc",
   "metadata": {},
   "outputs": [],
   "source": [
    "car = Car('S-Class')"
   ]
  },
  {
   "cell_type": "code",
   "execution_count": 10,
   "id": "96942de2-a965-4149-813c-a9cc6ab21f1e",
   "metadata": {},
   "outputs": [
    {
     "name": "stdout",
     "output_type": "stream",
     "text": [
      "Model :  S-Class\n"
     ]
    }
   ],
   "source": [
    "car.Car_info()"
   ]
  },
  {
   "cell_type": "markdown",
   "id": "b61ee976-08d6-4fda-ad73-5c7413260222",
   "metadata": {},
   "source": [
    "The self variable is used to represent the instance of the class which is often used in object-oriented programming. It works as a reference to the object. Python uses the self parameter to refer to instance attributes and methods of the class.  \n",
    "\n",
    "1. Here, we have declared a class Car with one instance variable self.model = model. \n",
    "2. The value of the instance variable will be unique to the instance objects of the class that might be declared.\n",
    "3. However, if you want the variables to be shared by all instances of the class, you need to declare the instance variables without self. \n",
    "4. Otherwise, it would be ambiguous since all cars will have the same model. "
   ]
  },
  {
   "cell_type": "markdown",
   "id": "0cb80fe9-4a27-47a8-aa81-f91f4d70fe80",
   "metadata": {},
   "source": [
    "16. How do you prevent a class from having multiple instances by using constructors in Python? Provide an\n",
    "example."
   ]
  },
  {
   "cell_type": "code",
   "execution_count": 11,
   "id": "cb0b33c0-ccb6-4c92-b21b-c88707871f98",
   "metadata": {},
   "outputs": [],
   "source": [
    "class abc:\n",
    "    def __init__(self, name=None):\n",
    "        if name:\n",
    "            print(\"Hello\", name)\n",
    "        else:\n",
    "            print(\"Default Constructor\")"
   ]
  },
  {
   "cell_type": "code",
   "execution_count": 12,
   "id": "cdbb740f-793d-4b04-990a-9ef2749e6d92",
   "metadata": {},
   "outputs": [
    {
     "name": "stdout",
     "output_type": "stream",
     "text": [
      "Hello John\n",
      "Default Constructor\n"
     ]
    }
   ],
   "source": [
    "obj1 =abc(\"John\")\n",
    "obj2 =abc()"
   ]
  },
  {
   "cell_type": "markdown",
   "id": "060cdea2-4f77-4133-8aaf-51f2231aab55",
   "metadata": {},
   "source": [
    "1. Create a class called abc\n",
    "2. Inside the class we have creted which takes one argument set them as none \n",
    "3. Inside the constructor we have mentioned the conditional statement the if the name is there then print the hello plus name and if the name is not there then print the default constructor\n",
    "4. Print the result"
   ]
  },
  {
   "cell_type": "markdown",
   "id": "65418342-b19c-4529-b49a-5ab94f50c950",
   "metadata": {},
   "source": [
    "17. Create a Python class called `Student` with a constructor that takes a list of subjects as a parameter and\n",
    "initializes the `subjects` attribute."
   ]
  },
  {
   "cell_type": "code",
   "execution_count": 13,
   "id": "ec716a9a-6e00-4204-8255-25d05ffc7545",
   "metadata": {},
   "outputs": [],
   "source": [
    "class Student:\n",
    "    def __init__(self, subject):\n",
    "        self.subject = subject\n",
    "    def subjects(self):\n",
    "        return self.subject"
   ]
  },
  {
   "cell_type": "code",
   "execution_count": 14,
   "id": "4e2a23e6-7ecb-4604-83b4-a901f039c0f3",
   "metadata": {},
   "outputs": [],
   "source": [
    "manish = Student(['English', 'Maths', 'History', 'Geography', 'Science'])"
   ]
  },
  {
   "cell_type": "code",
   "execution_count": 15,
   "id": "658a9cdd-f3f3-4018-a545-b15cc6dcfce6",
   "metadata": {},
   "outputs": [
    {
     "data": {
      "text/plain": [
       "['English', 'Maths', 'History', 'Geography', 'Science']"
      ]
     },
     "execution_count": 15,
     "metadata": {},
     "output_type": "execute_result"
    }
   ],
   "source": [
    "manish.subjects()"
   ]
  },
  {
   "cell_type": "markdown",
   "id": "94063da9-147d-47d1-b40a-bfd6812e2e30",
   "metadata": {},
   "source": [
    "1. Create a class called student\n",
    "2. Create a constructor which takes the parameter subject which is taking the list of subjects\n",
    "3. Create a method called subject which will return the list of subjects\n",
    "4. Print the results"
   ]
  },
  {
   "cell_type": "markdown",
   "id": "809cc24f-dd25-4907-b7e8-39865c80c2b7",
   "metadata": {},
   "source": [
    "18. What is the purpose of the `__del__` method in Python classes, and how does it relate to constructors?"
   ]
  },
  {
   "cell_type": "code",
   "execution_count": 16,
   "id": "8c4b6345-d94b-4c39-ab1e-3535439f1c9c",
   "metadata": {},
   "outputs": [],
   "source": [
    "class Student:\n",
    "    def __init__(self):\n",
    "        print('Student table created.')\n",
    "    def __del__(self):\n",
    "        print('Destructor called, Student table deleted.')\n"
   ]
  },
  {
   "cell_type": "code",
   "execution_count": 24,
   "id": "f1537e60-0b39-4ce8-bab4-f3fb979fd33f",
   "metadata": {},
   "outputs": [
    {
     "name": "stdout",
     "output_type": "stream",
     "text": [
      "Student table created.\n"
     ]
    }
   ],
   "source": [
    "student = Student()"
   ]
  },
  {
   "cell_type": "code",
   "execution_count": 25,
   "id": "a33cbf4c-5115-45a4-ba4d-99b8ed6e7415",
   "metadata": {},
   "outputs": [
    {
     "name": "stdout",
     "output_type": "stream",
     "text": [
      "Destructor called, Student table deleted.\n"
     ]
    }
   ],
   "source": [
    "del student"
   ]
  },
  {
   "cell_type": "markdown",
   "id": "31a375d7-c2e7-41bc-b909-6fc200e74016",
   "metadata": {},
   "source": [
    "In Python, the __del__() method is referred to as a destructor method. It is called after an object’s garbage collection occurs, which happens after all references to the item have been destroyed.\n",
    "1. In the above example we created a class called student \n",
    "2. Inside the class we created a constructor which intilliaze at the time of object creation\n",
    "3. Inside the class we have also created a destructor which is use to destroy the object creation inside the class\n",
    "4. Print the result"
   ]
  },
  {
   "cell_type": "markdown",
   "id": "3b9e53b4-1394-4770-ac52-d84b746a3edf",
   "metadata": {},
   "source": [
    "19. Explain the use of constructor chaining in Python. Provide a practical example."
   ]
  },
  {
   "cell_type": "code",
   "execution_count": 27,
   "id": "14f593a2-c249-443d-851e-7ca2ddee95c8",
   "metadata": {},
   "outputs": [
    {
     "name": "stdout",
     "output_type": "stream",
     "text": [
      "Inside Vehicle Constructor\n",
      "Inside Car Constructor\n",
      "Inside Electric Car Constructor\n",
      "Engine=1500cc, Max Speed=240, Km range=750\n"
     ]
    }
   ],
   "source": [
    "class Vehicle:\n",
    "    def __init__(self, engine):\n",
    "        print('Inside Vehicle Constructor')\n",
    "        self.engine = engine\n",
    "\n",
    "class Car(Vehicle):\n",
    "    def __init__(self, engine, max_speed):\n",
    "        super().__init__(engine)\n",
    "        print('Inside Car Constructor')\n",
    "        self.max_speed = max_speed\n",
    "\n",
    "class Electric_Car(Car):\n",
    "    def __init__(self, engine, max_speed, km_range):\n",
    "        super().__init__(engine, max_speed)\n",
    "        print('Inside Electric Car Constructor')\n",
    "        self.km_range = km_range\n",
    "\n",
    "ev = Electric_Car('1500cc', 240, 750)\n",
    "print(f'Engine={ev.engine}, Max Speed={ev.max_speed}, Km range={ev.km_range}')"
   ]
  },
  {
   "cell_type": "markdown",
   "id": "b9561255-db0b-49c4-bcea-4a54bbc7f51f",
   "metadata": {},
   "source": [
    "1. Constructors are used for instantiating an object. The task of the constructor is to assign value to data members when an object of the class is created.\n",
    "2. Constructor chaining is the process of calling one constructor from another constructor. \n",
    "3. Constructor chaining is useful when you want to invoke multiple constructors, one after another, by initializing only one instance.\n",
    "4. In Python, constructor chaining is convenient when we are dealing with inheritance. \n",
    "5. When an instance of a child class is initialized, the constructors of all the parent classes are first invoked and then, in the end, the constructor of the child class is invoked.\n",
    "6. Using the super() method we can invoke the parent class constructor from a child class."
   ]
  },
  {
   "cell_type": "markdown",
   "id": "dee628e6-6a9f-476e-9053-37d0c5d45b5e",
   "metadata": {},
   "source": [
    "20. Create a Python class called `Car` with a default constructor that initializes the `make` and `model`\n",
    "attributes. Provide a method to display car information."
   ]
  },
  {
   "cell_type": "code",
   "execution_count": 28,
   "id": "a86a2630-b771-4777-a75b-6ed7e11e9b0f",
   "metadata": {},
   "outputs": [],
   "source": [
    "class Car:\n",
    "    def __init__(self, make, model):\n",
    "        self.make = make\n",
    "        self.model = model\n",
    "    def display_car_info(self):\n",
    "        return f'Make : {self.make}, Model: {self.model}'"
   ]
  },
  {
   "cell_type": "code",
   "execution_count": 29,
   "id": "bcf28366-6c5a-4f1c-80b0-27c490e95e9a",
   "metadata": {},
   "outputs": [],
   "source": [
    "car = Car('Audi', 'A8')"
   ]
  },
  {
   "cell_type": "code",
   "execution_count": 30,
   "id": "dd86e034-09b9-4d6a-be2d-938a81574df4",
   "metadata": {},
   "outputs": [
    {
     "data": {
      "text/plain": [
       "'Make : Audi, Model: A8'"
      ]
     },
     "execution_count": 30,
     "metadata": {},
     "output_type": "execute_result"
    }
   ],
   "source": [
    "car.display_car_info()"
   ]
  },
  {
   "cell_type": "markdown",
   "id": "7b42ba42-f863-41bd-896f-4d9d54a3fb11",
   "metadata": {},
   "source": [
    "1. Create a class called Car\n",
    "2. Inside the class we define the constructor which takes the two arguments of the cars one is  make and another one is model\n",
    "3. Create a method inside the car class which is called as display_car_info which display the information of an car\n",
    "4. Print the result"
   ]
  },
  {
   "cell_type": "markdown",
   "id": "9cfeb3da-4d64-4557-9680-73033f5cc6ff",
   "metadata": {},
   "source": [
    "# Inheritance"
   ]
  },
  {
   "cell_type": "markdown",
   "id": "a75ee53f-4faf-44db-a689-d0693cc02c9d",
   "metadata": {},
   "source": [
    "1. What is inheritance in Python? Explain its significance in object-oriented programming."
   ]
  },
  {
   "cell_type": "code",
   "execution_count": 1,
   "id": "fbef8a97-778a-4b4c-a531-161b08838bf6",
   "metadata": {},
   "outputs": [],
   "source": [
    "class Person:\n",
    "    def __init__(self, name, age):\n",
    "        self.name = name \n",
    "        self.age = age\n",
    "class Student(Person):\n",
    "    def details(self):\n",
    "        return f'Name: {self.name}, Age: {self.age}'"
   ]
  },
  {
   "cell_type": "code",
   "execution_count": 2,
   "id": "621e7c4b-2635-46bd-bbe1-20ec0750b396",
   "metadata": {},
   "outputs": [],
   "source": [
    "manish = Person('Manish', 20)"
   ]
  },
  {
   "cell_type": "code",
   "execution_count": 4,
   "id": "80b5125c-aa85-432f-a485-58a2c60c4d2b",
   "metadata": {},
   "outputs": [],
   "source": [
    "manoj = Student('Manoj', 29)"
   ]
  },
  {
   "cell_type": "code",
   "execution_count": 5,
   "id": "1c26ed0b-83fc-4bb9-acc7-49005d54f8a1",
   "metadata": {},
   "outputs": [
    {
     "data": {
      "text/plain": [
       "'Name: Manoj, Age: 29'"
      ]
     },
     "execution_count": 5,
     "metadata": {},
     "output_type": "execute_result"
    }
   ],
   "source": [
    "manoj.details()"
   ]
  },
  {
   "cell_type": "markdown",
   "id": "13dc75b4-cd65-43fa-9298-ef47f7e20244",
   "metadata": {},
   "source": [
    "1. Inheritance is the concept in OOPs in which one class inherits the attributes and methods of another class. \n",
    "2. The class whose properties and methods are inherited is known as the Parent class. \n",
    "3. And the class that inherits the properties from the parent class is the Child class.\n",
    "4. In the above example we create a class called person in which we have created a constructor which takes two arguments at the time of object creation\n",
    "5. It will take the person age and person in that argument\n",
    "6. We have created another class called Student which inherits from the person class and takes two arguments as name and age of the student \n",
    "7. Also we created a method inside the student class details which will show the details of the student \n",
    "8. Print the result"
   ]
  },
  {
   "cell_type": "markdown",
   "id": "66bda58c-63cf-4fb8-b621-03e86f295817",
   "metadata": {},
   "source": [
    "2. Differentiate between single inheritance and multiple inheritance in Python. Provide examples for each."
   ]
  },
  {
   "cell_type": "code",
   "execution_count": 23,
   "id": "d95a2e30-05fa-4379-89de-1135914dbb0e",
   "metadata": {},
   "outputs": [],
   "source": [
    "# Single Inheritance\n",
    "class Parent:\n",
    "    def __init__(self,mother, father):\n",
    "        self.mother = mother\n",
    "        self.father = father\n",
    "class Child(Parent):\n",
    "    def __init__(self, son, mother, father):\n",
    "        self.son = son\n",
    "        Parent.__init__(self,mother, father)\n",
    "    def details(self):\n",
    "        print(f' Mother Name : {self.mother}')\n",
    "        print(f' Father Name : {self.father}')\n",
    "        print(f' Child Name : {self.son}')"
   ]
  },
  {
   "cell_type": "code",
   "execution_count": 24,
   "id": "d6a7f1af-ec46-4d5d-8dfe-f9ef5d8be5af",
   "metadata": {},
   "outputs": [],
   "source": [
    "parent = Parent('Neeta', 'Vibhuti')"
   ]
  },
  {
   "cell_type": "code",
   "execution_count": 25,
   "id": "1c969765-a681-421d-bbb2-85d3da800539",
   "metadata": {},
   "outputs": [],
   "source": [
    "child = Child('Rajesh', 'Neeta', 'Vibhuti')"
   ]
  },
  {
   "cell_type": "code",
   "execution_count": 26,
   "id": "5de911e8-1799-41f4-90ea-d6de343d9505",
   "metadata": {},
   "outputs": [
    {
     "name": "stdout",
     "output_type": "stream",
     "text": [
      " Mother Name : Neeta\n",
      " Father Name : Vibhuti\n",
      " Child Name : Rajesh\n"
     ]
    }
   ],
   "source": [
    "child.details()"
   ]
  },
  {
   "cell_type": "code",
   "execution_count": 27,
   "id": "6264406a-fbcf-49bd-b04b-4ef6a2c92bc0",
   "metadata": {},
   "outputs": [],
   "source": [
    "# Multiple Inheritance\n",
    "class Mother:\n",
    "    mothername = \"\"\n",
    " \n",
    "    def mother(self):\n",
    "        print(self.mothername)\n",
    "class Father:\n",
    "    fathername = \"\"\n",
    " \n",
    "    def father(self):\n",
    "        print(self.fathername)\n",
    " \n",
    " \n",
    "class Son(Mother, Father):\n",
    "    def parents(self):\n",
    "        print(\"Father :\", self.fathername)\n",
    "        print(\"Mother :\", self.mothername)\n"
   ]
  },
  {
   "cell_type": "code",
   "execution_count": 29,
   "id": "ddd86df9-caea-4d41-8919-6e72b6789cc5",
   "metadata": {},
   "outputs": [
    {
     "name": "stdout",
     "output_type": "stream",
     "text": [
      "Father : Rajesh\n",
      "Mother : Neeta\n"
     ]
    }
   ],
   "source": [
    "s1 = Son()\n",
    "s1.fathername = \"Rajesh\"\n",
    "s1.mothername = \"Neeta\"\n",
    "s1.parents()"
   ]
  },
  {
   "cell_type": "markdown",
   "id": "1f35e2cf-403d-4a38-b1ea-b2ef4da80f23",
   "metadata": {},
   "source": [
    "a. Single Inheritance: Single inheritance can be referred to as the most basic inheritance of all types of inheritance in python. As the name suggests in this we derive a single base class from the single parent class or the existing class. The child class will take or inherit all the attributes of the parent class. It can also add its own methods and attributes or override the methods of the parent class.\n",
    "\n",
    "b. Multiple Inheritance : Multiple inheritance is a type of inheritance in which a new class is derived from two or more existing classes. We can say that there is a single-child class and there are two or more parent classes. The new class inherits all the attributes and methods of the parent classes. The child class can access all the attributes and methods of both parent classes.\n",
    "\n"
   ]
  },
  {
   "cell_type": "markdown",
   "id": "ae91fa95-e012-4e06-93ca-94e51c511c7d",
   "metadata": {},
   "source": [
    "3. Create a Python class called `Vehicle` with attributes `color` and `speed`. Then, create a child class called\n",
    "`Car` that inherits from `Vehicle` and adds a `brand` attribute. Provide an example of creating a `Car` object."
   ]
  },
  {
   "cell_type": "code",
   "execution_count": 1,
   "id": "56a49045-a594-4f28-a5d3-4c983f75bb76",
   "metadata": {},
   "outputs": [],
   "source": [
    "class Vehicle:\n",
    "    def __init__(self, color, speed):\n",
    "        self.color = color\n",
    "        self.speed = speed\n",
    "class Car(Vehicle):\n",
    "    def __init__(self,color, speed, brand):\n",
    "        super().__init__(color, speed)\n",
    "        self.brand = brand\n",
    "    def details(self):\n",
    "        return f'Brand : {self.brand}, Color : {self.color}, Speed : {self.speed}'\n",
    "    "
   ]
  },
  {
   "cell_type": "code",
   "execution_count": 2,
   "id": "c2179f0c-5f2c-4c9e-bdac-28f1cb794070",
   "metadata": {},
   "outputs": [],
   "source": [
    "car = Car('Red', '300 kmph', 'Audi')"
   ]
  },
  {
   "cell_type": "code",
   "execution_count": 3,
   "id": "999f42a7-ca2f-477c-9679-dbf9d1485c13",
   "metadata": {},
   "outputs": [
    {
     "data": {
      "text/plain": [
       "'Brand : Audi, Color : Red, Speed : 300 kmph'"
      ]
     },
     "execution_count": 3,
     "metadata": {},
     "output_type": "execute_result"
    }
   ],
   "source": [
    "car.details()"
   ]
  },
  {
   "cell_type": "markdown",
   "id": "47ec9501-9a5b-49fa-9c86-0fcad249d6bd",
   "metadata": {},
   "source": [
    "1. Create a class called vehicle \n",
    "2. Inside the class we have created a constructor which is taking two arguments color and speed\n",
    "3. Create another class called as Car which is inherit from the class Vehicle inside the car class we created a constructor which takes three arguments color speed and brand of the car\n",
    "4. We use the super() class to initialize the value directly from the Vehicle class\n",
    "5. Inside the Car class we have created a method called details which gives the details of the Car"
   ]
  },
  {
   "cell_type": "markdown",
   "id": "982a4382-1333-4adb-9c01-d243b94e5ca9",
   "metadata": {},
   "source": [
    "4. Explain the concept of method overriding in inheritance. Provide a practical example."
   ]
  },
  {
   "cell_type": "code",
   "execution_count": 9,
   "id": "94dd583a-305e-4544-9b71-24c4e4284610",
   "metadata": {},
   "outputs": [],
   "source": [
    "class Person:\n",
    "    def __init__(self, name, age):\n",
    "        self.name = name \n",
    "        self.age = age\n",
    "    def details(self):\n",
    "        return f'Name: {self.name}, Age: {self.age}'\n",
    "class Student(Person):\n",
    "    def __init__(self, name, age):\n",
    "        super().__init__(name, age)"
   ]
  },
  {
   "cell_type": "code",
   "execution_count": 10,
   "id": "6af7e57a-493a-4303-9a7f-0e5e93f94bf8",
   "metadata": {},
   "outputs": [],
   "source": [
    "manish = Person('Manish', 29)"
   ]
  },
  {
   "cell_type": "code",
   "execution_count": 11,
   "id": "724a4c2f-1466-4d25-81df-1eb4f931d5a2",
   "metadata": {},
   "outputs": [
    {
     "data": {
      "text/plain": [
       "'Name: Manish, Age: 29'"
      ]
     },
     "execution_count": 11,
     "metadata": {},
     "output_type": "execute_result"
    }
   ],
   "source": [
    "manish.details()"
   ]
  },
  {
   "cell_type": "code",
   "execution_count": 12,
   "id": "d5d37b9e-1196-4f7a-80d9-cf12e8f6c5ca",
   "metadata": {},
   "outputs": [],
   "source": [
    "manoj = Student('Manoj', 19)"
   ]
  },
  {
   "cell_type": "code",
   "execution_count": 13,
   "id": "4871d3e6-02a7-4389-b3b6-c162e51938b6",
   "metadata": {},
   "outputs": [
    {
     "data": {
      "text/plain": [
       "'Name: Manoj, Age: 19'"
      ]
     },
     "execution_count": 13,
     "metadata": {},
     "output_type": "execute_result"
    }
   ],
   "source": [
    "manoj.details()"
   ]
  },
  {
   "cell_type": "markdown",
   "id": "557252f8-248a-41be-8457-d8317833111b",
   "metadata": {},
   "source": [
    "Method overriding allows you to redefine a method in a subclass or the derived class previously defined in its parent or the superclass. An OOP language can allow a child class or subclass to have a customised implementation of a method already provided by one of its parent classes or super-classes.\n",
    "1. In the example we have seen that we have created a class person\n",
    "2. Inside the class we have created a constructor and name and age of the persomn\n",
    "3. Inside the person class we have created a method called details which gives the details of the person\n",
    "4. Create a another class called studen which is inheriting from the person class \n",
    "5. We have given same attributes from the person class\n",
    "6. As we can see that if we calls person and inside that we have created a name as manish and age is 29 by using detail method we can the first class details\n",
    "7. As we call the second class i.e Student we can see that if we define student name manoj and age is 19 then it will replace previous class and overide the current values\n",
    "8. Print the results"
   ]
  },
  {
   "cell_type": "markdown",
   "id": "b69606e5-8375-499a-8bdd-da107b0b9076",
   "metadata": {},
   "source": [
    "5. How can you access the methods and attributes of a parent class from a child class in Python? Give an\n",
    "example."
   ]
  },
  {
   "cell_type": "code",
   "execution_count": 17,
   "id": "1a0ab213-531d-418e-8e3f-104ef2cf8b60",
   "metadata": {},
   "outputs": [],
   "source": [
    "class Person:\n",
    "    def __init__(self, name, age):\n",
    "        self.name = name \n",
    "        self.age = age\n",
    "    def details(self):\n",
    "        return f'Name: {self.name}, Age: {self.age}'\n",
    "class Student(Person):\n",
    "    def __init__(self, name, age):\n",
    "        super().__init__(name, age)"
   ]
  },
  {
   "cell_type": "code",
   "execution_count": 18,
   "id": "7217e3e5-ae55-4c27-89e6-39defae6f6f1",
   "metadata": {},
   "outputs": [],
   "source": [
    "manoj = Student('Manoj', 19)"
   ]
  },
  {
   "cell_type": "code",
   "execution_count": 19,
   "id": "2e670d3e-b2ca-4700-82d9-f1f9fe628b87",
   "metadata": {},
   "outputs": [
    {
     "data": {
      "text/plain": [
       "'Name: Manoj, Age: 19'"
      ]
     },
     "execution_count": 19,
     "metadata": {},
     "output_type": "execute_result"
    }
   ],
   "source": [
    "manoj.details()"
   ]
  },
  {
   "cell_type": "markdown",
   "id": "ad79a35d-887f-4f3d-b113-116fc1ed6019",
   "metadata": {},
   "source": [
    "1. Create a class called Person\n",
    "2. Inside the person we have created a constructor which takes two arguments name and age of the person\n",
    "3. Inside the person class we have created a method called details which gives the details of the person\n",
    "4. Create a another class called student which is inherting from the person class \n",
    "5. These class have method of the parent class to use by using inheritance\n",
    "6. Print the result"
   ]
  },
  {
   "cell_type": "markdown",
   "id": "54e4b4cd-74b5-4dcc-95d5-64343e2d9064",
   "metadata": {},
   "source": [
    "6. Discuss the use of the `super()` function in Python inheritance. When and why is it used? Provide an\n",
    "example."
   ]
  },
  {
   "cell_type": "code",
   "execution_count": 20,
   "id": "a6c8761f-bd61-4874-a658-64315fdc3c8f",
   "metadata": {},
   "outputs": [],
   "source": [
    "class Person:\n",
    "    def __init__(self,name):\n",
    "        self.name = name\n",
    "class Student(Person):\n",
    "    def __init__(self,name, age):\n",
    "        super().__init__(name)\n",
    "        self.age = age\n",
    "    def display(self):\n",
    "        print(self.name,self.age)"
   ]
  },
  {
   "cell_type": "code",
   "execution_count": 21,
   "id": "0bc8e73d-0248-47f1-9419-3a23cf40d5d7",
   "metadata": {},
   "outputs": [],
   "source": [
    "manoj = Student('Manoj', 19)"
   ]
  },
  {
   "cell_type": "code",
   "execution_count": 23,
   "id": "41cfeeeb-39b1-4a02-9c25-3119734a47cf",
   "metadata": {},
   "outputs": [
    {
     "name": "stdout",
     "output_type": "stream",
     "text": [
      "Manoj 19\n"
     ]
    }
   ],
   "source": [
    "manoj.display()"
   ]
  },
  {
   "cell_type": "markdown",
   "id": "dbe39834-37b3-4c72-b39d-1b90975ffb9d",
   "metadata": {},
   "source": [
    "In Python, the super() function is used to refer to the parent class or superclass. It allows you to call methods defined in the superclass from the subclass, enabling you to extend and customize the functionality inherited from the parent class.\n",
    "1. In the example we have created class called person\n",
    "2. Inside the person we have created constructor which takes the person name and age of the person\n",
    "3. Inside that class we have created one method called as display which display the person age and name\n",
    "4. We have created the another class called as student\n",
    "5. Inside the class we have created an constructor which takes two arguments name and age\n",
    "6. Inside these constructor we have used the super class to inherit the variable age \n",
    "7. Print the result"
   ]
  },
  {
   "cell_type": "markdown",
   "id": "38d9a0be-08d4-4c7c-be82-773b7d6facd9",
   "metadata": {},
   "source": [
    "7. Create a Python class called `Animal` with a method `speak()`. Then, create child classes `Dog` and `Cat` that inherit from `Animal` and override the `speak()` method. Provide an example of using these classes."
   ]
  },
  {
   "cell_type": "code",
   "execution_count": 29,
   "id": "86bc78ae-2b8a-4b2d-9808-516d20768b19",
   "metadata": {},
   "outputs": [],
   "source": [
    "class Animal:\n",
    "    def speak(self, speak):\n",
    "        return speak\n",
    "class Dog(Animal):\n",
    "    def __init__(self, name):\n",
    "        self.name = name\n",
    "    \n",
    "class Cat(Animal):\n",
    "    def __init__(self, name):\n",
    "        self.name = name \n",
    "    \n",
    "    "
   ]
  },
  {
   "cell_type": "code",
   "execution_count": 30,
   "id": "de4ff713-760b-4e6b-80d7-f358678cb8ac",
   "metadata": {},
   "outputs": [],
   "source": [
    "bulldog = Dog('Bulldog')"
   ]
  },
  {
   "cell_type": "code",
   "execution_count": 31,
   "id": "d44e2934-a744-437f-ad92-4786660e7b42",
   "metadata": {},
   "outputs": [
    {
     "data": {
      "text/plain": [
       "'Bark'"
      ]
     },
     "execution_count": 31,
     "metadata": {},
     "output_type": "execute_result"
    }
   ],
   "source": [
    "bulldog.speak('Bark')"
   ]
  },
  {
   "cell_type": "code",
   "execution_count": 32,
   "id": "da8a84b3-1dcf-4f8c-8418-b559750f1f2b",
   "metadata": {},
   "outputs": [
    {
     "data": {
      "text/plain": [
       "'Meow'"
      ]
     },
     "execution_count": 32,
     "metadata": {},
     "output_type": "execute_result"
    }
   ],
   "source": [
    "allen = Cat('Allen')\n",
    "allen.speak('Meow')"
   ]
  },
  {
   "cell_type": "markdown",
   "id": "9318431b-3416-4036-b64f-ba2427f0aa70",
   "metadata": {},
   "source": [
    "1. Create a class called Animal\n",
    "2. Inside the Animal class we have created a method called speak which returns the speak\n",
    "3. Create another class called Dog which inherits from the animal class and having the constructor which takes the one argument name of the dog\n",
    "4. Create another class called Cat which inherits from the animal class and having the constructor which takes the one argument name of the Cat\n",
    "5. By calling both class we can overide the method speak as per the object requirement "
   ]
  },
  {
   "cell_type": "markdown",
   "id": "09ea849e-4303-4059-b170-efe2b230f1ff",
   "metadata": {},
   "source": [
    "8. Explain the role of the `isinstance()` function in Python and how it relates to inheritance."
   ]
  },
  {
   "cell_type": "code",
   "execution_count": 2,
   "id": "64dd4e5b-4a2c-4bdb-b98e-bb0f5fa3ebbe",
   "metadata": {},
   "outputs": [],
   "source": [
    "class myObj:\n",
    "    name = \"John\"\n",
    "\n",
    "y = myObj()"
   ]
  },
  {
   "cell_type": "code",
   "execution_count": 3,
   "id": "9c957349-62a5-47df-8825-ddc86279bcf4",
   "metadata": {},
   "outputs": [],
   "source": [
    "x = isinstance(y, myObj)"
   ]
  },
  {
   "cell_type": "code",
   "execution_count": 4,
   "id": "19bae0be-26c2-43ab-9519-29a758a03540",
   "metadata": {},
   "outputs": [
    {
     "name": "stdout",
     "output_type": "stream",
     "text": [
      "True\n"
     ]
    }
   ],
   "source": [
    "print(x)"
   ]
  },
  {
   "cell_type": "markdown",
   "id": "d2d486d1-8fa4-4e34-98dd-907debcbb2eb",
   "metadata": {},
   "source": [
    "1. The isinstance() function returns True if the specified object is of the specified type, otherwise Fals . \n",
    "2. If the type parameter is a tuple, this function will return True if the object is one of the types in the tuple.\n",
    "3. The isinstance () function checks whether an object is an instance of the class mentioned. \n",
    "4. One can test if an object or variable is an instance of the type or class. \n",
    "5. If inheritance is present in the program, then the function can be used to check if a specified class is the parent class of an object."
   ]
  },
  {
   "cell_type": "markdown",
   "id": "4eb060f2-0c1e-4ec9-94b9-1634546378a9",
   "metadata": {},
   "source": [
    "9. What is the purpose of the `issubclass()` function in Python? Provide an example."
   ]
  },
  {
   "cell_type": "code",
   "execution_count": 9,
   "id": "1b532d56-dbe5-44c9-aee9-f6da9521cd5f",
   "metadata": {},
   "outputs": [],
   "source": [
    "class Person:\n",
    "    def __init__(self,name):\n",
    "        self.name = name\n",
    "class Student(Person):\n",
    "    def __init__(self,name, age):\n",
    "        super().__init__(name)\n",
    "        self.age = age\n",
    "    def display(self):\n",
    "        print(self.name,self.age)"
   ]
  },
  {
   "cell_type": "code",
   "execution_count": 10,
   "id": "eb6d8f5e-f4b8-4e9b-8a9d-39ab5f8be6b1",
   "metadata": {},
   "outputs": [
    {
     "name": "stdout",
     "output_type": "stream",
     "text": [
      "True\n"
     ]
    }
   ],
   "source": [
    "print(issubclass(Student,Person))"
   ]
  },
  {
   "cell_type": "markdown",
   "id": "c8779481-7701-4679-a697-032288066aea",
   "metadata": {},
   "source": [
    "1. Create a class called Person\n",
    "2. Inside the person we have created a constructor which takes two arguments name and age of the person\n",
    "3. Inside the person class we have created a method called details which gives the details of the person\n",
    "4. Create a another class called student which is inherting from the person class \n",
    "5. These class have method of the parent class to use by using inheritance\n",
    "6. By using issubclass it will return that the class we are refering to is the subclass of other or not\n",
    "7. It will return boolean as true and false\n",
    "8. In the example we are checking that if the student class is the subclass of person class or not\n",
    "9. Print the result"
   ]
  },
  {
   "cell_type": "markdown",
   "id": "4843cb86-f157-431d-809c-6d6c97bf02db",
   "metadata": {},
   "source": [
    "10. Discuss the concept of constructor inheritance in Python. How are constructors inherited in child classes?"
   ]
  },
  {
   "cell_type": "code",
   "execution_count": 11,
   "id": "c2187157-a151-42d1-b55e-362ee73a1385",
   "metadata": {},
   "outputs": [],
   "source": [
    "class Person:\n",
    "    def __init__(self, name, age):\n",
    "        self.name = name \n",
    "        self.age = age\n",
    "    def details(self):\n",
    "        return f'Name: {self.name}, Age: {self.age}'\n",
    "class Student(Person):\n",
    "    def __init__(self, name, age):\n",
    "        super().__init__(name, age)"
   ]
  },
  {
   "cell_type": "code",
   "execution_count": 12,
   "id": "a5aa83e8-14db-4f97-8eef-84029b870730",
   "metadata": {},
   "outputs": [
    {
     "data": {
      "text/plain": [
       "'Name: Manoj, Age: 19'"
      ]
     },
     "execution_count": 12,
     "metadata": {},
     "output_type": "execute_result"
    }
   ],
   "source": [
    "manoj = Student('Manoj', 19)\n",
    "manoj.details()"
   ]
  },
  {
   "cell_type": "markdown",
   "id": "82a24088-bfa8-4804-9ae1-0b1b7324e7a9",
   "metadata": {},
   "source": [
    "1. Constructors in Python is a special class method for creating and initializing an object instance at that class. \n",
    "2. In Python every class has a constructor; it's not required to define explicitly. \n",
    "3. The purpose of the constructor is to construct an object and assign a value to the object's members.\n",
    "\n",
    "Example:\n",
    "1. In the example we have seen that we have created a class person\n",
    "2. Inside the class we have created a constructor and name and age of the persomn\n",
    "3. Inside the person class we have created a method called details which gives the details of the person\n",
    "4. Create a another class called studen which is inheriting from the person class \n",
    "5. We have given same attributes from the person class\n",
    "6. As we can see that if we calls person and inside that we have created a name as manish and age is 29 by using detail method we can the first class details\n",
    "7. As we call the second class i.e Student we can see that if we define student name manoj and age is 19 then it will replace previous class and overide the current values\n",
    "8. Print the results"
   ]
  },
  {
   "cell_type": "markdown",
   "id": "02122b14-e870-4a00-9f86-9c452ba67c83",
   "metadata": {},
   "source": [
    "11. Create a Python class called `Shape` with a method `area()` that calculates the area of a shape. Then, create child classes `Circle` and `Rectangle` that inherit from `Shape` and implement the `area()` method\n",
    "accordingly. Provide an example."
   ]
  },
  {
   "cell_type": "code",
   "execution_count": 10,
   "id": "7073ae6c-df5b-4e27-b58b-b280c6f77247",
   "metadata": {},
   "outputs": [],
   "source": [
    "class Shape:\n",
    "    def calculate_area(self):\n",
    "        pass\n",
    "class Circle(Shape):\n",
    "    def __init__(self, radius):\n",
    "        self.radius = radius\n",
    "    def calculate_area(self):\n",
    "        return 3.14 * (self.radius ** 2)\n",
    "class Rectangle(Shape):\n",
    "    def __init__(self,length, width):\n",
    "        self.length = length\n",
    "        self.width = width\n",
    "    def calculate_area(self):\n",
    "        return self.length * self.width   "
   ]
  },
  {
   "cell_type": "code",
   "execution_count": 11,
   "id": "4c6eb0a5-5253-461b-be62-06bffda33aa6",
   "metadata": {},
   "outputs": [],
   "source": [
    "circle = Circle(5)"
   ]
  },
  {
   "cell_type": "code",
   "execution_count": 12,
   "id": "d42374bc-2ac1-46fc-a2bd-8c39d5728270",
   "metadata": {},
   "outputs": [
    {
     "data": {
      "text/plain": [
       "78.5"
      ]
     },
     "execution_count": 12,
     "metadata": {},
     "output_type": "execute_result"
    }
   ],
   "source": [
    "circle.calculate_area()"
   ]
  },
  {
   "cell_type": "code",
   "execution_count": 13,
   "id": "4212a900-fccb-4227-9f2e-b2b0a9b4b5c5",
   "metadata": {},
   "outputs": [
    {
     "data": {
      "text/plain": [
       "35"
      ]
     },
     "execution_count": 13,
     "metadata": {},
     "output_type": "execute_result"
    }
   ],
   "source": [
    "rectangle = Rectangle(5, 7)\n",
    "rectangle.calculate_area()"
   ]
  },
  {
   "cell_type": "markdown",
   "id": "878793d2-46ea-4c2e-a929-59f96d69ea46",
   "metadata": {},
   "source": [
    "1. Create a class called shape \n",
    "2. Inside the shape class we created a method called calculate_area and pass the method\n",
    "3. Create another class called circle which is inherit from the shape class \n",
    "4. Inside the circle class we have created a constructor which takes one argument radius\n",
    "5. Inside the circle class we have created a method called calculate are which overides the method of the class shape\n",
    "6. Create another class called rectangle which is inherit from the shape class \n",
    "7. Inside the rectangle class we have created a constructor which takes two argument length and width\n",
    "8. Inside the rectangle class we have created a method called calculate area which overides the method of the class shape"
   ]
  },
  {
   "cell_type": "markdown",
   "id": "13e2687e-b1e7-4dcf-82cf-c7a525ced9de",
   "metadata": {},
   "source": [
    "12. Explain the use of abstract base classes (ABCs) in Python and how they relate to inheritance. Provide an\n",
    "example using the `abc` module."
   ]
  },
  {
   "cell_type": "code",
   "execution_count": 14,
   "id": "e15c9041-7b8c-4743-b11f-7b38e6a92a5f",
   "metadata": {},
   "outputs": [],
   "source": [
    "from abc import ABC, abstractmethod"
   ]
  },
  {
   "cell_type": "code",
   "execution_count": 15,
   "id": "d889929b-6846-4aeb-ae2a-76f2d16e744e",
   "metadata": {},
   "outputs": [],
   "source": [
    "class Student(ABC):\n",
    "    @abstractmethod\n",
    "    def name(self, name):\n",
    "        pass\n",
    "    @abstractmethod\n",
    "    def age(self, age):\n",
    "        pass\n",
    "        "
   ]
  },
  {
   "cell_type": "code",
   "execution_count": 17,
   "id": "02dd5945-e364-4db7-9196-f42c5bc06fb7",
   "metadata": {},
   "outputs": [],
   "source": [
    "class name(Student):\n",
    "    def name(self, name):\n",
    "        return name\n",
    "    def age(self, age):\n",
    "        return age\n",
    "    "
   ]
  },
  {
   "cell_type": "code",
   "execution_count": 18,
   "id": "f47eab92-0b64-435b-a184-f82be0c274f8",
   "metadata": {},
   "outputs": [],
   "source": [
    "name = name()"
   ]
  },
  {
   "cell_type": "code",
   "execution_count": 19,
   "id": "609db1c1-e511-455c-8d5f-4b78a98eea28",
   "metadata": {},
   "outputs": [
    {
     "data": {
      "text/plain": [
       "'Manish'"
      ]
     },
     "execution_count": 19,
     "metadata": {},
     "output_type": "execute_result"
    }
   ],
   "source": [
    "name.name('Manish')"
   ]
  },
  {
   "cell_type": "code",
   "execution_count": 20,
   "id": "8797573b-d86e-4ce9-8279-f91ccc1f04cd",
   "metadata": {},
   "outputs": [
    {
     "data": {
      "text/plain": [
       "19"
      ]
     },
     "execution_count": 20,
     "metadata": {},
     "output_type": "execute_result"
    }
   ],
   "source": [
    "name.age(19)"
   ]
  },
  {
   "cell_type": "markdown",
   "id": "7f63fb88-e159-4e2e-9108-ad24157bda45",
   "metadata": {},
   "source": [
    "Python comes with a module that provides the base for defining Abstract Base classes(ABC) and that module name is ABC. ABC works by decorating methods of the base class as an abstract and then registering concrete classes as implementations of the abstract base\n",
    "1. In the above example we are creating a class student which inhereting from the class called ABC\n",
    "2. If we are decorating @abstract in any one of the method it is essential for the user that they have to create function in each of the method which we have created inside the parent class\n",
    "3. After completing all the methods as per abstraction then it wont give any error to user and it will run the programme as per abstraction\n",
    "4. Print the result "
   ]
  },
  {
   "cell_type": "markdown",
   "id": "8aad3121-a733-4190-b9b5-7c86a9fa2feb",
   "metadata": {},
   "source": [
    "13. How can you prevent a child class from modifying certain attributes or methods inherited from a parent\n",
    "class in Python?"
   ]
  },
  {
   "cell_type": "code",
   "execution_count": 26,
   "id": "b091ac01-6987-46ab-988b-4ce5846f871e",
   "metadata": {},
   "outputs": [],
   "source": [
    "class Parent:\n",
    "    def method_to_protect(self):\n",
    "        print(\"This method should not be modified.\")\n",
    "\n",
    "class Child:\n",
    "    def __init__(self):\n",
    "        self.parent = Parent()\n",
    "\n",
    "    def method_to_protect(self):\n",
    "        print(\"Child's version of the method.\")"
   ]
  },
  {
   "cell_type": "code",
   "execution_count": 27,
   "id": "86181400-86aa-4bb7-bf3e-2403445874e7",
   "metadata": {},
   "outputs": [
    {
     "name": "stdout",
     "output_type": "stream",
     "text": [
      "This method should not be modified.\n"
     ]
    }
   ],
   "source": [
    "parent = Parent()\n",
    "parent.method_to_protect()"
   ]
  },
  {
   "cell_type": "code",
   "execution_count": 28,
   "id": "25a3274c-eb98-42ec-b7e7-0a9ee454b021",
   "metadata": {},
   "outputs": [],
   "source": [
    "child = Child()"
   ]
  },
  {
   "cell_type": "code",
   "execution_count": 31,
   "id": "8dc96dcb-0c6a-4a2f-8c87-61e8ab64d88e",
   "metadata": {},
   "outputs": [
    {
     "name": "stdout",
     "output_type": "stream",
     "text": [
      "Child's version of the method.\n"
     ]
    }
   ],
   "source": [
    "child.method_to_protect()"
   ]
  },
  {
   "cell_type": "markdown",
   "id": "11978c76-2c9a-4aca-afdf-ee38071276a8",
   "metadata": {},
   "source": [
    "Use of Composition Method\n",
    "1. Instead of using inheritance, consider using composition. \n",
    "2. Instead of making the child class inherit from the parent class, make the parent class an attribute of the child class. \n",
    "3. This way, the child class can control the access to the parent's methods and att"
   ]
  },
  {
   "cell_type": "markdown",
   "id": "870eeba7-da05-4266-96e3-2193c2770e81",
   "metadata": {},
   "source": [
    "14. Create a Python class called `Employee` with attributes `name` and `salary`. Then, create a child class\n",
    "`Manager` that inherits from `Employee` and adds an attribute `department`. Provide an example."
   ]
  },
  {
   "cell_type": "code",
   "execution_count": 42,
   "id": "b31a8218-8e5c-473d-ae8c-e2e95a17697c",
   "metadata": {},
   "outputs": [],
   "source": [
    "class Employee:\n",
    "    def __init__(self, name, salary):\n",
    "        self.name = name\n",
    "        self.salary = salary\n",
    "class Manager(Employee):\n",
    "    def __init__(self, name, salary, department):\n",
    "        super().__init__(name, salary)\n",
    "        self.department = department\n",
    "    def details(self):\n",
    "        return f'Name : {self.name}, Salary : Rs.{self.salary}, Department : {self.department}'"
   ]
  },
  {
   "cell_type": "code",
   "execution_count": 43,
   "id": "234e1661-221b-41b7-a10e-c97f4cc15aa5",
   "metadata": {},
   "outputs": [],
   "source": [
    "manager = Manager('Rajesh', 32000, 'HR')"
   ]
  },
  {
   "cell_type": "code",
   "execution_count": 44,
   "id": "b262339f-715b-421c-9c16-0a6bdf504e7e",
   "metadata": {},
   "outputs": [
    {
     "data": {
      "text/plain": [
       "'Name : Rajesh, Salary : Rs.32000, Department : HR'"
      ]
     },
     "execution_count": 44,
     "metadata": {},
     "output_type": "execute_result"
    }
   ],
   "source": [
    "manager.details()"
   ]
  },
  {
   "cell_type": "markdown",
   "id": "f925c0af-7380-41df-8dcb-658179476563",
   "metadata": {},
   "source": [
    "1. Create a class called employee\n",
    "2. Inside the class employee we have created a constructor which takes two argumemts name and salary \n",
    "3. Create another class called manager which is inherit from the class employee and created a constructor inside the manager class and add the department arguments \n",
    "4. Inside the manager class we have created a method called details which gives the details of the employee\n",
    "5. Print the result"
   ]
  },
  {
   "cell_type": "markdown",
   "id": "99d97e02-e40c-4505-a5d8-cdf8e042617c",
   "metadata": {},
   "source": [
    "15. Discuss the concept of method overloading in Python inheritance. How does it differ from method\n",
    "overriding?"
   ]
  },
  {
   "cell_type": "code",
   "execution_count": 21,
   "id": "4c115e54-d1a3-4118-8e5a-63ab0b5d76cd",
   "metadata": {},
   "outputs": [],
   "source": [
    "# Mehod Overloading\n",
    "class MathOperations:\n",
    "    def add(self, x, y):\n",
    "        return x + y\n",
    "\n",
    "    def add(self, x, y, z):\n",
    "        return x + y + z"
   ]
  },
  {
   "cell_type": "code",
   "execution_count": 22,
   "id": "e57bcfc3-fc17-4d62-8fdc-433a9275edeb",
   "metadata": {},
   "outputs": [],
   "source": [
    "add = MathOperations()"
   ]
  },
  {
   "cell_type": "code",
   "execution_count": 23,
   "id": "be2f2988-54ae-4b56-8968-bfd7595949ec",
   "metadata": {},
   "outputs": [
    {
     "data": {
      "text/plain": [
       "11"
      ]
     },
     "execution_count": 23,
     "metadata": {},
     "output_type": "execute_result"
    }
   ],
   "source": [
    "add.add(2,4,5)"
   ]
  },
  {
   "cell_type": "code",
   "execution_count": 24,
   "id": "d099747a-4625-4c2d-b0e3-3a6e3cb21f79",
   "metadata": {},
   "outputs": [],
   "source": [
    "# Method Overiding\n",
    "class Animal:\n",
    "    def speak(self):\n",
    "        print(\"Generic animal sound\")\n",
    "\n",
    "class Dog(Animal):\n",
    "    def speak(self):\n",
    "        print(\"Woof! Woof!\")\n",
    "\n",
    "class Cat(Animal):\n",
    "    def speak(self):\n",
    "        print(\"Meow!\")\n"
   ]
  },
  {
   "cell_type": "code",
   "execution_count": 25,
   "id": "53914d47-1793-4086-9a4b-eba6d7e1bb62",
   "metadata": {},
   "outputs": [
    {
     "name": "stdout",
     "output_type": "stream",
     "text": [
      "Woof! Woof!\n",
      "Meow!\n"
     ]
    }
   ],
   "source": [
    "dog = Dog()\n",
    "dog.speak()  \n",
    "\n",
    "cat = Cat()\n",
    "cat.speak()"
   ]
  },
  {
   "cell_type": "markdown",
   "id": "6b4ed7ef-f46b-4578-b3fe-7415c584106f",
   "metadata": {},
   "source": [
    "Method overloading and method overriding are both concepts in the realm of object-oriented programming, specifically related to inheritance, but they serve different purposes. Let's discuss each concept and highlight the differences:\n",
    "\n",
    "Method Overloading:\n",
    "Definition:\n",
    "Method overloading refers to defining multiple methods in the same class with the same name but different parameters (either in terms of the number of parameters or their types). Python, unlike some other programming languages, does not support traditional method overloading based on the number or types of parameters.\n",
    "\n",
    "Method Overriding:\n",
    "Definition:\n",
    "Method overriding occurs when a subclass provides a specific implementation for a method that is already defined in its superclass. The overridden method in the subclass should have the same signature (name and parameters) as the method in the superclass."
   ]
  },
  {
   "cell_type": "markdown",
   "id": "81b84761-e1bb-47da-8fd9-a9f7dbbb8a3c",
   "metadata": {},
   "source": [
    "16. Explain the purpose of the `__init__()` method in Python inheritance and how it is utilized in child classes."
   ]
  },
  {
   "cell_type": "code",
   "execution_count": 11,
   "id": "c6781220-2854-4fe5-a27a-266654672759",
   "metadata": {},
   "outputs": [],
   "source": [
    "class Employee:\n",
    "    def __init__(self, name, salary):\n",
    "        self.name = name\n",
    "        self.salary = salary\n",
    "class Manager(Employee):\n",
    "    def __init__(self, name, salary, department):\n",
    "        super().__init__(name, salary)\n",
    "        self.department = department\n",
    "    def details(self):\n",
    "        return f'Name : {self.name}, Salary : Rs.{self.salary}, Department : {self.department}'"
   ]
  },
  {
   "cell_type": "code",
   "execution_count": 12,
   "id": "57d776a7-64bb-4854-98ca-52679e63f6c6",
   "metadata": {},
   "outputs": [],
   "source": [
    "manager = Manager('Rajesh', 32000, 'HR')"
   ]
  },
  {
   "cell_type": "code",
   "execution_count": 13,
   "id": "b29c34ac-3d0f-4bf2-951e-9bd857b33a82",
   "metadata": {},
   "outputs": [
    {
     "data": {
      "text/plain": [
       "'Name : Rajesh, Salary : Rs.32000, Department : HR'"
      ]
     },
     "execution_count": 13,
     "metadata": {},
     "output_type": "execute_result"
    }
   ],
   "source": [
    "manager.details()"
   ]
  },
  {
   "cell_type": "markdown",
   "id": "847a10af-ac89-4bed-904c-26ac85ea1a42",
   "metadata": {},
   "source": [
    "The Default __init__ Constructor in Python . Constructors are used to initializing the object’s state. The task of constructors is to initialize(assign values) to the data members of the class when an object of the class is created. Like methods, a constructor also contains a collection of statements(i.e. instructions) that are executed at the time of Object creation. It is run as soon as an object of a class is instantiated. The method is useful to do any initialization you want to do with your object.In the example\n",
    "1. Create a class called employee\n",
    "2. Inside the class employee we have created a constructor which takes two argumemts name and salary \n",
    "3. Create another class called manager which is inherit from the class employee and created a constructor inside the manager class and add the department arguments \n",
    "4. Inside the manager class we have created a method called details which gives the details of the employee\n",
    "5. Print the result"
   ]
  },
  {
   "cell_type": "markdown",
   "id": "454cbfc7-a3e9-4c6b-b8e8-3321fc84899e",
   "metadata": {},
   "source": [
    "17. Create a Python class called `Bird` with a method `fly()`. Then, create child classes `Eagle` and `Sparrow` that inherit from `Bird` and implement the `fly()` method differently. Provide an example of using these\n",
    "classes."
   ]
  },
  {
   "cell_type": "code",
   "execution_count": 5,
   "id": "6f1a6c0e-7e5b-4c30-aa71-b60f5e0c8566",
   "metadata": {},
   "outputs": [],
   "source": [
    "class Bird:\n",
    "    def fly(self):\n",
    "        pass\n",
    "class Eagle(Bird):\n",
    "    def fly(self):\n",
    "        print('The Eagle is flying')\n",
    "class Sparrow(Bird):\n",
    "    def fly(self):\n",
    "        print('The sparrow is flying')"
   ]
  },
  {
   "cell_type": "code",
   "execution_count": 6,
   "id": "8e5b2301-7ee0-48d2-93b8-fefe34f7e946",
   "metadata": {},
   "outputs": [
    {
     "name": "stdout",
     "output_type": "stream",
     "text": [
      "The Eagle is flying\n"
     ]
    }
   ],
   "source": [
    "eagle = Eagle()\n",
    "eagle.fly()"
   ]
  },
  {
   "cell_type": "code",
   "execution_count": 7,
   "id": "114a0065-8125-49d0-b52f-9a879a2b380c",
   "metadata": {},
   "outputs": [
    {
     "name": "stdout",
     "output_type": "stream",
     "text": [
      "The sparrow is flying\n"
     ]
    }
   ],
   "source": [
    "sparrow = Sparrow()\n",
    "sparrow.fly()"
   ]
  },
  {
   "cell_type": "markdown",
   "id": "ffdaa392-4e84-4221-bc40-dabc9643c87b",
   "metadata": {},
   "source": [
    "1. Create a class called Bird\n",
    "2. Inside the Bird class we created a method called fly which we are passing\n",
    "3. Create a class called Eagle which is inherit from the class bird and inside the eagle class we are overiding the method of fly\n",
    "4. Create a class called sparrow which is inherit from the class bird and inside the sparrow class we are overiding the method of fly"
   ]
  },
  {
   "cell_type": "markdown",
   "id": "6490b835-a350-4a94-a267-1130c1084b73",
   "metadata": {},
   "source": [
    "18. What is the \"diamond problem\" in multiple inheritance, and how does Python address it?"
   ]
  },
  {
   "cell_type": "code",
   "execution_count": 9,
   "id": "e4ec1166-d50c-4650-a923-5dea472f6c9d",
   "metadata": {},
   "outputs": [],
   "source": [
    "class Class1:\n",
    "    def m(self):\n",
    "        print(\"In Class1\") \n",
    "class Class2(Class1):\n",
    "    def m(self):\n",
    "        print(\"In Class2\")\n",
    "class Class3(Class1):\n",
    "    def m(self):\n",
    "        print(\"In Class3\")  \n",
    "class Class4(Class2, Class3):\n",
    "    pass  \n",
    "     "
   ]
  },
  {
   "cell_type": "code",
   "execution_count": 10,
   "id": "720fadc8-ee49-4d36-bc64-875aa632b9ca",
   "metadata": {},
   "outputs": [
    {
     "name": "stdout",
     "output_type": "stream",
     "text": [
      "In Class2\n"
     ]
    }
   ],
   "source": [
    "obj = Class4()\n",
    "obj.m()"
   ]
  },
  {
   "cell_type": "markdown",
   "id": "d2522d91-837d-4098-9302-95a50f966c1f",
   "metadata": {},
   "source": [
    "1. It refers to an ambiguity that arises when two classes Class2 and Class3 inherit from a superclass Class1 and class Class4 inherits from both Class2 and Class3. \n",
    "2. If there is a method “m” which is an overridden method in one of Class2 and Class3 or both then the ambiguity arises which of the method “m” Class4 should inherit."
   ]
  },
  {
   "cell_type": "markdown",
   "id": "743bb280-db24-41dd-b551-52097b820bc4",
   "metadata": {},
   "source": [
    "19. Discuss the concept of \"is-a\" and \"has-a\" relationships in inheritance, and provide examples of each."
   ]
  },
  {
   "cell_type": "code",
   "execution_count": 14,
   "id": "9df53838-f612-42f8-8813-6e3a07f5be88",
   "metadata": {},
   "outputs": [],
   "source": [
    "# IS-A Relationships\n",
    "class Employee:\n",
    "    def __init__(self, name, salary):\n",
    "        self.name = name\n",
    "        self.salary = salary\n",
    "class Manager(Employee):\n",
    "    def __init__(self, name, salary, department):\n",
    "        super().__init__(name, salary)\n",
    "        self.department = department\n",
    "    def details(self):\n",
    "        return f'Name : {self.name}, Salary : Rs.{self.salary}, Department : {self.department}'"
   ]
  },
  {
   "cell_type": "code",
   "execution_count": 15,
   "id": "d938d28c-66e0-4520-b298-e5659825d48d",
   "metadata": {},
   "outputs": [],
   "source": [
    "manager = Manager('Rajesh', 32000, 'HR')"
   ]
  },
  {
   "cell_type": "code",
   "execution_count": 16,
   "id": "c78787d7-77fc-4cb3-86da-de8848cb0431",
   "metadata": {},
   "outputs": [
    {
     "data": {
      "text/plain": [
       "'Name : Rajesh, Salary : Rs.32000, Department : HR'"
      ]
     },
     "execution_count": 16,
     "metadata": {},
     "output_type": "execute_result"
    }
   ],
   "source": [
    "manager.details()"
   ]
  },
  {
   "cell_type": "code",
   "execution_count": 29,
   "id": "160e6d53-8f12-401e-8a34-9df0617e2601",
   "metadata": {},
   "outputs": [],
   "source": [
    "# HAS - A Relationship\n",
    "class Employee:\n",
    "    def __init__(self, name, salary):\n",
    "        self.name = name\n",
    "        self.salary = salary\n",
    "    def details(self):\n",
    "        print(f'Name : {self.name}, Salary : {self.salary}')\n",
    "class Manager():\n",
    "    def __init__(self):\n",
    "        print('Manager Class')\n",
    "    def detail(self):\n",
    "        employee = Employee('Manish', 32000)\n",
    "        employee.details()"
   ]
  },
  {
   "cell_type": "code",
   "execution_count": 30,
   "id": "64737cbd-4276-4202-9392-4278a90f5a69",
   "metadata": {},
   "outputs": [
    {
     "name": "stdout",
     "output_type": "stream",
     "text": [
      "Manager Class\n"
     ]
    }
   ],
   "source": [
    "manager = Manager()"
   ]
  },
  {
   "cell_type": "code",
   "execution_count": 31,
   "id": "5b67ceae-cf93-4129-9fee-f6218f497bd6",
   "metadata": {},
   "outputs": [
    {
     "name": "stdout",
     "output_type": "stream",
     "text": [
      "Name : Manish, Salary : 32000\n"
     ]
    }
   ],
   "source": [
    "manager.detail()"
   ]
  },
  {
   "cell_type": "markdown",
   "id": "797dc1f1-17da-45d0-abc5-bc4c55d554ac",
   "metadata": {},
   "source": [
    "1. The IS - A relationship simply means that that class is inherit from the other class\n",
    "2. In the example we can see that the class Employee is the parent class of Manager.The manager class has attributes of Employee which is name and salary\n",
    "3. The HAS - A relationship simply means that the class has some featurs from the other class which is called as composition\n",
    "4. In the example we can see that we have created a class called employee and created another class called manager evry employee has the manager so the manager also knows the name of the employee and salary of the employee as well."
   ]
  },
  {
   "cell_type": "markdown",
   "id": "802ca747-6aa5-4d86-b7ab-32131cdaeea2",
   "metadata": {},
   "source": [
    "20. Create a Python class hierarchy for a university system. Start with a base class `Person` and create child\n",
    "classes `Student` and `Professor`, each with their own attributes and methods. Provide an example of using\n",
    "these classes in a university context."
   ]
  },
  {
   "cell_type": "code",
   "execution_count": 97,
   "id": "40946838-05e8-4e42-9304-83225f6c5e35",
   "metadata": {},
   "outputs": [],
   "source": [
    "class Person:\n",
    "    def __init__(self, name, age):\n",
    "        self.name = name\n",
    "        self.age = age\n",
    "        \n",
    "    def details(self):\n",
    "        return f'Name : {self.name}, Age : {self.age}'\n",
    "    \n",
    "class Student(Person):\n",
    "    def __init__(self, name, age, subject):\n",
    "        super().__init__(name, age)\n",
    "        self.subject = subject\n",
    "    \n",
    "    def student_details(self):\n",
    "        return f'Name : {self.name}, Age : {self.age}, Subject : {self.subject}'\n",
    "        \n",
    "class Professor(Person):\n",
    "    def __init__(self, name, age, subject):\n",
    "        super().__init__(name, age)\n",
    "        self.subject = subject\n",
    "    \n",
    "    def prof_details(self):\n",
    "        return f'Name : {self.name}, Age : {self.age}, Subject : {self.subject}'"
   ]
  },
  {
   "cell_type": "code",
   "execution_count": 98,
   "id": "e1bb8ea5-e53d-410e-97ee-b0a9a9f64ea8",
   "metadata": {},
   "outputs": [],
   "source": [
    "student = Student('Manish', 19, 'Data Science')"
   ]
  },
  {
   "cell_type": "code",
   "execution_count": 99,
   "id": "56ea4c80-e3cc-4e4f-90ca-5206b97bb8e5",
   "metadata": {},
   "outputs": [
    {
     "data": {
      "text/plain": [
       "'Name : Manish, Age : 19, Subject : Data Science'"
      ]
     },
     "execution_count": 99,
     "metadata": {},
     "output_type": "execute_result"
    }
   ],
   "source": [
    "student.student_details()"
   ]
  },
  {
   "cell_type": "code",
   "execution_count": 100,
   "id": "49b28a73-aafa-4c52-98ba-052efcb27050",
   "metadata": {},
   "outputs": [],
   "source": [
    "professor = Professor('Krish', 27,'Data Science')"
   ]
  },
  {
   "cell_type": "code",
   "execution_count": 101,
   "id": "10ac0a76-fa90-4e81-9e3d-b49a8104b89b",
   "metadata": {},
   "outputs": [
    {
     "data": {
      "text/plain": [
       "'Name : Krish, Age : 27, Subject : Data Science'"
      ]
     },
     "execution_count": 101,
     "metadata": {},
     "output_type": "execute_result"
    }
   ],
   "source": [
    "professor.prof_details()"
   ]
  },
  {
   "cell_type": "markdown",
   "id": "c6bbdb29-12ca-42d3-be31-0d0e9cc9f76b",
   "metadata": {},
   "source": [
    "1. Create a class called person\n",
    "2. Inside the person class takes two arguments name and age of the person \n",
    "3. Inside the person class created a method called details which gives the details of the person\n",
    "4. Create a Student class which inherit from the person class and created a constructor name age and subject \n",
    "5. Inside the student we have also define the superclass() which will inherit from the person class\n",
    "6. Inside the student class we have created method called student which gives the detail of the student\n",
    "7. Create a Professor class which inherit from the person class and created a constructor name age and subject \n",
    "8. Inside the professor class we have also define the superclass() which will inherit from the person class\n",
    "9. Inside the professor class we have created method called student which gives the detail of the professor"
   ]
  },
  {
   "cell_type": "markdown",
   "id": "cf6d78d1-9941-4cf8-a39f-eb597b997dc9",
   "metadata": {},
   "source": [
    "# Encapsulation"
   ]
  },
  {
   "cell_type": "markdown",
   "id": "45c07fc0-a1ec-49a0-8e8c-721a42642299",
   "metadata": {},
   "source": [
    "1. Explain the concept of encapsulation in Python. What is its role in object-oriented programming?"
   ]
  },
  {
   "cell_type": "code",
   "execution_count": 1,
   "id": "9ac72d26-9a49-4654-9993-8cba37da1f1b",
   "metadata": {},
   "outputs": [],
   "source": [
    "class Person:\n",
    "    def __init__(self, name, age):\n",
    "        self.__name = name\n",
    "        self.age = age\n",
    "    def get_name(self):\n",
    "        return self.__name"
   ]
  },
  {
   "cell_type": "code",
   "execution_count": 2,
   "id": "24ebf782-6504-4e72-9b61-49c9f003c9d1",
   "metadata": {},
   "outputs": [],
   "source": [
    "person = Person('Manish', 19)"
   ]
  },
  {
   "cell_type": "code",
   "execution_count": 3,
   "id": "8cf1cf56-500b-4b77-b5c8-e88ddc2afb48",
   "metadata": {},
   "outputs": [
    {
     "data": {
      "text/plain": [
       "19"
      ]
     },
     "execution_count": 3,
     "metadata": {},
     "output_type": "execute_result"
    }
   ],
   "source": [
    "person.age"
   ]
  },
  {
   "cell_type": "code",
   "execution_count": 5,
   "id": "8c80085a-ac59-4b0e-9414-ce0ed3606b78",
   "metadata": {},
   "outputs": [
    {
     "data": {
      "text/plain": [
       "'Manish'"
      ]
     },
     "execution_count": 5,
     "metadata": {},
     "output_type": "execute_result"
    }
   ],
   "source": [
    "person.get_name()"
   ]
  },
  {
   "cell_type": "markdown",
   "id": "6a84d439-4418-4292-9be6-b69357d3126a",
   "metadata": {},
   "source": [
    "Encapsulation is one of the fundamental concepts in object-oriented programming (OOP). It describes the idea of wrapping data and the methods that work on data within one unit. This puts restrictions on accessing variables and methods directly and can prevent the accidental modification of data.\n",
    "1. In the example we can see that the we created a person class\n",
    "2. Inside the person class we have created a constructor which takes argument as name and age of the person \n",
    "3. In the init function we have cretaed a private variable which is the name of the person which can't be accessible directly \n",
    "4. To access that variable we created a method called get_name in which we can access the name from these method but we cant access the name directly from the class"
   ]
  },
  {
   "cell_type": "markdown",
   "id": "2ace3b09-4e54-4ad0-bcb6-cb773855240f",
   "metadata": {},
   "source": [
    "2. Describe the key principles of encapsulation, including access control and data hiding."
   ]
  },
  {
   "cell_type": "code",
   "execution_count": 6,
   "id": "30753435-0760-43de-8708-19a68bad7de0",
   "metadata": {},
   "outputs": [],
   "source": [
    "class Person:\n",
    "    def __init__(self, name, age):\n",
    "        self.__name = name\n",
    "        self.age = age\n",
    "    def get_name(self):\n",
    "        return self.__name"
   ]
  },
  {
   "cell_type": "code",
   "execution_count": 7,
   "id": "07958a04-a493-4428-849b-64b7f64d105d",
   "metadata": {},
   "outputs": [],
   "source": [
    "person = Person('Manish', 19)"
   ]
  },
  {
   "cell_type": "code",
   "execution_count": 8,
   "id": "f0e5e423-a2fc-44ee-aaaf-df44b065bf51",
   "metadata": {},
   "outputs": [
    {
     "data": {
      "text/plain": [
       "'Manish'"
      ]
     },
     "execution_count": 8,
     "metadata": {},
     "output_type": "execute_result"
    }
   ],
   "source": [
    "person.get_name()"
   ]
  },
  {
   "cell_type": "markdown",
   "id": "e0d83524-193b-4ea5-93cb-06d0a2b62889",
   "metadata": {},
   "source": [
    "Encapsulation is one of the fundamental concepts in object-oriented programming (OOP). It describes the idea of wrapping data and the methods that work on data within one unit. This puts restrictions on accessing variables and methods directly and can prevent the accidental modification of data.\n",
    "\n",
    "Data Hiding:\n",
    "The Python document introduces Data Hiding as isolating the user from a part of program implementation. Some objects in the module are kept internal, unseen, and unreachable to the user. Modules in the program are easy enough to understand how to use the application, but the client cannot know how the application functions. Thus, data hiding imparts security, along with discarding dependency. Data hiding in Python is the technique to defend access to specific users in the application. Python is applied in every technical area and has a user-friendly syntax and vast libraries. Data hiding in Python is performed using the __ double underscore before done prefix. This makes the class members non-public and isolated from the other classes.\n",
    "\n",
    "Access Control:\n",
    "Python uses ‘_’ symbol to determine the access control for a specific data member or a member function of a class. Access specifiers in Python have an important role to play in securing data from unauthorized access and in preventing it from being exploited.\n",
    "A Class in Python has three types of access modifiers:\n",
    "\n",
    "1. Public Access Modifier\n",
    "2. Protected Access Modifier\n",
    "3. Private Access Modifier\n"
   ]
  },
  {
   "cell_type": "markdown",
   "id": "4c44ccc0-4a8f-4434-a24b-28ff0023cdf9",
   "metadata": {},
   "source": [
    "3. How can you achieve encapsulation in Python classes? Provide an example."
   ]
  },
  {
   "cell_type": "code",
   "execution_count": 9,
   "id": "60671026-6966-47d3-80d6-9bc55b8c691f",
   "metadata": {},
   "outputs": [],
   "source": [
    "class Person:\n",
    "    def __init__(self, name, age):\n",
    "        self.__name = name\n",
    "        self.age = age\n",
    "    def get_name(self):\n",
    "        return self.__name"
   ]
  },
  {
   "cell_type": "markdown",
   "id": "15b4de8b-f4b6-4d5a-9a45-b1d866ddb217",
   "metadata": {},
   "source": [
    "person = Person('Manish', 19)"
   ]
  },
  {
   "cell_type": "code",
   "execution_count": 11,
   "id": "fd16939f-e6ad-45b2-8f84-e4f85be12701",
   "metadata": {},
   "outputs": [
    {
     "data": {
      "text/plain": [
       "'Manish'"
      ]
     },
     "execution_count": 11,
     "metadata": {},
     "output_type": "execute_result"
    }
   ],
   "source": [
    "person.get_name()"
   ]
  },
  {
   "cell_type": "markdown",
   "id": "93ed064a-8495-48ab-b743-17ff0f551983",
   "metadata": {},
   "source": [
    "1. In the example we can see that the we created a person class\n",
    "2. Inside the person class we have created a constructor which takes argument as name and age of the person \n",
    "3. In the init function we have cretaed a private variable which is the name of the person which can't be accessible directly \n",
    "4. To access that variable we created a method called get_name in which we can access the name from these method but we cant access the name directly from the class"
   ]
  },
  {
   "cell_type": "markdown",
   "id": "0731bbaa-0c7d-4a6f-9b6b-79a1ff3677cd",
   "metadata": {},
   "source": [
    "4. Discuss the difference between public, private, and protected access modifiers in Python."
   ]
  },
  {
   "cell_type": "code",
   "execution_count": 15,
   "id": "69baf4ee-085f-4aa8-b27b-faa49ff15ce4",
   "metadata": {},
   "outputs": [],
   "source": [
    "#Public\n",
    "class Person:\n",
    "    def __init__(self, name, age):\n",
    "        self.name = name\n",
    "        self.age = age"
   ]
  },
  {
   "cell_type": "code",
   "execution_count": 16,
   "id": "69420a6b-e23c-4656-b127-c825d569e11a",
   "metadata": {},
   "outputs": [],
   "source": [
    "person = Person('Manish', 19)"
   ]
  },
  {
   "cell_type": "code",
   "execution_count": 17,
   "id": "9645b2dc-d9c3-44df-a338-612e3904d853",
   "metadata": {},
   "outputs": [
    {
     "data": {
      "text/plain": [
       "'Manish'"
      ]
     },
     "execution_count": 17,
     "metadata": {},
     "output_type": "execute_result"
    }
   ],
   "source": [
    "person.name"
   ]
  },
  {
   "cell_type": "code",
   "execution_count": 18,
   "id": "2517cc5b-3de2-4384-88b0-5c8354b172a6",
   "metadata": {},
   "outputs": [
    {
     "data": {
      "text/plain": [
       "19"
      ]
     },
     "execution_count": 18,
     "metadata": {},
     "output_type": "execute_result"
    }
   ],
   "source": [
    "person.age"
   ]
  },
  {
   "cell_type": "code",
   "execution_count": 29,
   "id": "17b864ff-1d9d-4910-b437-f889b45fe55d",
   "metadata": {},
   "outputs": [],
   "source": [
    "# Protected\n",
    "class Person:\n",
    "    def __init__(self, name, age):\n",
    "        self._name = name\n",
    "        self.age = age\n",
    "    def get_name(self):\n",
    "        return self._name"
   ]
  },
  {
   "cell_type": "code",
   "execution_count": 23,
   "id": "26eafc64-38f4-4037-9013-e51267a31aeb",
   "metadata": {},
   "outputs": [],
   "source": [
    "person = Person('Manish', 19)"
   ]
  },
  {
   "cell_type": "code",
   "execution_count": 25,
   "id": "af191e9a-d2c5-45ea-b112-64c4e02c89de",
   "metadata": {},
   "outputs": [
    {
     "data": {
      "text/plain": [
       "'Manish'"
      ]
     },
     "execution_count": 25,
     "metadata": {},
     "output_type": "execute_result"
    }
   ],
   "source": [
    "person.get_name()"
   ]
  },
  {
   "cell_type": "code",
   "execution_count": 35,
   "id": "b0441f24-f3fe-46a6-8851-8bd74f964254",
   "metadata": {},
   "outputs": [],
   "source": [
    "# Private\n",
    "class Person:\n",
    "    def __init__(self, name, age):\n",
    "        self.__name = name\n",
    "        self.age = age\n",
    "    def get_name(self):\n",
    "        return self.__name"
   ]
  },
  {
   "cell_type": "code",
   "execution_count": 36,
   "id": "2665aa91-956d-48a1-b0d0-8e97367c3887",
   "metadata": {},
   "outputs": [],
   "source": [
    "person = Person('Manish', 19)"
   ]
  },
  {
   "cell_type": "code",
   "execution_count": 37,
   "id": "5b9b54e5-1b93-47a6-bd6a-a544e0b601c9",
   "metadata": {},
   "outputs": [
    {
     "data": {
      "text/plain": [
       "'Manish'"
      ]
     },
     "execution_count": 37,
     "metadata": {},
     "output_type": "execute_result"
    }
   ],
   "source": [
    "person.get_name()"
   ]
  },
  {
   "cell_type": "markdown",
   "id": "b7a7b632-8a37-4aa7-bd93-1f0e8a35a99f",
   "metadata": {},
   "source": [
    "1. Create class called Person which having two arguments name and age of the person\n",
    "2. In public modifier we can directly access the data without any method whether we want to access name or age of the person it is publicly available.\n",
    "3. In protected modifier we cant directly access the data directly in the example we have protected the variable _name with the single underscore in order to access that variable we have mentioned one method to access the name of the person i.e get_names\n",
    "4. In private modifier we cant directly access the data directly in the example we have private the variable __name with the double underscore in order to access that variable we have mentioned one method to access the name of the person i.e get_names"
   ]
  },
  {
   "cell_type": "markdown",
   "id": "ddcb2228-cdde-4a3b-8b9b-575cb95c5806",
   "metadata": {},
   "source": [
    "5. Create a Python class called `Person` with a private attribute `__name`. Provide methods to get and set the\n",
    "name attribute."
   ]
  },
  {
   "cell_type": "markdown",
   "id": "11606474-7a22-44b8-9ff6-666e9e1c1e73",
   "metadata": {},
   "source": [
    "5. Create a Python class called `Person` with a private attribute `__name`. Provide methods to get and set the\n",
    "name attribute."
   ]
  },
  {
   "cell_type": "code",
   "execution_count": 49,
   "id": "9d5dddb7-5112-4fa4-bcc5-e1c614808ed1",
   "metadata": {},
   "outputs": [],
   "source": [
    "class Person:\n",
    "    def __init__(self, name):\n",
    "        self.__name = name\n",
    "    \n",
    "    @property\n",
    "    def name(self):\n",
    "        return self.__name\n",
    "    @name.setter\n",
    "    def name(self, name):\n",
    "        self.__name = name \n",
    "    @name.getter\n",
    "    def name(self):\n",
    "        return self.__name\n"
   ]
  },
  {
   "cell_type": "code",
   "execution_count": 50,
   "id": "d90f52c4-c75c-4b64-a3ee-5e888abb56bc",
   "metadata": {},
   "outputs": [],
   "source": [
    "person = Person('Manoj')"
   ]
  },
  {
   "cell_type": "code",
   "execution_count": 51,
   "id": "09d9b353-86fb-4ad1-a2c2-fd48a12f17af",
   "metadata": {},
   "outputs": [
    {
     "data": {
      "text/plain": [
       "'Manoj'"
      ]
     },
     "execution_count": 51,
     "metadata": {},
     "output_type": "execute_result"
    }
   ],
   "source": [
    "person.name"
   ]
  },
  {
   "cell_type": "markdown",
   "id": "fb2f0c99-8098-4896-a953-4cc2b8603fda",
   "metadata": {},
   "source": [
    "1. Create a class called person \n",
    "2. Inside the person class we have one argument called name which is privately protected \n",
    "3. In order to access the variable name without any any underscore we have method called as getter and setter\n",
    "4. First we decorate the variable with property class \n",
    "5. Then by using the property clas first we try to set the value first and then get the values\n",
    "6. Print the result"
   ]
  },
  {
   "cell_type": "markdown",
   "id": "cff2c6a3-35ea-4e23-8905-b5a37d6ff89a",
   "metadata": {},
   "source": [
    "6. Explain the purpose of getter and setter methods in encapsulation. Provide examples."
   ]
  },
  {
   "cell_type": "code",
   "execution_count": 52,
   "id": "2cd686f3-b2a6-4479-9d2d-ace47587ea83",
   "metadata": {},
   "outputs": [],
   "source": [
    "class Person:\n",
    "    def __init__(self, name):\n",
    "        self.__name = name\n",
    "    \n",
    "    @property\n",
    "    def name(self):\n",
    "        return self.__name\n",
    "    @name.setter\n",
    "    def name(self, name):\n",
    "        self.__name = name \n",
    "    @name.getter\n",
    "    def name(self):\n",
    "        return self.__name"
   ]
  },
  {
   "cell_type": "code",
   "execution_count": 53,
   "id": "4e73864a-b250-4bd0-a931-3f6f83c263cd",
   "metadata": {},
   "outputs": [],
   "source": [
    "person = Person('Manoj')"
   ]
  },
  {
   "cell_type": "code",
   "execution_count": 54,
   "id": "5cd6b9f5-6b40-4161-a185-a4d607756c8a",
   "metadata": {},
   "outputs": [
    {
     "data": {
      "text/plain": [
       "'Manoj'"
      ]
     },
     "execution_count": 54,
     "metadata": {},
     "output_type": "execute_result"
    }
   ],
   "source": [
    "person.name"
   ]
  },
  {
   "cell_type": "markdown",
   "id": "ce8905d9-44c8-4077-8882-94ae37ba262d",
   "metadata": {},
   "source": [
    "Getters and setters are used to protect your data, particularly when creating classes. For each instance variable, a getter method returns its value while a setter method sets or updates its value. Given this, getters and setters are also known as accessors and mutators, respectively.\n",
    "1. In the given example Create a class called person \n",
    "2. Inside the person class we have one argument called name which is privately protected \n",
    "3. In order to access the variable name without any any underscore we have method called as getter and setter\n",
    "4. First we decorate the variable with property class \n",
    "5. Then by using the property clas first we try to set the value first and then get the values\n",
    "6. Print the result"
   ]
  },
  {
   "cell_type": "markdown",
   "id": "05859db1-7b53-4800-8bd2-35e2600bcae7",
   "metadata": {},
   "source": [
    "7. What is name mangling in Python, and how does it affect encapsulation?"
   ]
  },
  {
   "cell_type": "code",
   "execution_count": 75,
   "id": "b4845195-b2cc-46ca-bb3f-4578cef1a833",
   "metadata": {},
   "outputs": [],
   "source": [
    "class Student: \n",
    "    def __init__(self, name): \n",
    "        self.__name = name "
   ]
  },
  {
   "cell_type": "code",
   "execution_count": 76,
   "id": "e65704b8-121e-4550-8f5b-15509886ba2d",
   "metadata": {},
   "outputs": [
    {
     "name": "stdout",
     "output_type": "stream",
     "text": [
      "Santhosh\n"
     ]
    }
   ],
   "source": [
    "s1 = Student(\"Santhosh\") \n",
    "print(s1._Student__name)"
   ]
  },
  {
   "cell_type": "markdown",
   "id": "3640e432-56c2-4375-81f7-f3c586dbb4fa",
   "metadata": {},
   "source": [
    "The name mangling process helps to access the class variables from outside the class. The class variables can be accessed by adding _classname to it. The name mangling is closest to private not exactly private. The above class variable is accessed by adding the _classname to it.\n",
    "1. In the example we have created a class called student in which we have constructor which takes one argument\n",
    "2. We have created a private variable name which cant be access directly\n",
    "3. By using name Mangling first we have call the class using single underscore and then the variable name which we have create a private or protected\n",
    "4. Print the result"
   ]
  },
  {
   "cell_type": "markdown",
   "id": "b08c4e11-8872-411e-aeb6-bd5247770e8b",
   "metadata": {},
   "source": [
    "8. Create a Python class called `BankAccount` with private attributes for the account balance (`__balance`) and account number (`__account_number`). Provide methods for depositing and withdrawing money."
   ]
  },
  {
   "cell_type": "code",
   "execution_count": 6,
   "id": "87d41f1f-df91-4ca5-8946-2fe4ff2c4f22",
   "metadata": {},
   "outputs": [],
   "source": [
    "class BankAccount:\n",
    "    def __init__(self, balance, account_number):\n",
    "        self.__balance = balance\n",
    "        self.__account_number = account_number\n",
    "    def deposit_money(self, account_number, amount):\n",
    "        if account_number == self.__account_number:\n",
    "            self.__balance += amount\n",
    "        \n",
    "    def withdraw_money(self, account_number, amount):\n",
    "        if account_number == self.__account_number:\n",
    "            self.__balance -= amount\n",
    "    \n",
    "    def check_balance(self):\n",
    "        return self.__balance\n",
    "    \n",
    "    "
   ]
  },
  {
   "cell_type": "code",
   "execution_count": 7,
   "id": "093aa6ef-08a2-4e0c-95ce-a1e04c24e9ae",
   "metadata": {},
   "outputs": [],
   "source": [
    "bank = BankAccount(5000, 1234)"
   ]
  },
  {
   "cell_type": "code",
   "execution_count": 8,
   "id": "fe918a38-7457-4a91-95ef-f8f5af6f3a43",
   "metadata": {},
   "outputs": [],
   "source": [
    "bank.deposit_money(1234, 2000)"
   ]
  },
  {
   "cell_type": "code",
   "execution_count": 9,
   "id": "8b0acc28-05cc-4d9d-abf3-ecbccdd573d4",
   "metadata": {},
   "outputs": [
    {
     "data": {
      "text/plain": [
       "7000"
      ]
     },
     "execution_count": 9,
     "metadata": {},
     "output_type": "execute_result"
    }
   ],
   "source": [
    "bank.check_balance()"
   ]
  },
  {
   "cell_type": "code",
   "execution_count": 10,
   "id": "441ba823-48e4-4366-9f6e-ed93cddb991b",
   "metadata": {},
   "outputs": [],
   "source": [
    "bank.withdraw_money(1234, 1000)"
   ]
  },
  {
   "cell_type": "code",
   "execution_count": 11,
   "id": "20f7dc07-eed2-4206-b9c4-32a9d9477121",
   "metadata": {},
   "outputs": [
    {
     "data": {
      "text/plain": [
       "6000"
      ]
     },
     "execution_count": 11,
     "metadata": {},
     "output_type": "execute_result"
    }
   ],
   "source": [
    "bank.check_balance()"
   ]
  },
  {
   "cell_type": "markdown",
   "id": "f7d9e9f7-67ba-49a1-8f51-73b2315f59cf",
   "metadata": {},
   "source": [
    "1. Create a class called BankAccount\n",
    "2. Inside the BankAccount class we have created a constructor which takes two arguments account number and balance\n",
    "3. Create a private variable which is account number and balance variables which cant be access directly\n",
    "4. Create a method called deposit money which takes two arguments acxount number and amount. If the account number matches then amount will be depsosited into your bank account\n",
    "5. Create another method called withdraw money which rakes two argumenys account number and amount. If the account number matche then amount will be withdrawn from you account\n",
    "6. In order to check balance we created a method called check balance which will check the balance of you bank account"
   ]
  },
  {
   "cell_type": "markdown",
   "id": "cb77882f-8ea0-4aca-92bc-d3f2fa0ab0f6",
   "metadata": {},
   "source": [
    "9. Discuss the advantages of encapsulation in terms of code maintainability and security."
   ]
  },
  {
   "cell_type": "code",
   "execution_count": 12,
   "id": "a688e004-e09c-4ea1-9173-263ff57b10a4",
   "metadata": {},
   "outputs": [],
   "source": [
    "class BankAccount:\n",
    "    def __init__(self, balance, account_number):\n",
    "        self.__balance = balance\n",
    "        self.__account_number = account_number\n",
    "    def deposit_money(self, account_number, amount):\n",
    "        if account_number == self.__account_number:\n",
    "            self.__balance += amount\n",
    "        \n",
    "    def withdraw_money(self, account_number, amount):\n",
    "        if account_number == self.__account_number:\n",
    "            self.__balance -= amount\n",
    "    \n",
    "    def check_balance(self):\n",
    "        return self.__balance"
   ]
  },
  {
   "cell_type": "code",
   "execution_count": 13,
   "id": "f866d53a-8165-499d-b890-76da3c540bd1",
   "metadata": {},
   "outputs": [],
   "source": [
    "bank = BankAccount(5000, 1234)"
   ]
  },
  {
   "cell_type": "code",
   "execution_count": 14,
   "id": "6ae220c6-e77e-49c0-9837-b07142912941",
   "metadata": {},
   "outputs": [],
   "source": [
    "bank.deposit_money(1234, 2000)"
   ]
  },
  {
   "cell_type": "markdown",
   "id": "9cd77292-c6d6-4150-be0c-20ee8c34f998",
   "metadata": {},
   "source": [
    "The advantages of encapsulation in Python include the following:\n",
    "\n",
    "1. Data hiding: Encapsulation helps to maintain the integrity of an object's data by preventing external modification. \n",
    " \n",
    "2. Easier to understand: It reduces code complexity by hiding implementation details, making code easier to understand and maintain.\n",
    " \n",
    "3. Code reusability: Encapsulation enables code reuse by creating a public interface for a class that can be used by other parts of the program.\n",
    " \n",
    "4. Improved maintainability: It provides better control over the behavior of an object, as changes can be made to the implementation without affecting the rest of the program.\n",
    " \n",
    "5. Better control over class properties : Encapsulation helps to prevent naming conflicts by restricting the scope of variables and methods to the class where they are defined.\n",
    "\n",
    "Example :\n",
    "\n",
    "1. In the above example Create a class called BankAccount\n",
    "2. Inside the BankAccount class we have created a constructor which takes two arguments account number and balance\n",
    "3. Create a private variable which is account number and balance variables which cant be access directly\n",
    "4. Create a method called deposit money which takes two arguments acxount number and amount. If the account number matches then amount will be depsosited into your bank account\n",
    "5. Create another method called withdraw money which rakes two argumenys account number and amount. If the account number matche then amount will be withdrawn from you account\n",
    "6. In order to check balance we created a method called check balance which will check the balance of you bank account"
   ]
  },
  {
   "cell_type": "markdown",
   "id": "9e13c6d0-e76c-4f63-97fb-1c27c86a6fbd",
   "metadata": {},
   "source": [
    "10. How can you access private attributes in Python? Provide an example demonstrating the use of name\n",
    "mangling."
   ]
  },
  {
   "cell_type": "code",
   "execution_count": 15,
   "id": "26908240-42c5-4d77-a692-ed7da491bd7e",
   "metadata": {},
   "outputs": [],
   "source": [
    "class Student: \n",
    "    def __init__(self, name): \n",
    "        self.__name = name "
   ]
  },
  {
   "cell_type": "code",
   "execution_count": 16,
   "id": "e231e343-eb7a-4412-be26-ce99f197dcec",
   "metadata": {},
   "outputs": [
    {
     "name": "stdout",
     "output_type": "stream",
     "text": [
      "Santhosh\n"
     ]
    }
   ],
   "source": [
    "s1 = Student(\"Santhosh\") \n",
    "print(s1._Student__name)"
   ]
  },
  {
   "cell_type": "markdown",
   "id": "6c23d1ef-dab8-41da-b248-d31dc1854598",
   "metadata": {},
   "source": [
    "1. In the example we have created a class called student in which we have constructor which takes one argument\n",
    "2. We have created a private variable name which cant be access directly\n",
    "3. By using name Mangling first we have call the class using single underscore and then the variable name which we have create a private or protected\n",
    "4. Print the result"
   ]
  },
  {
   "cell_type": "markdown",
   "id": "b0ec9da8-0904-4573-b9aa-0634e09e57c2",
   "metadata": {},
   "source": [
    "11. Create a Python class hierarchy for a school system, including classes for students, teachers, and courses,\n",
    "and implement encapsulation principles to protect sensitive information."
   ]
  },
  {
   "cell_type": "code",
   "execution_count": 17,
   "id": "61faf93f-0fd1-4e80-9a49-21c1df34c6f9",
   "metadata": {},
   "outputs": [],
   "source": [
    "class School:\n",
    "    def __init__(self, name, age):\n",
    "        self.__name = name\n",
    "        self.__age = age\n",
    "class Student(School):\n",
    "    def __init__(self, name, age):\n",
    "        super().__init__(name, age)\n",
    "        self.__name = name\n",
    "        self.__age = age\n",
    "    def details(self):\n",
    "        print(f'Name: {self.__name}, Age : {self.__age}')\n",
    "class Teacher(School):\n",
    "    def __init__(self, name, age, subject):\n",
    "        super().__init__(name, age)\n",
    "        self.__name = name\n",
    "        self.__age = age\n",
    "        self.subject = subject\n",
    "    def details(self):\n",
    "        return f'Name: {self.__name}, Age : {self.__age}, Subject : {self.subject}'\n",
    "class Courses(Teacher):\n",
    "    def __init__(self, name, age, subject):\n",
    "        super().__init__(name,age, subject)\n",
    "        self.__name = name\n",
    "        self.__age = age\n",
    "    def details(self):\n",
    "        return f'Mentor Name: {self.__name}, Age : {self.__age}, Subject : {self.subject}'"
   ]
  },
  {
   "cell_type": "code",
   "execution_count": 18,
   "id": "e5bc4618-aca4-4323-923f-628cab27ea92",
   "metadata": {},
   "outputs": [
    {
     "name": "stdout",
     "output_type": "stream",
     "text": [
      "Name: Manish, Age : 19\n"
     ]
    }
   ],
   "source": [
    "student = Student('Manish', 19)\n",
    "student.details()"
   ]
  },
  {
   "cell_type": "code",
   "execution_count": 19,
   "id": "847fa711-0ef5-49b4-bef7-c5af75311bc2",
   "metadata": {},
   "outputs": [],
   "source": [
    "courses = Courses('Manoj', 29, 'Data Science')"
   ]
  },
  {
   "cell_type": "code",
   "execution_count": 20,
   "id": "00edaa44-ec44-4934-bf41-d1e9f78054c4",
   "metadata": {},
   "outputs": [
    {
     "data": {
      "text/plain": [
       "'Mentor Name: Manoj, Age : 29, Subject : Data Science'"
      ]
     },
     "execution_count": 20,
     "metadata": {},
     "output_type": "execute_result"
    }
   ],
   "source": [
    "courses.details()"
   ]
  },
  {
   "cell_type": "markdown",
   "id": "69de9138-37f9-4278-8131-922dcd36fc1f",
   "metadata": {},
   "source": [
    "1. Create a class called School inside the school class we have creted constructor which takes two arguments first is name and second one is age\n",
    "2. Both the variable are privately protected which cant be accessible easily]\n",
    "3. Create a class called as student which is inherit from the class school inside the class we have created constructor which takes name and age of the student which is privately protected \n",
    "4. Create a class calles as Teacher which is inherit from the school class takes name and age as privately protectd variable and takes another argument called the subject of the teacher\n",
    "5. Create another class called as courses which is inherit from the class called Teacher which takes name and age as privately protected and subject is publicly modifies and also add the details which gives access to the user to see the details of each classes"
   ]
  },
  {
   "cell_type": "markdown",
   "id": "713351ba-be9d-4a0d-a6d9-cb0886093132",
   "metadata": {},
   "source": [
    "12. Explain the concept of property decorators in Python and how they relate to encapsulation."
   ]
  },
  {
   "cell_type": "code",
   "execution_count": 21,
   "id": "28c970a3-4fc8-4dcf-be8a-e7112b02015c",
   "metadata": {},
   "outputs": [],
   "source": [
    "class Person:\n",
    "    def __init__(self, name):\n",
    "        self.__name = name\n",
    "    \n",
    "    @property\n",
    "    def name(self):\n",
    "        return self.__name\n",
    "    @name.setter\n",
    "    def name(self, name):\n",
    "        self.__name = name \n",
    "    @name.getter\n",
    "    def name(self):\n",
    "        return self.__nam"
   ]
  },
  {
   "cell_type": "markdown",
   "id": "afac921c-1fb0-4bf1-b25c-111c17468624",
   "metadata": {},
   "source": [
    "@property decorator is a built-in decorator in Python which is helpful in defining the properties effortlessly without manually calling the inbuilt function property(). Which is used to return the property attributes of a class from the stated getter, setter and deleter as parameters.\n",
    "1. In the given example Create a class called person \n",
    "2. Inside the person class we have one argument called name which is privately protected \n",
    "3. In order to access the variable name without any any underscore we have method called as getter and setter\n",
    "4. First we decorate the variable with property class \n",
    "5. Then by using the property clas first we try to set the value first and then get the values\n",
    "6. Print the result"
   ]
  },
  {
   "cell_type": "markdown",
   "id": "799ff6af-01ee-408c-8585-74fac9cbb5f9",
   "metadata": {},
   "source": [
    "13. What is data hiding, and why is it important in encapsulation? Provide examples."
   ]
  },
  {
   "cell_type": "code",
   "execution_count": 22,
   "id": "0d7aef12-6bcd-48f7-920e-2bde2f940b2d",
   "metadata": {},
   "outputs": [],
   "source": [
    "class BankAccount:\n",
    "    def __init__(self, balance, account_number):\n",
    "        self.__balance = balance\n",
    "        self.__account_number = account_number\n",
    "    def deposit_money(self, account_number, amount):\n",
    "        if account_number == self.__account_number:\n",
    "            self.__balance += amount\n",
    "        \n",
    "    def withdraw_money(self, account_number, amount):\n",
    "        if account_number == self.__account_number:\n",
    "            self.__balance -= amount\n",
    "    \n",
    "    def check_balance(self):\n",
    "        return self.__balance"
   ]
  },
  {
   "cell_type": "code",
   "execution_count": 23,
   "id": "35f0884f-d99d-44e4-b064-0bf23b0df82e",
   "metadata": {},
   "outputs": [],
   "source": [
    "bank = BankAccount(5000, 1234)"
   ]
  },
  {
   "cell_type": "code",
   "execution_count": 24,
   "id": "d09a550c-c4dd-4655-baa1-156a27e5f338",
   "metadata": {},
   "outputs": [],
   "source": [
    "bank.deposit_money(1234, 2000)"
   ]
  },
  {
   "cell_type": "markdown",
   "id": "b79dfd12-c3f8-4039-81a8-3cefe9857dd0",
   "metadata": {},
   "source": [
    "Data Hiding : While data hiding focuses on restricting data use in a program to assure data security, data encapsulation focuses on wrapping (or encapsulating) the complex data to present a simpler view to the user. In data hiding, the data has to be defined as private only. In data encapsulation, the data can be public or private.The Python document introduces Data Hiding as isolating the user from a part of program implementation. Some objects in the module are kept internal, unseen, and unreachable to the user. Modules in the program are easy enough to understand how to use the application, but the client cannot know how the application functions. Thus, data hiding imparts security, along with discarding dependency. Data hiding in Python is the technique to defend access to specific users in the application. Python is applied in every technical area and has a user-friendly syntax and vast libraries. Data hiding in Python is performed using the __ double underscore before done prefix. This makes the class members non-public and isolated from the other classes.\n",
    "\n",
    "Example :\n",
    "\n",
    "1. In the above example Create a class called BankAccount\n",
    "2. Inside the BankAccount class we have created a constructor which takes two arguments account number and balance\n",
    "3. Create a private variable which is account number and balance variables which cant be access directly\n",
    "4. Create a method called deposit money which takes two arguments acxount number and amount. If the account number matches then amount will be depsosited into your bank account\n",
    "5. Create another method called withdraw money which rakes two argumenys account number and amount. If the account number matche then amount will be withdrawn from you account\n",
    "6. In order to check balance we created a method called check balance which will check the balance of you bank account\n"
   ]
  },
  {
   "cell_type": "markdown",
   "id": "2637a478-07b2-4bfd-bb9d-38cc9ec0c543",
   "metadata": {},
   "source": [
    "14. Create a Python class called `Employee` with private attributes for salary (`__salary`) and employee ID (`__employee_id`). Provide a method to calculate yearly bonuses."
   ]
  },
  {
   "cell_type": "code",
   "execution_count": 28,
   "id": "7e16fdc3-e9e6-48f4-8b2a-caf900bcd897",
   "metadata": {},
   "outputs": [],
   "source": [
    "class Employee:\n",
    "    def __init__(self, employee_id, salary):\n",
    "        self.__employee_id = employee_id\n",
    "        self.__salary = salary\n",
    "    def calculate_bonus(self):\n",
    "        if self.__salary < 7000:\n",
    "            bonus = self.__salary * (8.33/100)\n",
    "            return f'The bonus for id {self.__employee_id} of Rs. {bonus}'\n",
    "        elif self.__salary > 7000:\n",
    "            bonus = self.__salary * (8.33/100)\n",
    "            return f'The bonus for id {self.__employee_id} of Rs.{bonus}'"
   ]
  },
  {
   "cell_type": "code",
   "execution_count": 29,
   "id": "b511d2e9-8285-4afc-b05a-b1315fc75aaf",
   "metadata": {},
   "outputs": [],
   "source": [
    "employee = Employee(1233, 8000)"
   ]
  },
  {
   "cell_type": "code",
   "execution_count": 30,
   "id": "8bb8fd85-4d0d-4fdb-b938-6ce7a3707a9d",
   "metadata": {},
   "outputs": [
    {
     "data": {
      "text/plain": [
       "'The bonus for id 1233 of Rs.666.4'"
      ]
     },
     "execution_count": 30,
     "metadata": {},
     "output_type": "execute_result"
    }
   ],
   "source": [
    "employee.calculate_bonus()"
   ]
  },
  {
   "cell_type": "markdown",
   "id": "653d1847-76b5-4579-8950-dddd0432c4fc",
   "metadata": {},
   "source": [
    "1. Create a class called Employee\n",
    "2. Inside the employee class we have created a constructor which takes two arguments employee_id and salary \n",
    "3. Both the attributes of these class is privately protected which cant be access directly to the user\n",
    "4. Create a method called calculate bonus which calculate the bonus of all the employee \n",
    "5. print the result"
   ]
  },
  {
   "cell_type": "markdown",
   "id": "c654773b-65b3-41b6-979c-e87e718edc2b",
   "metadata": {},
   "source": [
    "15. Discuss the use of accessors and mutators in encapsulation. How do they help maintain control over\n",
    "attribute access?"
   ]
  },
  {
   "cell_type": "code",
   "execution_count": 31,
   "id": "866f5aba-56ba-446b-8896-12adcecca189",
   "metadata": {},
   "outputs": [],
   "source": [
    "class Person:\n",
    "    def __init__(self, name):\n",
    "        self.__name = name\n",
    "    \n",
    "    @property\n",
    "    def name(self):\n",
    "        return self.__name\n",
    "    @name.setter\n",
    "    def name(self, name):\n",
    "        self.__name = name \n",
    "    @name.getter\n",
    "    def name(self):\n",
    "        return self.__name"
   ]
  },
  {
   "cell_type": "code",
   "execution_count": 32,
   "id": "4b6dce86-3935-4caf-a0d7-2008d283efd6",
   "metadata": {},
   "outputs": [],
   "source": [
    "person = Person('Manoj')"
   ]
  },
  {
   "cell_type": "code",
   "execution_count": 33,
   "id": "290df4a2-e0b1-424f-b0b9-c25a4789e0a1",
   "metadata": {},
   "outputs": [
    {
     "data": {
      "text/plain": [
       "'Manoj'"
      ]
     },
     "execution_count": 33,
     "metadata": {},
     "output_type": "execute_result"
    }
   ],
   "source": [
    "person.name"
   ]
  },
  {
   "cell_type": "markdown",
   "id": "74a6856a-8213-4053-ab12-4a2cace6cc44",
   "metadata": {},
   "source": [
    "Accessor Method: This method is used to access the state of the object i.e, the data hidden in the object can be accessed from this method. However, this method cannot change the state of the object, it can only access the data hidden. We can name these methods with the word get. \n",
    " \n",
    "Mutator Method: This method is used to mutate/modify the state of an object i.e, it alters the hidden value of the data variable. It can set the value of a variable instantly to a new value. This method is also called as update method. Moreover, we can name these methods with the word set. \n",
    "\n",
    "Example:\n",
    "1. In the given example Create a class called person \n",
    "2. Inside the person class we have one argument called name which is privately protected \n",
    "3. In order to access the variable name without any any underscore we have method called as getter and setter\n",
    "4. First we decorate the variable with property class \n",
    "5. Then by using the property clas first we try to set the value first and then get the values\n",
    "6. Print the result"
   ]
  },
  {
   "cell_type": "code",
   "execution_count": 34,
   "id": "e5a4045c-0d14-4f3f-a07a-63f222d2ed88",
   "metadata": {},
   "outputs": [],
   "source": [
    "class Person:\n",
    "    def __init__(self, name, age):\n",
    "        self.__name = name\n",
    "        self.age = age\n",
    "    def get_name(self):\n",
    "        return self.__name"
   ]
  },
  {
   "cell_type": "code",
   "execution_count": 35,
   "id": "cccaf6f8-8a59-4523-b936-c3803667089d",
   "metadata": {},
   "outputs": [],
   "source": [
    "person = Person('Manish', 19)"
   ]
  },
  {
   "cell_type": "code",
   "execution_count": 36,
   "id": "bd13220e-533c-491b-8178-2108b0e7e6bd",
   "metadata": {},
   "outputs": [
    {
     "data": {
      "text/plain": [
       "'Manish'"
      ]
     },
     "execution_count": 36,
     "metadata": {},
     "output_type": "execute_result"
    }
   ],
   "source": [
    "person.get_name()"
   ]
  },
  {
   "cell_type": "markdown",
   "id": "96ed4b83-373d-4c51-93a3-42d2b3239133",
   "metadata": {},
   "source": [
    "Disadvantages: \n",
    "1. Code Size:The length of the code increases drastically in the case of encapsulation as we need to provide all the methods with the specifiers.\n",
    "2. More Instructions: As the size of the code increases, therefore, you need to provide additional instructions for every method.\n",
    "3. Increased code execution: Encapsulation results in an increase in the duration of the program execution. It is because more instructions are added to the code therefore they require more time to execute.\n",
    "\n",
    "Example:\n",
    "1. In the above example we can see that we created a class called person inside the class we have created a constructor which takes two argument name and age of the person\n",
    "2. The attribute name we have created a private protected variable which is access easily\n",
    "3. If someone has access the variable name we have to another method to access the name of the person which takes more and more line to the code\n",
    "4. Thats the biggest disadvantage of the encapsulation"
   ]
  },
  {
   "cell_type": "markdown",
   "id": "76816d01-774b-472a-a79d-247dd59fcb33",
   "metadata": {},
   "source": [
    "17. Create a Python class for a library system that encapsulates book information, including titles, authors,\n",
    "and availability status."
   ]
  },
  {
   "cell_type": "code",
   "execution_count": 44,
   "id": "226053a8-53b4-4878-8571-ee92852eb1b4",
   "metadata": {},
   "outputs": [],
   "source": [
    "class Library:\n",
    "    def __init__(self, titles, authors, availablity):\n",
    "        self.__titles = titles\n",
    "        self.__authors = authors\n",
    "        self.__availablity = availablity\n",
    "    def book_details(self):\n",
    "        return f'Book Name : {self.__titles}, Author Name : {self.__authors}, Availablity : {self.__availablity} days'"
   ]
  },
  {
   "cell_type": "code",
   "execution_count": 45,
   "id": "e3013379-4b7a-4e45-9211-e5dae3ca4b95",
   "metadata": {},
   "outputs": [],
   "source": [
    "library = Library('Harry Potter' , 'J.K Rowlings', 7)"
   ]
  },
  {
   "cell_type": "code",
   "execution_count": 46,
   "id": "bef30b5a-418a-4e0a-90fc-75ff30cc86e6",
   "metadata": {},
   "outputs": [
    {
     "data": {
      "text/plain": [
       "'Book Name : Harry Potter, Author Name : J.K Rowlings, Availablity : 7 days'"
      ]
     },
     "execution_count": 46,
     "metadata": {},
     "output_type": "execute_result"
    }
   ],
   "source": [
    "library.book_details()"
   ]
  },
  {
   "cell_type": "markdown",
   "id": "a997bad0-bfa8-4a67-862d-e12e8855b3a2",
   "metadata": {},
   "source": [
    "1. Create a class called library \n",
    "2. Inside the library class we create a constructor whih takes the titles, author name and availablity of the book\n",
    "3. We have created private variables like titles, authors and availablity of the book\n",
    "4. Create a method called book details which gives the details of the books which are available\n",
    "5. Print the result"
   ]
  },
  {
   "cell_type": "markdown",
   "id": "21aaf67f-f8b9-4966-9d44-9313e74c2720",
   "metadata": {},
   "source": [
    "18. Explain how encapsulation enhances code reusability and modularity in Python programs."
   ]
  },
  {
   "cell_type": "code",
   "execution_count": 51,
   "id": "33a110d8-ae17-49b1-8e22-9047afb302b3",
   "metadata": {},
   "outputs": [],
   "source": [
    "class BankAccount:\n",
    "    def __init__(self, balance, account_number):\n",
    "        self.__balance = balance\n",
    "        self.__account_number = account_number\n",
    "    def deposit_money(self, account_number, amount):\n",
    "        if account_number == self.__account_number:\n",
    "            self.__balance += amount\n",
    "        \n",
    "    def withdraw_money(self, account_number, amount):\n",
    "        if account_number == self.__account_number:\n",
    "            self.__balance -= amount\n",
    "    \n",
    "    def check_balance(self):\n",
    "        return self.__balance"
   ]
  },
  {
   "cell_type": "code",
   "execution_count": 52,
   "id": "022160e3-9d27-476c-af49-bec8cacd6ea3",
   "metadata": {},
   "outputs": [],
   "source": [
    "bank = BankAccount(5000, 1234)"
   ]
  },
  {
   "cell_type": "code",
   "execution_count": 53,
   "id": "ea2e11ab-86fa-454d-a77f-a180b044e387",
   "metadata": {},
   "outputs": [],
   "source": [
    "bank.deposit_money(1234, 4000)"
   ]
  },
  {
   "cell_type": "code",
   "execution_count": 54,
   "id": "eff5ea9e-1ab3-4a1f-89e8-c0a52a1fa0c9",
   "metadata": {},
   "outputs": [
    {
     "data": {
      "text/plain": [
       "9000"
      ]
     },
     "execution_count": 54,
     "metadata": {},
     "output_type": "execute_result"
    }
   ],
   "source": [
    "bank.check_balance()"
   ]
  },
  {
   "cell_type": "markdown",
   "id": "66decf88-cd4f-4ec2-8ace-9b97c5815e7c",
   "metadata": {},
   "source": [
    "1. Create a class called BankAccount which we created a constructor which takes the two arguments balance and account number\n",
    "2. Both the variable is privately protected \n",
    "3. In encapsulation if we dont want change any variable then we use the modifiers as private or protected which can be reuse in every method \n",
    "4. In this example the account number and balance is privately which does not want to change but if the person deposit or withdraw the money then only the value of the balance changes otherwise it doesnot change\n",
    "5. If the user has entered the wrong account number then it would not be accessible for there account\n",
    "6. So in terms of reusablity and modularity the encapsulation enhances in python program"
   ]
  },
  {
   "cell_type": "markdown",
   "id": "5ae55fee-47be-4b97-be93-278c9d9ca476",
   "metadata": {},
   "source": [
    "20. Create a Python class called `Customer` with private attributes for customer details like name, address,\n",
    "and contact information. Implement encapsulation to ensure data integrity and security."
   ]
  },
  {
   "cell_type": "code",
   "execution_count": 61,
   "id": "27330e8b-abbd-4ca9-b173-50f0257ed2ee",
   "metadata": {},
   "outputs": [],
   "source": [
    "class Customer:\n",
    "    def __init__(self, name, address, contact):\n",
    "        self.__name = name\n",
    "        self.__address = address\n",
    "        self.__contact = contact\n",
    "        \n",
    "    def customer_details(self):\n",
    "        return f' Customer Name : {self.__name}, Address : {self.__address}, Contact No : {self.__contact}'"
   ]
  },
  {
   "cell_type": "code",
   "execution_count": 62,
   "id": "ae4d1761-e0ca-4730-8bbd-e73e73ee2489",
   "metadata": {},
   "outputs": [],
   "source": [
    "customer = Customer('Rajesh', 'Marine drive,Mumbai - 400001', 1235)"
   ]
  },
  {
   "cell_type": "code",
   "execution_count": 63,
   "id": "9d2e134d-ce50-47a2-aebd-b8625b13f50c",
   "metadata": {},
   "outputs": [
    {
     "data": {
      "text/plain": [
       "' Customer Name : Rajesh, Address : Marine drive,Mumbai - 400001, Contact No : 1235'"
      ]
     },
     "execution_count": 63,
     "metadata": {},
     "output_type": "execute_result"
    }
   ],
   "source": [
    "customer.customer_details()"
   ]
  },
  {
   "cell_type": "markdown",
   "id": "69b48f0a-5879-4a5f-913a-7cf0603b4b07",
   "metadata": {},
   "source": [
    "1. Create a class called customer inside the customer class we create constructor which takes the three arguments name, address and contact\n",
    "2. These 3 attributes are privately protected \n",
    "3. In order to see the details of the customer we have cretaed a method called customer_details which will give the full details of the customer\n",
    "4. Print the result "
   ]
  },
  {
   "cell_type": "markdown",
   "id": "ac48dcd8-38d4-4130-a221-6c408f76070f",
   "metadata": {},
   "source": [
    "# Polymorphism:"
   ]
  },
  {
   "cell_type": "markdown",
   "id": "4e09184f-1ec7-44da-b386-a4bb0f962d8e",
   "metadata": {},
   "source": [
    "1. What is polymorphism in Python? Explain how it is related to object-oriented programming."
   ]
  },
  {
   "cell_type": "code",
   "execution_count": 2,
   "id": "a46be5f1-ddf8-4800-b1c7-40e4287367c7",
   "metadata": {},
   "outputs": [],
   "source": [
    "class Tomato:\n",
    "    def type_thing(self):\n",
    "        print('Vegtable')\n",
    "    def color(self):\n",
    "        print('Red')\n",
    "class Apple:\n",
    "    def type_thing(self):\n",
    "        print('Fruit')\n",
    "    def color(self):\n",
    "        print('Red')"
   ]
  },
  {
   "cell_type": "code",
   "execution_count": 3,
   "id": "9fb7eb4a-e8f3-444d-858f-f370bc0ef5ad",
   "metadata": {},
   "outputs": [
    {
     "name": "stdout",
     "output_type": "stream",
     "text": [
      "Vegtable\n"
     ]
    }
   ],
   "source": [
    "tomato = Tomato()\n",
    "tomato.type_thing()"
   ]
  },
  {
   "cell_type": "code",
   "execution_count": 4,
   "id": "48d4be18-f7bb-44c5-9565-2728864027f9",
   "metadata": {},
   "outputs": [
    {
     "name": "stdout",
     "output_type": "stream",
     "text": [
      "Red\n"
     ]
    }
   ],
   "source": [
    "tomato.color()"
   ]
  },
  {
   "cell_type": "code",
   "execution_count": 5,
   "id": "64fbeb57-2e4f-4373-bc30-de8573fc07c7",
   "metadata": {},
   "outputs": [
    {
     "name": "stdout",
     "output_type": "stream",
     "text": [
      "Fruit\n"
     ]
    }
   ],
   "source": [
    "apple = Apple()\n",
    "apple.type_thing()"
   ]
  },
  {
   "cell_type": "code",
   "execution_count": 6,
   "id": "0e20352a-2a41-43f5-8b47-8be8066b68ba",
   "metadata": {},
   "outputs": [
    {
     "name": "stdout",
     "output_type": "stream",
     "text": [
      "Red\n"
     ]
    }
   ],
   "source": [
    "apple.color()"
   ]
  },
  {
   "cell_type": "markdown",
   "id": "a910aa82-7775-466e-a09c-c5d29398111a",
   "metadata": {},
   "source": [
    "Polymorphism is taken from the Greek words Poly (many) and morphism (forms). It means that the same function name can be used for different types. This makes programming more intuitive and easier. A child class inherits all the methods from the parent class. However, in some situations, the method inherited from the parent class doesn’t quite fit into the child class. In such cases, you will have to re-implement method in the child class.\n",
    "\n",
    "Example:\n",
    "1. In the above example we can see that we have created two classes first is Tomato and apple\n",
    "2. In the tomato class we have creted two method in the first method we have type_thing method which prints type of tomato and other method called the color of th tomato\n",
    "3. In the second class called Apple we have created the same these two method type_thing and color of the apple\n",
    "4. In the type_thing method first in the tomato is the type of vegetables in the second class we have type_thing method printed as fruit \n",
    "5. The method have same name it can be act differently or overiding the previous method is called the polymorphism"
   ]
  },
  {
   "cell_type": "markdown",
   "id": "4bf8ac0c-202b-4116-a7a1-a3dc63f7df2b",
   "metadata": {},
   "source": [
    "2. Describe the difference between compile-time polymorphism and runtime polymorphism in Python."
   ]
  },
  {
   "cell_type": "code",
   "execution_count": 13,
   "id": "a16c3606-38ab-40c9-a79a-bb9d10b6982b",
   "metadata": {},
   "outputs": [],
   "source": [
    "# Compile Time PolyMorphism\n",
    "class Add:\n",
    "    def __init__(self, a):\n",
    "        self.a = a\n",
    " \n",
    "    # adding two objects \n",
    "    def __add__(self, o):\n",
    "        return self.a + o.a"
   ]
  },
  {
   "cell_type": "code",
   "execution_count": 14,
   "id": "c4640606-dc7f-4f4e-b830-4e9b87f482fa",
   "metadata": {},
   "outputs": [
    {
     "name": "stdout",
     "output_type": "stream",
     "text": [
      "7\n"
     ]
    }
   ],
   "source": [
    "add_1 = Add(3)\n",
    "add_2 = Add(4)\n",
    "print(add_1 + add_2)"
   ]
  },
  {
   "cell_type": "code",
   "execution_count": 15,
   "id": "fcf71fc4-cdaa-4775-a3a8-1989ccb85d17",
   "metadata": {},
   "outputs": [],
   "source": [
    "# Real Time Polymorphism\n",
    "class Bird:\n",
    "    def fly(self):\n",
    "        print('Bird can Fly')\n",
    "class Parrot(Bird):\n",
    "    def fly(self):\n",
    "        print('Parrot can fly')"
   ]
  },
  {
   "cell_type": "code",
   "execution_count": 16,
   "id": "4291bca4-f4a3-4e3b-aa8f-296038137f46",
   "metadata": {},
   "outputs": [
    {
     "name": "stdout",
     "output_type": "stream",
     "text": [
      "Parrot can fly\n"
     ]
    }
   ],
   "source": [
    "parrot = Parrot()\n",
    "parrot.fly()"
   ]
  },
  {
   "cell_type": "markdown",
   "id": "f302cd70-efb6-4f0c-b3db-5fb5b6b3a5f1",
   "metadata": {},
   "source": [
    "1. Compile Time Polymorphism: Method overloading can be used to describe compile-time polymorphism. Compile-time polymorphism allows us to use many methods with the same name but differing signatures and return types.\n",
    "\n",
    "Example:\n",
    "1. In the first example we have created a class called as Add inside these class we have created a constructor which takes one argument\n",
    "2. We have mentioned another method called add which in which the different objects can be added and give the results\n",
    "3. These type of method is compile time polymorphism or Overloading method\n",
    "\n",
    "2. Runtime Polymorphism: Method overriding can be used to demonstrate run-time polymorphism. Run-time polymorphism is associated with different classes, but it allows us to use the same method with different signature names.\n",
    "\n",
    "Example:\n",
    "1. In the example we have created class called bird inside the class we have created a method called as fly which prints The birds can fly\n",
    "2. Create another class called parrot which is inherited from the class bird and inside the method we have define the same method fly which prints the parrot can fly\n",
    "3. In these case we have metioned two classes with same method but these same methods acts differently for both the classes\n",
    "4. These type of method is called as Run Time Polynorphism or Overriding Method"
   ]
  },
  {
   "cell_type": "markdown",
   "id": "26887098-38d9-4da8-9834-dfec06c904fc",
   "metadata": {},
   "source": [
    "3. Create a Python class hierarchy for shapes (e.g., circle, square, triangle) and demonstrate polymorphism\n",
    "through a common method, such as `calculate_area()`."
   ]
  },
  {
   "cell_type": "code",
   "execution_count": 22,
   "id": "1b00fba0-2275-436b-bf09-ddaba46ca61a",
   "metadata": {},
   "outputs": [],
   "source": [
    "class Shape:\n",
    "    def calculate_area(self):\n",
    "        pass\n",
    "    \n",
    "class Circle(Shape):\n",
    "    def __init__(self, radius):\n",
    "        self.radius = radius\n",
    "    def calculate_area(self):\n",
    "        return 3.14 * (self.radius ** 2)\n",
    "    \n",
    "class Square(Shape):\n",
    "    def __init__(self, length):\n",
    "        self.length = length \n",
    "    def calculate_area(self):\n",
    "        return self.length ** 2\n",
    "    \n",
    "class Triangle(Shape):\n",
    "    def __init__(self, base, height):\n",
    "        self.base = base\n",
    "        self.height = height\n",
    "    def calculate_area(self):\n",
    "        return 1/2 * self.base * self.height\n",
    "        "
   ]
  },
  {
   "cell_type": "code",
   "execution_count": 23,
   "id": "b253a4a1-c4ed-4ebd-b676-41fef375ee36",
   "metadata": {},
   "outputs": [
    {
     "data": {
      "text/plain": [
       "78.5"
      ]
     },
     "execution_count": 23,
     "metadata": {},
     "output_type": "execute_result"
    }
   ],
   "source": [
    "circle = Circle(5)\n",
    "circle.calculate_area()"
   ]
  },
  {
   "cell_type": "code",
   "execution_count": 24,
   "id": "9df8f2dd-6cd8-4b3e-8349-75e31cc56176",
   "metadata": {},
   "outputs": [
    {
     "data": {
      "text/plain": [
       "16"
      ]
     },
     "execution_count": 24,
     "metadata": {},
     "output_type": "execute_result"
    }
   ],
   "source": [
    "square = Square(4)\n",
    "square.calculate_area()"
   ]
  },
  {
   "cell_type": "code",
   "execution_count": 25,
   "id": "d1aa523d-65cf-45a5-94c5-b6727ada2c78",
   "metadata": {},
   "outputs": [
    {
     "data": {
      "text/plain": [
       "15.0"
      ]
     },
     "execution_count": 25,
     "metadata": {},
     "output_type": "execute_result"
    }
   ],
   "source": [
    "triangle = Triangle(5, 6)\n",
    "triangle.calculate_area()"
   ]
  },
  {
   "cell_type": "markdown",
   "id": "5777ffe4-3d69-4a45-9a49-c181d3586bd6",
   "metadata": {},
   "source": [
    "1. Create a class called Shape inside the circle class we have created method called as calculate area\n",
    "2. Create another class called circle which is inherited from the shape class and created constructor inside the circle class which takes one argument as radius and inside the circle class created a method called as calculate area which overide the method from previous class  \n",
    "3. Create another class called Square which is inherited from the shape class and created constructor inside the square class which takes one argument as lenght and inside the square class created a method called as calculate area which overide the method from previous class  \n",
    "4. Create another class called Rectangle which is inherited from the shape class and created constructor inside the rectanle class which takes two argument as base and height and inside the rectangle class created a method called as calculate area which overide the method from previous class  "
   ]
  },
  {
   "cell_type": "markdown",
   "id": "19e3d6b7-1974-4b03-9644-696ff378bb55",
   "metadata": {},
   "source": [
    "4. Explain the concept of method overriding in polymorphism. Provide an example."
   ]
  },
  {
   "cell_type": "code",
   "execution_count": 1,
   "id": "7b8ca239-ccd8-42f1-a913-c10cab4b0d96",
   "metadata": {},
   "outputs": [],
   "source": [
    "class Bird:\n",
    "    def fly(self):\n",
    "        print('Bird can Fly')\n",
    "class Parrot(Bird):\n",
    "    def fly(self):\n",
    "        print('Parrot can fly')"
   ]
  },
  {
   "cell_type": "code",
   "execution_count": 2,
   "id": "3d73e469-d0d0-4565-8e6c-8861308278e9",
   "metadata": {},
   "outputs": [
    {
     "name": "stdout",
     "output_type": "stream",
     "text": [
      "Parrot can fly\n"
     ]
    }
   ],
   "source": [
    "parrot = Parrot()\n",
    "parrot.fly()"
   ]
  },
  {
   "cell_type": "markdown",
   "id": "290ed883-9c76-4c89-90cf-62e0bb7636ba",
   "metadata": {},
   "source": [
    "1. In the example we have created class called bird inside the class we have created a method called as fly which prints The birds can fly\n",
    "2. Create another class called parrot which is inherited from the class bird and inside the method we have define the same method fly which prints the parrot can fly\n",
    "3. In these case we have metioned two classes with same method but these same methods acts differently for both the classes\n",
    "4. These type of method is called as Run Time Polynorphism or Overriding Method"
   ]
  },
  {
   "cell_type": "markdown",
   "id": "0730f8e1-3a23-46a5-85d9-fa7bd8cab028",
   "metadata": {},
   "source": [
    "5. How is polymorphism different from method overloading in Python? Provide examples for both."
   ]
  },
  {
   "cell_type": "code",
   "execution_count": 3,
   "id": "1cd6560a-9c72-4ab5-b73b-067022bebff1",
   "metadata": {},
   "outputs": [],
   "source": [
    "class Add:\n",
    "    def __init__(self, a):\n",
    "        self.a = a\n",
    " \n",
    "    # adding two objects \n",
    "    def __add__(self, o):\n",
    "        return self.a + o.a"
   ]
  },
  {
   "cell_type": "code",
   "execution_count": 4,
   "id": "576fef74-f91d-47b5-ba8a-fdb843676898",
   "metadata": {},
   "outputs": [
    {
     "name": "stdout",
     "output_type": "stream",
     "text": [
      "7\n"
     ]
    }
   ],
   "source": [
    "add_1 = Add(3)\n",
    "add_2 = Add(4)\n",
    "print(add_1 + add_2)"
   ]
  },
  {
   "cell_type": "code",
   "execution_count": 5,
   "id": "3787ffb2-6e67-4067-a062-0cef4c5c3794",
   "metadata": {},
   "outputs": [],
   "source": [
    "class Bird:\n",
    "    def fly(self):\n",
    "        print('Bird can Fly')\n",
    "class Parrot(Bird):\n",
    "    def fly(self):\n",
    "        print('Parrot can fly')"
   ]
  },
  {
   "cell_type": "code",
   "execution_count": 6,
   "id": "3ad32269-5e88-464d-8f6b-037df922d4ac",
   "metadata": {},
   "outputs": [
    {
     "name": "stdout",
     "output_type": "stream",
     "text": [
      "Parrot can fly\n"
     ]
    }
   ],
   "source": [
    "parrot = Parrot()\n",
    "parrot.fly()"
   ]
  },
  {
   "cell_type": "markdown",
   "id": "6a12d7a9-7ca0-40ae-8e91-28aab221a47c",
   "metadata": {},
   "source": [
    "1. Compile Time Polymorphism: Method overloading can be used to describe compile-time polymorphism. Compile-time polymorphism allows us to use many methods with the same name but differing signatures and return types.\n",
    "\n",
    "Example:\n",
    "1. In the first example we have created a class called as Add inside these class we have created a constructor which takes one argument\n",
    "2. We have mentioned another method called add which in which the different objects can be added and give the results\n",
    "3. These type of method is compile time polymorphism or Overloading method\n",
    "\n",
    "2. Runtime Polymorphism: Method overriding can be used to demonstrate run-time polymorphism. Run-time polymorphism is associated with different classes, but it allows us to use the same method with different signature names.\n",
    "\n",
    "Example:\n",
    "1. In the example we have created class called bird inside the class we have created a method called as fly which prints The birds can fly\n",
    "2. Create another class called parrot which is inherited from the class bird and inside the method we have define the same method fly which prints the parrot can fly\n",
    "3. In these case we have metioned two classes with same method but these same methods acts differently for both the classes\n",
    "4. These type of method is called as Run Time Polynorphism or Overriding Method"
   ]
  },
  {
   "cell_type": "markdown",
   "id": "bd322615-f9e8-4e60-a95d-6bfdc2b78f9b",
   "metadata": {},
   "source": [
    "6. Create a Python class called `Animal` with a method `speak()`. Then, create child classes like `Dog`, `Cat`, and `Bird`, each with their own `speak()` method. Demonstrate polymorphism by calling the `speak()` method\n",
    "on objects of different subclasses."
   ]
  },
  {
   "cell_type": "code",
   "execution_count": 7,
   "id": "9b1447dc-7d2c-40b7-989a-be8edebcd0b3",
   "metadata": {},
   "outputs": [],
   "source": [
    "class Animal:\n",
    "    def speak(self):\n",
    "        print('Animal is speaking')\n",
    "class Dog(Animal):\n",
    "    def speak(self):\n",
    "        print('Bark')\n",
    "class Cat(Animal):\n",
    "    def speak(self):\n",
    "        print('Meow')\n",
    "class Bird(Animal):\n",
    "    def speak(self):\n",
    "        print('Bird Speak')"
   ]
  },
  {
   "cell_type": "code",
   "execution_count": 8,
   "id": "12541954-2b74-4128-b14b-c6737abf4928",
   "metadata": {},
   "outputs": [
    {
     "name": "stdout",
     "output_type": "stream",
     "text": [
      "Bark\n"
     ]
    }
   ],
   "source": [
    "dog = Dog()\n",
    "dog.speak()"
   ]
  },
  {
   "cell_type": "code",
   "execution_count": 9,
   "id": "d5a8856c-973d-4992-9a04-7628c1fa6d33",
   "metadata": {},
   "outputs": [
    {
     "name": "stdout",
     "output_type": "stream",
     "text": [
      "Meow\n"
     ]
    }
   ],
   "source": [
    "cat = Cat()\n",
    "cat.speak()"
   ]
  },
  {
   "cell_type": "code",
   "execution_count": 10,
   "id": "0d69b424-a0b0-49cb-a2c8-c6d4a02a0723",
   "metadata": {},
   "outputs": [
    {
     "name": "stdout",
     "output_type": "stream",
     "text": [
      "Bird Speak\n"
     ]
    }
   ],
   "source": [
    "bird = Bird()\n",
    "bird.speak()"
   ]
  },
  {
   "cell_type": "markdown",
   "id": "3bc1f865-4ff5-46dd-896b-72327b76ac9a",
   "metadata": {},
   "source": [
    "1. Create a class called Animal inside the class we created a method called speak\n",
    "2. Create another class called Dog inside the dog class we created a method called which overides the previous method and print the dog speak\n",
    "3. Create another class called Cat inside the cat class we created a method called which overides the previous method and print the cat speak\n",
    "4.  Create another class called bird inside the bird class we created a method called which overides the previous method and print the bird speak"
   ]
  },
  {
   "cell_type": "markdown",
   "id": "376640ac-d4ec-41dd-b1f6-6678772453b7",
   "metadata": {},
   "source": [
    "7. Discuss the use of abstract methods and classes in achieving polymorphism in Python. Provide an example\n",
    "using the `abc` module."
   ]
  },
  {
   "cell_type": "code",
   "execution_count": 11,
   "id": "4f461ddd-70c3-49cb-a438-75b7a17a0833",
   "metadata": {},
   "outputs": [],
   "source": [
    "from abc import ABC, abstractmethod"
   ]
  },
  {
   "cell_type": "code",
   "execution_count": 12,
   "id": "3b7ec6dc-c444-42ae-a415-0c1b966b9ee8",
   "metadata": {},
   "outputs": [],
   "source": [
    "class Student(ABC):\n",
    "    @abstractmethod\n",
    "    def name(self, name):\n",
    "        pass\n",
    "    @abstractmethod\n",
    "    def age(self, age):\n",
    "        pass\n",
    "        "
   ]
  },
  {
   "cell_type": "code",
   "execution_count": 13,
   "id": "ecab25f5-cea0-40f6-a59f-964502de0c73",
   "metadata": {},
   "outputs": [],
   "source": [
    "class name(Student):\n",
    "    def name(self, name):\n",
    "        return name\n",
    "    def age(self, age):\n",
    "        return age"
   ]
  },
  {
   "cell_type": "code",
   "execution_count": 15,
   "id": "39dfecfb-54aa-477d-be3b-ce99412ea53b",
   "metadata": {},
   "outputs": [],
   "source": [
    "name = name()"
   ]
  },
  {
   "cell_type": "code",
   "execution_count": 16,
   "id": "97747a2a-92b2-4ad8-b6cf-0fd0232d75e5",
   "metadata": {},
   "outputs": [
    {
     "data": {
      "text/plain": [
       "'Manish'"
      ]
     },
     "execution_count": 16,
     "metadata": {},
     "output_type": "execute_result"
    }
   ],
   "source": [
    "name.name('Manish')"
   ]
  },
  {
   "cell_type": "code",
   "execution_count": 17,
   "id": "74f28896-104d-4b52-aa23-00708663eebf",
   "metadata": {},
   "outputs": [
    {
     "data": {
      "text/plain": [
       "19"
      ]
     },
     "execution_count": 17,
     "metadata": {},
     "output_type": "execute_result"
    }
   ],
   "source": [
    "name.age(19)"
   ]
  },
  {
   "cell_type": "markdown",
   "id": "c6b4c5ac-9326-4bd4-b930-839b517b2ba8",
   "metadata": {},
   "source": [
    "Python comes with a module that provides the base for defining Abstract Base classes(ABC) and that module name is ABC. ABC works by decorating methods of the base class as an abstract and then registering concrete classes as implementations of the abstract base\n",
    "1. In the above example we are creating a class student which inhereting from the class called ABC\n",
    "2. If we are decorating @abstract in any one of the method it is essential for the user that they have to create function in each of the method which we have created inside the parent class\n",
    "3. After completing all the methods as per abstraction then it wont give any error to user and it will run the programme as per abstraction\n",
    "4. Print the result "
   ]
  },
  {
   "cell_type": "markdown",
   "id": "dcf496fd-0acf-4ab9-ab74-4c3beffbb49c",
   "metadata": {},
   "source": [
    "8. Create a Python class hierarchy for a vehicle system (e.g., car, bicycle, boat) and implement a polymorphic `start()` method that prints a message specific to each vehicle type."
   ]
  },
  {
   "cell_type": "code",
   "execution_count": 19,
   "id": "28814b47-257f-4bae-b4b3-46167be46252",
   "metadata": {},
   "outputs": [],
   "source": [
    "class Vehicle:\n",
    "    def start(self):\n",
    "        print('Start a Vehicle')\n",
    "class Car(Vehicle):\n",
    "    def start(self):\n",
    "        print('Car Start')\n",
    "class Bicycle(Vehicle):\n",
    "    def start(self):\n",
    "        print('Bicycle Start')\n",
    "class Boat(Vehicle):\n",
    "    def start(self):\n",
    "        print('Boat Start')"
   ]
  },
  {
   "cell_type": "code",
   "execution_count": 20,
   "id": "ed9f1aac-e3ad-4490-a466-7e0d11693c36",
   "metadata": {},
   "outputs": [
    {
     "name": "stdout",
     "output_type": "stream",
     "text": [
      "Car Start\n"
     ]
    }
   ],
   "source": [
    "car = Car()\n",
    "car.start()"
   ]
  },
  {
   "cell_type": "code",
   "execution_count": 21,
   "id": "7de8d757-e8ac-4c23-85bc-80f540b47614",
   "metadata": {},
   "outputs": [
    {
     "name": "stdout",
     "output_type": "stream",
     "text": [
      "Bicycle Start\n"
     ]
    }
   ],
   "source": [
    "bicycle = Bicycle()\n",
    "bicycle.start()"
   ]
  },
  {
   "cell_type": "code",
   "execution_count": 22,
   "id": "66a546ce-6ac4-4533-adc3-45f0e127af7c",
   "metadata": {},
   "outputs": [
    {
     "name": "stdout",
     "output_type": "stream",
     "text": [
      "Boat Start\n"
     ]
    }
   ],
   "source": [
    "boat = Boat()\n",
    "boat.start()"
   ]
  },
  {
   "cell_type": "markdown",
   "id": "10403d1a-8fb2-4aca-a6dc-8c0f1a576d66",
   "metadata": {},
   "source": [
    "1. Create a class called Vehicle inside the class we created a method called start\n",
    "2. Create another class called Car inside the Car class we created a method called Start which overides the previous method and print the car start\n",
    "3. Create another class called Bicycle inside the Bicycle class we created a method called start which overides the previous method and print the bicycle start \n",
    "4.  Create another class called Boat inside the Boat class we created a method called start which overides the previous method and print the boat start"
   ]
  },
  {
   "cell_type": "markdown",
   "id": "9bf0a42d-c13e-4855-a6dd-7ed9da2231f0",
   "metadata": {},
   "source": [
    "9. Explain the significance of the `isinstance()` and `issubclass()` functions in Python polymorphism."
   ]
  },
  {
   "cell_type": "code",
   "execution_count": 23,
   "id": "5e83d045-6a20-44ae-956f-7eb9c9f50547",
   "metadata": {},
   "outputs": [],
   "source": [
    "# isinstance\n",
    "class myObj:\n",
    "    name = \"John\"\n",
    "\n",
    "y = myObj()"
   ]
  },
  {
   "cell_type": "code",
   "execution_count": 26,
   "id": "99933d51-da39-48bf-a67d-af802ee80180",
   "metadata": {},
   "outputs": [],
   "source": [
    "x = isinstance(y, myObj)"
   ]
  },
  {
   "cell_type": "code",
   "execution_count": 27,
   "id": "022f54c9-7811-44bc-9db4-241b4926c752",
   "metadata": {},
   "outputs": [
    {
     "name": "stdout",
     "output_type": "stream",
     "text": [
      "True\n"
     ]
    }
   ],
   "source": [
    "print(x)"
   ]
  },
  {
   "cell_type": "code",
   "execution_count": 29,
   "id": "4f976c54-8cde-482e-a43d-acdc1f92caed",
   "metadata": {},
   "outputs": [],
   "source": [
    "# issubclass\n",
    "class Person:\n",
    "    def __init__(self,name):\n",
    "        self.name = name\n",
    "class Student(Person):\n",
    "    def __init__(self,name, age):\n",
    "        super().__init__(name)\n",
    "        self.age = age\n",
    "    def display(self):\n",
    "        print(self.name,self.age)"
   ]
  },
  {
   "cell_type": "code",
   "execution_count": 31,
   "id": "d6f476a0-3283-4368-bcc0-ef7ab60c3f01",
   "metadata": {},
   "outputs": [
    {
     "name": "stdout",
     "output_type": "stream",
     "text": [
      "True\n"
     ]
    }
   ],
   "source": [
    "print(issubclass(Student, Person))"
   ]
  },
  {
   "cell_type": "markdown",
   "id": "fe5b1462-284e-4dfd-b7d0-7a6b914c3406",
   "metadata": {},
   "source": [
    "isinstace:\n",
    "1. The isinstance() function returns True if the specified object is of the specified type, otherwise Fals . \n",
    "2. If the type parameter is a tuple, this function will return True if the object is one of the types in the tuple.\n",
    "3. The isinstance () function checks whether an object is an instance of the class mentioned. \n",
    "4. One can test if an object or variable is an instance of the type or class. \n",
    "5. If inheritance is present in the program, then the function can be used to check if a specified class is the parent class of an object.\n",
    "\n",
    "issubclass:\n",
    "1. Create a class called Person\n",
    "2. Inside the person we have created a constructor which takes two arguments name and age of the person\n",
    "3. Inside the person class we have created a method called details which gives the details of the person\n",
    "4. Create a another class called student which is inherting from the person class \n",
    "5. These class have method of the parent class to use by using inheritance\n",
    "6. By using issubclass it will return that the class we are refering to is the subclass of other or not\n",
    "7. It will return boolean as true and false\n",
    "8. In the example we are checking that if the student class is the subclass of person class or not\n",
    "9. Print the result\n"
   ]
  },
  {
   "cell_type": "markdown",
   "id": "bee98062-5736-447e-997e-89bc36e27ff8",
   "metadata": {},
   "source": [
    "10. What is the role of the `@abstractmethod` decorator in achieving polymorphism in Python? Provide an\n",
    "example."
   ]
  },
  {
   "cell_type": "code",
   "execution_count": 32,
   "id": "d967e3ae-2abd-419d-8105-7e6f3c02a196",
   "metadata": {},
   "outputs": [],
   "source": [
    "class Student(ABC):\n",
    "    @abstractmethod\n",
    "    def name(self, name):\n",
    "        pass\n",
    "    @abstractmethod\n",
    "    def age(self, age):\n",
    "        pass\n",
    "        "
   ]
  },
  {
   "cell_type": "code",
   "execution_count": 33,
   "id": "8315586e-33b2-4787-b449-2f177410d77f",
   "metadata": {},
   "outputs": [],
   "source": [
    "class name(Student):\n",
    "    def name(self, name):\n",
    "        return name\n",
    "    def age(self, age):\n",
    "        return age"
   ]
  },
  {
   "cell_type": "code",
   "execution_count": 34,
   "id": "c284b1e4-795e-4f97-8d71-9ce73edca47a",
   "metadata": {},
   "outputs": [],
   "source": [
    "name = name()"
   ]
  },
  {
   "cell_type": "code",
   "execution_count": 35,
   "id": "a276da7c-eda6-490c-bae4-bbb2deac981f",
   "metadata": {},
   "outputs": [
    {
     "data": {
      "text/plain": [
       "'Manish'"
      ]
     },
     "execution_count": 35,
     "metadata": {},
     "output_type": "execute_result"
    }
   ],
   "source": [
    "name.name('Manish')"
   ]
  },
  {
   "cell_type": "code",
   "execution_count": 36,
   "id": "6f216486-0b24-4a8a-8914-4082d06c3640",
   "metadata": {},
   "outputs": [
    {
     "data": {
      "text/plain": [
       "19"
      ]
     },
     "execution_count": 36,
     "metadata": {},
     "output_type": "execute_result"
    }
   ],
   "source": [
    "name.age(19)"
   ]
  },
  {
   "cell_type": "markdown",
   "id": "065ea092-0f22-49a2-b5f5-feee11111d75",
   "metadata": {},
   "source": [
    "Python comes with a module that provides the base for defining Abstract Base classes(ABC) and that module name is ABC. ABC works by decorating methods of the base class as an abstract and then registering concrete classes as implementations of the abstract base\n",
    "1. In the above example we are creating a class student which inhereting from the class called ABC\n",
    "2. If we are decorating @abstract in any one of the method it is essential for the user that they have to create function in each of the method which we have created inside the parent class\n",
    "3. After completing all the methods as per abstraction then it wont give any error to user and it will run the programme as per abstraction\n",
    "4. Print the result "
   ]
  },
  {
   "cell_type": "markdown",
   "id": "5c074c4a-17ee-45f6-ac64-9c8dd1f8d792",
   "metadata": {},
   "source": [
    "11. Create a Python class called `Shape` with a polymorphic method `area()` that calculates the area of different shapes (e.g., circle, rectangle, triangle)."
   ]
  },
  {
   "cell_type": "code",
   "execution_count": 37,
   "id": "ef3b949e-6957-4b29-915b-5bb9c8320caf",
   "metadata": {},
   "outputs": [],
   "source": [
    "class Shape:\n",
    "    def calculate_area(self):\n",
    "        pass\n",
    "    \n",
    "class Circle(Shape):\n",
    "    def __init__(self, radius):\n",
    "        self.radius = radius\n",
    "    def calculate_area(self):\n",
    "        return 3.14 * (self.radius ** 2)\n",
    "    \n",
    "class Square(Shape):\n",
    "    def __init__(self, length):\n",
    "        self.length = length \n",
    "    def calculate_area(self):\n",
    "        return self.length ** 2\n",
    "    \n",
    "class Triangle(Shape):\n",
    "    def __init__(self, base, height):\n",
    "        self.base = base\n",
    "        self.height = height\n",
    "    def calculate_area(self):\n",
    "        return 1/2 * self.base * self.height\n",
    "        "
   ]
  },
  {
   "cell_type": "code",
   "execution_count": 38,
   "id": "b2f4b601-a89f-405a-a702-30a2cec65419",
   "metadata": {},
   "outputs": [
    {
     "data": {
      "text/plain": [
       "78.5"
      ]
     },
     "execution_count": 38,
     "metadata": {},
     "output_type": "execute_result"
    }
   ],
   "source": [
    "circle = Circle(5)\n",
    "circle.calculate_area()"
   ]
  },
  {
   "cell_type": "code",
   "execution_count": 39,
   "id": "c4fd28c1-3a67-4516-9bbd-3e6150554855",
   "metadata": {},
   "outputs": [
    {
     "data": {
      "text/plain": [
       "16"
      ]
     },
     "execution_count": 39,
     "metadata": {},
     "output_type": "execute_result"
    }
   ],
   "source": [
    "square = Square(4)\n",
    "square.calculate_area()"
   ]
  },
  {
   "cell_type": "code",
   "execution_count": 40,
   "id": "8133bcec-8e6e-4fb4-9007-2e31445accb3",
   "metadata": {},
   "outputs": [
    {
     "data": {
      "text/plain": [
       "15.0"
      ]
     },
     "execution_count": 40,
     "metadata": {},
     "output_type": "execute_result"
    }
   ],
   "source": [
    "triangle = Triangle(5, 6)\n",
    "triangle.calculate_area()"
   ]
  },
  {
   "cell_type": "markdown",
   "id": "a648eb1c-8270-4ceb-9cc9-f1374b1e35c7",
   "metadata": {},
   "source": [
    "1. Create a class called Shape inside the circle class we have created method called as calculate area\n",
    "2. Create another class called circle which is inherited from the shape class and created constructor inside the circle class which takes one argument as radius and inside the circle class created a method called as calculate area which overide the method from previous class  \n",
    "3. Create another class called Square which is inherited from the shape class and created constructor inside the square class which takes one argument as lenght and inside the square class created a method called as calculate area which overide the method from previous class  \n",
    "4. Create another class called Rectangle which is inherited from the shape class and created constructor inside the rectanle class which takes two argument as base and height and inside the rectangle class created a method called as calculate area which overide the method from previous class "
   ]
  },
  {
   "cell_type": "markdown",
   "id": "98676d9b-fb73-4b3e-b587-5c3e82873179",
   "metadata": {},
   "source": [
    "12. Discuss the benefits of polymorphism in terms of code reusability and flexibility in Python programs."
   ]
  },
  {
   "cell_type": "code",
   "execution_count": 41,
   "id": "e1afe423-8c0e-4139-9f67-6f5ea4f191a5",
   "metadata": {},
   "outputs": [],
   "source": [
    "class Shape:\n",
    "    def calculate_area(self):\n",
    "        pass\n",
    "    \n",
    "class Circle(Shape):\n",
    "    def __init__(self, radius):\n",
    "        self.radius = radius\n",
    "    def calculate_area(self):\n",
    "        return 3.14 * (self.radius ** 2)\n",
    "    \n",
    "class Square(Shape):\n",
    "    def __init__(self, length):\n",
    "        self.length = length \n",
    "    def calculate_area(self):\n",
    "        return self.length ** 2\n",
    "    \n",
    "class Triangle(Shape):\n",
    "    def __init__(self, base, height):\n",
    "        self.base = base\n",
    "        self.height = height\n",
    "    def calculate_area(self):\n",
    "        return 1/2 * self.base * self.height"
   ]
  },
  {
   "cell_type": "code",
   "execution_count": 42,
   "id": "4e238f30-3ce1-43e8-a5e2-050c87ccb7d3",
   "metadata": {},
   "outputs": [
    {
     "data": {
      "text/plain": [
       "78.5"
      ]
     },
     "execution_count": 42,
     "metadata": {},
     "output_type": "execute_result"
    }
   ],
   "source": [
    "circle = Circle(5)\n",
    "circle.calculate_area()"
   ]
  },
  {
   "cell_type": "code",
   "execution_count": 43,
   "id": "5b7142c0-60cd-42fa-9006-1ca0c649aa67",
   "metadata": {},
   "outputs": [
    {
     "data": {
      "text/plain": [
       "16"
      ]
     },
     "execution_count": 43,
     "metadata": {},
     "output_type": "execute_result"
    }
   ],
   "source": [
    "square = Square(4)\n",
    "square.calculate_area()"
   ]
  },
  {
   "cell_type": "code",
   "execution_count": 44,
   "id": "22db13e9-4d7f-4012-b71f-8abdfb0572f4",
   "metadata": {},
   "outputs": [
    {
     "data": {
      "text/plain": [
       "15.0"
      ]
     },
     "execution_count": 44,
     "metadata": {},
     "output_type": "execute_result"
    }
   ],
   "source": [
    "triangle = Triangle(5, 6)\n",
    "triangle.calculate_area()"
   ]
  },
  {
   "cell_type": "markdown",
   "id": "485c5de4-d981-442f-9f17-240d741c56dd",
   "metadata": {},
   "source": [
    "Polymorphism in Python is an effective concept that has many advantages. It allows you to write code that is flexible and reusable. It also allows programmers to make code more efficient by avoiding repetitive code. Developers can use polymorphism to create functions or methods that can operate on various object types.\n",
    "\n",
    "Example:\n",
    "1. Create a class called Shape inside the circle class we have created method called as calculate area\n",
    "2. Create another class called circle which is inherited from the shape class and created constructor inside the circle class which takes one argument as radius and inside the circle class created a method called as calculate area which overide the method from previous class  \n",
    "3. Create another class called Square which is inherited from the shape class and created constructor inside the square class which takes one argument as lenght and inside the square class created a method called as calculate area which overide the method from previous class  \n",
    "4. Create another class called Rectangle which is inherited from the shape class and created constructor inside the rectanle class which takes two argument as base and height and inside the rectangle class created a method called as calculate area which overide the method from previous class "
   ]
  },
  {
   "cell_type": "markdown",
   "id": "77194b7d-0a8e-4dd5-9531-1442bc31c2cc",
   "metadata": {},
   "source": [
    "13. Explain the use of the `super()` function in Python polymorphism. How does it help call methods of parent\n",
    "classes?"
   ]
  },
  {
   "cell_type": "code",
   "execution_count": 45,
   "id": "3f27b03a-6c3c-41d9-ae12-17b4122b9f07",
   "metadata": {},
   "outputs": [],
   "source": [
    "class Employee:\n",
    "    def __init__(self, name, salary):\n",
    "        self.name = name\n",
    "        self.salary = salary\n",
    "class Manager(Employee):\n",
    "    def __init__(self, name, salary, department):\n",
    "        super().__init__(name, salary)\n",
    "        self.department = department\n",
    "    def details(self):\n",
    "        return f'Name : {self.name}, Salary : Rs.{self.salary}, Department : {self.department}'"
   ]
  },
  {
   "cell_type": "code",
   "execution_count": 46,
   "id": "e073b75c-f1b6-4f83-a871-0d75def78d4c",
   "metadata": {},
   "outputs": [],
   "source": [
    "manager = Manager('Manish', 32000, 'HR')"
   ]
  },
  {
   "cell_type": "code",
   "execution_count": 47,
   "id": "e6522c5c-8dae-4894-ac05-fc7fc2690bb0",
   "metadata": {},
   "outputs": [
    {
     "data": {
      "text/plain": [
       "'Name : Manish, Salary : Rs.32000, Department : HR'"
      ]
     },
     "execution_count": 47,
     "metadata": {},
     "output_type": "execute_result"
    }
   ],
   "source": [
    "manager.details()"
   ]
  },
  {
   "cell_type": "markdown",
   "id": "ed24d415-2bbc-4a32-8d05-bd0b816f749c",
   "metadata": {},
   "source": [
    "In Python, the super() function is used to refer to the parent class or superclass. It allows you to call methods defined in the superclass from the subclass, enabling you to extend and customize the functionality inherited from the parent class\n",
    "\n",
    "Example:\n",
    "\n",
    "1. Create a class called employee\n",
    "2. Inside the class employee we have created a constructor which takes two argumemts name and salary \n",
    "3. Create another class called manager which is inherit from the class employee and created a constructor inside the manager class and add the department arguments \n",
    "4. Inside the manager class we have created a method called details which gives the details of the employee\n",
    "5. Print the result"
   ]
  },
  {
   "cell_type": "markdown",
   "id": "b9105250-7d0f-48fe-aae2-2bed3bf41570",
   "metadata": {},
   "source": [
    "14. Create a Python class hierarchy for a banking system with various account types (e.g., savings, checking, credit card) and demonstrate polymorphism by implementing a common `withdraw()` method."
   ]
  },
  {
   "cell_type": "code",
   "execution_count": 48,
   "id": "178e93c0-8fff-4064-aa57-640ee642f2d6",
   "metadata": {},
   "outputs": [],
   "source": [
    "class Bank:\n",
    "    def withdraw(self):\n",
    "        pass\n",
    "class Savings_Account(Bank):\n",
    "    def withdraw(self):\n",
    "        print('Money Withdraw from Savings Account')\n",
    "class Credit_Card(Bank):\n",
    "    def withdraw(self):\n",
    "        print('Money withdraw from Credit Card')\n",
    "class Current_Account(Bank):\n",
    "    def withdraw(self):\n",
    "        print('Money withdraw from Current Account')"
   ]
  },
  {
   "cell_type": "code",
   "execution_count": 50,
   "id": "2b57f381-cd73-4bce-8f8b-f90b5b85a9eb",
   "metadata": {},
   "outputs": [
    {
     "name": "stdout",
     "output_type": "stream",
     "text": [
      "Money Withdraw from Savings Account\n"
     ]
    }
   ],
   "source": [
    "saving_account = Savings_Account()\n",
    "saving_account.withdraw()"
   ]
  },
  {
   "cell_type": "code",
   "execution_count": 51,
   "id": "5f82c411-686f-440e-9ea1-c62d7d6a822b",
   "metadata": {},
   "outputs": [
    {
     "name": "stdout",
     "output_type": "stream",
     "text": [
      "Money withdraw from Credit Card\n"
     ]
    }
   ],
   "source": [
    "credit_card = Credit_Card()\n",
    "credit_card.withdraw()"
   ]
  },
  {
   "cell_type": "code",
   "execution_count": 52,
   "id": "e55adebf-7b9c-41ab-82dd-51a2900f51dd",
   "metadata": {},
   "outputs": [
    {
     "name": "stdout",
     "output_type": "stream",
     "text": [
      "Money withdraw from Current Account\n"
     ]
    }
   ],
   "source": [
    "current_account = Current_Account()\n",
    "current_account.withdraw()"
   ]
  },
  {
   "cell_type": "markdown",
   "id": "fbf8345d-22ef-4f46-a441-872bb9a935be",
   "metadata": {},
   "source": [
    "1. Create a class called Bank inside the class we created a method called withdraw\n",
    "2. Create another class called Savings_Account inside the Savings_Account class we created a method called withdraw which overides the previous method and print the Withdraw\n",
    "3. Create another class called Credit_Card inside the Credit_Card class we created a method called withdraw which overides the previous method and print the withdraw money from credit card \n",
    "4.  Create another class called Current_Account inside the Current_Account class we created a method called withdraw which overides the previous method and print the withdraw money from current account"
   ]
  },
  {
   "cell_type": "markdown",
   "id": "8a244b89-e304-4e11-8d6d-7a9e5b7d7ff7",
   "metadata": {},
   "source": [
    "15. Describe the concept of operator overloading in Python and how it relates to polymorphism. Provide\n",
    "examples using operators like `+` and `*`."
   ]
  },
  {
   "cell_type": "code",
   "execution_count": 6,
   "id": "237ace42-61f7-4b9e-bcdb-28fc377c59d2",
   "metadata": {},
   "outputs": [],
   "source": [
    "class Add:\n",
    "    def __init__(self, a):\n",
    "        self.a = a\n",
    " \n",
    "    # adding two objects \n",
    "    def __add__(self, o):\n",
    "        return self.a + o.a"
   ]
  },
  {
   "cell_type": "code",
   "execution_count": 7,
   "id": "449b41b3-f68b-4a88-95fd-12ee8317c5b3",
   "metadata": {},
   "outputs": [
    {
     "name": "stdout",
     "output_type": "stream",
     "text": [
      "4\n"
     ]
    }
   ],
   "source": [
    "add_1 = Add(2)\n",
    "add_2 = Add(2)\n",
    "print(add_1 + add_2)"
   ]
  },
  {
   "cell_type": "code",
   "execution_count": 8,
   "id": "66fa27bb-cbc3-4484-8cb9-3f4e1ba1b426",
   "metadata": {},
   "outputs": [],
   "source": [
    "class Mul:\n",
    "    def __init__(self, a):\n",
    "        self.a = a\n",
    " \n",
    "    # multiply two objects \n",
    "    def __mul__(self, o):\n",
    "        return self.a * o.a"
   ]
  },
  {
   "cell_type": "code",
   "execution_count": 11,
   "id": "e613d123-c68f-4236-ada9-fda598ec1f4b",
   "metadata": {},
   "outputs": [
    {
     "name": "stdout",
     "output_type": "stream",
     "text": [
      "4\n"
     ]
    }
   ],
   "source": [
    "mul_1 = Mul(2)\n",
    "mul_2 = Mul(2)\n",
    "print(mul_1 * mul_2)"
   ]
  },
  {
   "cell_type": "markdown",
   "id": "c7400077-91f4-4ff4-8cb8-13a31e5fb160",
   "metadata": {},
   "source": [
    "Example 1 : \n",
    "1. In the first example we have created a class called as Add inside these class we have created a constructor which takes one argument\n",
    "2. We have mentioned another method called add which in which the different objects can be added and give the results\n",
    "3. These type of method is add operator Overloading method\n",
    "\n",
    "Example 2:\n",
    "1. In the first example we have created a class called as Mul inside these class we have created a constructor which takes one argument\n",
    "2. We have mentioned another method called MUl which in which the different objects can be multiply and give the results\n",
    "3. These type of method is multiply operator Overloading method\n"
   ]
  },
  {
   "cell_type": "markdown",
   "id": "37154c3e-0b33-45f5-8db8-084c175a4a14",
   "metadata": {},
   "source": [
    "16. What is dynamic polymorphism, and how is it achieved in Python?"
   ]
  },
  {
   "cell_type": "code",
   "execution_count": 12,
   "id": "3bb29a99-7dd3-4a53-a8c9-dfd9f8fe69ef",
   "metadata": {},
   "outputs": [],
   "source": [
    "class Animal:\n",
    "    def speak(self):\n",
    "        print('Animal is speaking')\n",
    "class Dog(Animal):\n",
    "    def speak(self):\n",
    "        print('Bark')\n",
    "class Cat(Animal):\n",
    "    def speak(self):\n",
    "        print('Meow')\n",
    "class Bird(Animal):\n",
    "    def speak(self):\n",
    "        print('Bird Speak')"
   ]
  },
  {
   "cell_type": "code",
   "execution_count": 13,
   "id": "01f39cd4-84a8-40d8-8992-f690da710493",
   "metadata": {},
   "outputs": [
    {
     "name": "stdout",
     "output_type": "stream",
     "text": [
      "Bark\n"
     ]
    }
   ],
   "source": [
    "dog = Dog()\n",
    "dog.speak()"
   ]
  },
  {
   "cell_type": "code",
   "execution_count": 14,
   "id": "d0db2812-5fb9-4a77-be28-d4ebe0dd8c08",
   "metadata": {},
   "outputs": [
    {
     "name": "stdout",
     "output_type": "stream",
     "text": [
      "Meow\n"
     ]
    }
   ],
   "source": [
    "cat = Cat()\n",
    "cat.speak()"
   ]
  },
  {
   "cell_type": "code",
   "execution_count": 15,
   "id": "350465dd-08ac-4484-a0ac-ca80a7afb20b",
   "metadata": {},
   "outputs": [
    {
     "name": "stdout",
     "output_type": "stream",
     "text": [
      "Bird Speak\n"
     ]
    }
   ],
   "source": [
    "bird = Bird()\n",
    "bird.speak()"
   ]
  },
  {
   "cell_type": "markdown",
   "id": "0645a195-8f7f-409e-b6b1-c59ac9745688",
   "metadata": {},
   "source": [
    "Dynamic Polymorphism: Polymorphism in python defines methods in the child class that have the same name as the methods in the parent class. In inheritance, the child class inherits the methods from the parent class. Also, it is possible to modify a method in a child class that it has inherited from the parent class\n",
    "\n",
    "Example:\n",
    "\n",
    "1. Create a class called Animal inside the class we created a method called speak\n",
    "2. Create another class called Dog inside the dog class we created a method called which overides the previous method and print the dog speak\n",
    "3. Create another class called Cat inside the cat class we created a method called which overides the previous method and print the cat speak\n",
    "4.  Create another class called bird inside the bird class we created a method called which overides the previous method and print the bird speak"
   ]
  },
  {
   "cell_type": "markdown",
   "id": "7ee1f62d-e875-4260-9319-c2f317333a71",
   "metadata": {},
   "source": [
    "17. Create a Python class hierarchy for employees in a company (e.g., manager, developer, designer) and implement polymorphism through a common `calculate_salary()` method."
   ]
  },
  {
   "cell_type": "code",
   "execution_count": 3,
   "id": "53a17432-d309-47ab-a679-ab92e99a1222",
   "metadata": {},
   "outputs": [],
   "source": [
    "class Employee:\n",
    "    def __init__(self, gross, tax, pf):\n",
    "        self.gross = gross\n",
    "        self.tax = tax\n",
    "        self.pf = pf\n",
    "    def calculate_salary(self):\n",
    "        salary = self.gross - self.tax - self.pf\n",
    "        return salary\n",
    "class Manager(Employee):\n",
    "    def __init__(self, gross, tax, pf):\n",
    "        super().__init__(gross, tax, pf)\n",
    "class Developer(Employee):\n",
    "    def __init__(self, gross, tax, pf):\n",
    "        super().__init__(gross, tax, pf)\n",
    "class Designer(Employee):\n",
    "    def __init__(self, gross, tax, pf):\n",
    "        super().__init__(gross, tax, pf)\n",
    "    "
   ]
  },
  {
   "cell_type": "code",
   "execution_count": 4,
   "id": "981a674e-970b-4349-86d0-d1afda9dde2f",
   "metadata": {},
   "outputs": [
    {
     "data": {
      "text/plain": [
       "45000"
      ]
     },
     "execution_count": 4,
     "metadata": {},
     "output_type": "execute_result"
    }
   ],
   "source": [
    "manager = Manager(50000, 2000, 3000)\n",
    "manager.calculate_salary()"
   ]
  },
  {
   "cell_type": "code",
   "execution_count": 6,
   "id": "c9e8cc40-6584-41c8-b55e-5d3d335601c3",
   "metadata": {},
   "outputs": [
    {
     "data": {
      "text/plain": [
       "32500"
      ]
     },
     "execution_count": 6,
     "metadata": {},
     "output_type": "execute_result"
    }
   ],
   "source": [
    "developer = Developer(35000, 1500, 1000)\n",
    "developer.calculate_salary()"
   ]
  },
  {
   "cell_type": "code",
   "execution_count": 7,
   "id": "fa473f1f-c3c9-44fb-b7ff-bdb1dc79ee02",
   "metadata": {},
   "outputs": [
    {
     "data": {
      "text/plain": [
       "23800"
      ]
     },
     "execution_count": 7,
     "metadata": {},
     "output_type": "execute_result"
    }
   ],
   "source": [
    "designer = Designer(25000, 700, 500)\n",
    "designer.calculate_salary()"
   ]
  },
  {
   "cell_type": "markdown",
   "id": "47b55a35-99f2-4477-b8ef-b02eaa1cc393",
   "metadata": {},
   "source": [
    "1. Create a class called Employee inside the class we have created a constructor which takes three arguments i.e gross, tax and pf\n",
    "2. Inside the employee class we have created a method called calculate_salary which will calculate saalry for each employee\n",
    "3. Create another class called Manager inside the manager we created a construtor which takes the three argument gross pf and tax which is inherit from the Employee class \n",
    "4. Create another class called Developer inside the Developer class we created a construtor which takes the three argument gross pf and tax which is inherit from the Employee class \n",
    "5. Create another class called Designer inside the Designer class we created a construtor which takes the three argument gross pf and tax which is inherit from the Employee class \n",
    "6. To calculate of these classes it will takes the same method inside the employee class which will calculate the salary"
   ]
  },
  {
   "cell_type": "markdown",
   "id": "35dab8a3-369b-4efc-a414-14c225ed33fa",
   "metadata": {},
   "source": [
    "18. Discuss the concept of function pointers and how they can be used to achieve polymorphism in Python."
   ]
  },
  {
   "cell_type": "code",
   "execution_count": 10,
   "id": "7c0a0dcd-7463-4fbf-932b-0884fb1b81d3",
   "metadata": {},
   "outputs": [],
   "source": [
    "class Animal:\n",
    "    def speak(self):\n",
    "        pass\n",
    "\n",
    "class Dog(Animal):\n",
    "    def speak(self):\n",
    "        return \"Woof!\"\n",
    "\n",
    "class Cat(Animal):\n",
    "    def speak(self):\n",
    "        return \"Meow!\""
   ]
  },
  {
   "cell_type": "code",
   "execution_count": 12,
   "id": "80346900-1ab3-466b-a266-4bdd96fbe3be",
   "metadata": {},
   "outputs": [
    {
     "name": "stdout",
     "output_type": "stream",
     "text": [
      "Woof!\n",
      "Meow!\n"
     ]
    }
   ],
   "source": [
    "def animal_sound(animal):\n",
    "    return animal.speak()\n",
    "\n",
    "dog = Dog()\n",
    "cat = Cat()\n",
    "\n",
    "print(animal_sound(dog))\n",
    "print(animal_sound(cat)) "
   ]
  },
  {
   "cell_type": "markdown",
   "id": "5a91c424-72c0-4627-bac0-18259c829677",
   "metadata": {},
   "source": [
    "Function Pointers: Python supports first-class functions, which means functions can be passed around as arguments to other functions, returned from other functions, and assigned to variables. This feature can be leveraged to achieve polymorphic behavior similar to what function pointers provide in other languages.\n",
    "1. Create a class called Animal inside the Class we created a method called as Speak\n",
    "2. Create another class called Dog inside the Dog class we created a method which print speak of the Dog\n",
    "3. Create another class called Cat inside the Cat class we created a method called speak which prints the speak of the cat\n",
    "4. We know that the function can take the argument of the function we define a function called animal sound which takes the argument of the fuction and returns speak of an animal\n",
    "5. Print the results"
   ]
  },
  {
   "cell_type": "markdown",
   "id": "2b984765-0fe3-4888-9a03-a6acac99fd00",
   "metadata": {},
   "source": [
    "19. Explain the role of interfaces and abstract classes in polymorphism, drawing comparisons between them."
   ]
  },
  {
   "cell_type": "code",
   "execution_count": 3,
   "id": "c48f593b-010d-47c2-a3b7-672020a79c9a",
   "metadata": {},
   "outputs": [],
   "source": [
    "# Interfaces\n",
    "class Speakable:\n",
    "    def speak(self):\n",
    "        pass\n",
    "\n",
    "class Dog(Speakable):\n",
    "    def speak(self):\n",
    "        return \"Woof!\"\n",
    "\n",
    "class Cat(Speakable):\n",
    "    def speak(self):\n",
    "        return \"Meow!\""
   ]
  },
  {
   "cell_type": "code",
   "execution_count": 4,
   "id": "79c5b9ce-7696-459f-9304-496710bf2e71",
   "metadata": {},
   "outputs": [
    {
     "data": {
      "text/plain": [
       "'Woof!'"
      ]
     },
     "execution_count": 4,
     "metadata": {},
     "output_type": "execute_result"
    }
   ],
   "source": [
    "dog = Dog()\n",
    "dog.speak()"
   ]
  },
  {
   "cell_type": "code",
   "execution_count": 5,
   "id": "bf56488f-e230-4a28-a941-5b506546a116",
   "metadata": {},
   "outputs": [
    {
     "data": {
      "text/plain": [
       "'Meow!'"
      ]
     },
     "execution_count": 5,
     "metadata": {},
     "output_type": "execute_result"
    }
   ],
   "source": [
    "cat = Cat()\n",
    "cat.speak()"
   ]
  },
  {
   "cell_type": "code",
   "execution_count": 6,
   "id": "f80b9c9d-df15-4402-82f4-16be28d0ca28",
   "metadata": {},
   "outputs": [],
   "source": [
    "# Abstract Method\n",
    "from abc import ABC, abstractmethod\n",
    "\n",
    "class Animal(ABC):\n",
    "    @abstractmethod\n",
    "    def speak(self):\n",
    "        pass\n",
    "\n",
    "class Dog(Animal):\n",
    "    def speak(self):\n",
    "        return \"Woof!\"\n",
    "\n",
    "class Cat(Animal):\n",
    "    def speak(self):\n",
    "        return \"Meow!\""
   ]
  },
  {
   "cell_type": "code",
   "execution_count": 7,
   "id": "c01a62f9-31e0-4860-9739-375adab1c0d6",
   "metadata": {},
   "outputs": [
    {
     "data": {
      "text/plain": [
       "'Woof!'"
      ]
     },
     "execution_count": 7,
     "metadata": {},
     "output_type": "execute_result"
    }
   ],
   "source": [
    "dog = Dog()\n",
    "dog.speak()"
   ]
  },
  {
   "cell_type": "code",
   "execution_count": 8,
   "id": "df91bfd0-07aa-4beb-91e9-f273af8b37f5",
   "metadata": {},
   "outputs": [
    {
     "data": {
      "text/plain": [
       "'Meow!'"
      ]
     },
     "execution_count": 8,
     "metadata": {},
     "output_type": "execute_result"
    }
   ],
   "source": [
    "cat = Cat()\n",
    "cat.speak()"
   ]
  },
  {
   "cell_type": "markdown",
   "id": "507a48e5-8734-4ca2-a82b-c9323295c78f",
   "metadata": {},
   "source": [
    "Interfaces: An interface in OOP is a collection of method signatures without any implementation.It defines a contract that classes must adhere to by implementing the methods specified in the interface.\n",
    "Role in Polymorphism:Interfaces allow for the definition of a common set of methods that multiple classes can implement.A class can implement multiple interfaces, enabling it to exhibit behavior from multiple sources.\n",
    "\n",
    "Example:\n",
    "1. Create a class called Animal inside the Class we created a method called as Speakable\n",
    "2. Create another class called Dog inside the Dog class we created a method which print speak of the Dog\n",
    "3. Create another class called Cat inside the Cat class we created a method called speak which prints the speak of the cat\n",
    "4. We know that the function can take the argument of the function we define a function called animal sound which takes the argument of the fuction and returns speak of an animal\n",
    "5. Print the results\n",
    "\n",
    "Abstract: An abstract class is a class that cannot be instantiated on its own and may contain both abstract (unimplemented) and concrete (implemented) methods.Abstract classes can have attributes and methods with some default implementation.\n",
    "Role in Polymorphism:Abstract classes provide a way to define a common structure and shared behavior among related classes.Subclasses must provide implementations for abstract methods, ensuring adherence to a common interface. \n",
    "\n",
    "Example:\n",
    "1. Create a class called Animal inside the Class we created a method called as Speakable and create a abstract method inside the Animal class\n",
    "2. Create another class called Dog inside the Dog class we created a method which print speak of the Dog\n",
    "3. Create another class called Cat inside the Cat class we created a method called speak which prints the speak of the cat\n",
    "4. We know that the function can take the argument of the function we define a function called animal sound which takes the argument of the fuction and returns speak of an animal\n",
    "5. Print the results\n"
   ]
  },
  {
   "cell_type": "markdown",
   "id": "f88e6658-15cc-4dc7-ad1e-ab0439be0de1",
   "metadata": {},
   "source": [
    "20. Create a Python class for a zoo simulation, demonstrating polymorphism with different animal types (e.g., mammals, birds, reptiles) and their behavior (e.g., eating, sleeping, making sounds)."
   ]
  },
  {
   "cell_type": "code",
   "execution_count": 10,
   "id": "2cf962ff-f1a5-4107-8515-396c0bc8a28e",
   "metadata": {},
   "outputs": [],
   "source": [
    "class Zoo:\n",
    "    def eating(self):\n",
    "        pass\n",
    "    def sleeping(self):\n",
    "        pass\n",
    "    def speak(self):\n",
    "        pass\n",
    "    \n",
    "class Lion(Zoo):\n",
    "    def eating(self):\n",
    "        print('Lion is Eating')\n",
    "    def sleeping(self):\n",
    "        print('Lion is Sleeping')\n",
    "    def speak(self):\n",
    "        print('Roar')\n",
    "        \n",
    "class Sparrow(Zoo):\n",
    "    def eating(self):\n",
    "        print('Sparrow is Eating')\n",
    "    def sleeping(self):\n",
    "        print('Sparrow is Sleeping')\n",
    "    def speak(self):\n",
    "        print('Chirp')\n",
    "\n",
    "class Turtle(Zoo):\n",
    "    def eating(self):\n",
    "        print('Turtle is Eating')\n",
    "    def sleeping(self):\n",
    "        print('Turtle is sleeping')\n",
    "    def speak(self):\n",
    "        print('Turtle speaks')\n"
   ]
  },
  {
   "cell_type": "code",
   "execution_count": 11,
   "id": "aa288a4f-8aed-4142-bba0-ea45f6b8341f",
   "metadata": {},
   "outputs": [
    {
     "name": "stdout",
     "output_type": "stream",
     "text": [
      "Lion is Eating\n"
     ]
    }
   ],
   "source": [
    "lion = Lion()\n",
    "lion.eating()"
   ]
  },
  {
   "cell_type": "code",
   "execution_count": 12,
   "id": "bc19d1be-d89e-4712-a537-ca520046f6fd",
   "metadata": {},
   "outputs": [
    {
     "name": "stdout",
     "output_type": "stream",
     "text": [
      "Lion is Sleeping\n"
     ]
    }
   ],
   "source": [
    "lion.sleeping()"
   ]
  },
  {
   "cell_type": "code",
   "execution_count": 13,
   "id": "77db056f-761e-4100-8902-176c58be7fb8",
   "metadata": {},
   "outputs": [
    {
     "name": "stdout",
     "output_type": "stream",
     "text": [
      "Roar\n"
     ]
    }
   ],
   "source": [
    "lion.speak()"
   ]
  },
  {
   "cell_type": "code",
   "execution_count": 14,
   "id": "f8957055-2f97-4b86-9199-6deaba5ab92c",
   "metadata": {},
   "outputs": [
    {
     "name": "stdout",
     "output_type": "stream",
     "text": [
      "Sparrow is Eating\n"
     ]
    }
   ],
   "source": [
    "sparrow = Sparrow()\n",
    "sparrow.eating()"
   ]
  },
  {
   "cell_type": "code",
   "execution_count": 16,
   "id": "5cea8769-ddea-4627-b8c5-b2d1722e510c",
   "metadata": {},
   "outputs": [
    {
     "name": "stdout",
     "output_type": "stream",
     "text": [
      "Sparrow is Sleeping\n"
     ]
    }
   ],
   "source": [
    "sparrow.sleeping()"
   ]
  },
  {
   "cell_type": "code",
   "execution_count": 17,
   "id": "7276da62-d802-4c36-ad1c-bddbe5ea2116",
   "metadata": {},
   "outputs": [
    {
     "name": "stdout",
     "output_type": "stream",
     "text": [
      "Chirp\n"
     ]
    }
   ],
   "source": [
    "sparrow.speak()"
   ]
  },
  {
   "cell_type": "code",
   "execution_count": 18,
   "id": "4b521baa-a176-4428-820b-9b2b583c7e08",
   "metadata": {},
   "outputs": [],
   "source": [
    "turtle = Turtle()"
   ]
  },
  {
   "cell_type": "code",
   "execution_count": 19,
   "id": "262dcca3-9b86-475d-8e5b-a9f4b9e3b534",
   "metadata": {},
   "outputs": [
    {
     "name": "stdout",
     "output_type": "stream",
     "text": [
      "Turtle is Eating\n"
     ]
    }
   ],
   "source": [
    "turtle.eating()"
   ]
  },
  {
   "cell_type": "code",
   "execution_count": 20,
   "id": "29351327-1169-434a-a152-6fa709a80da6",
   "metadata": {},
   "outputs": [
    {
     "name": "stdout",
     "output_type": "stream",
     "text": [
      "Turtle is sleeping\n"
     ]
    }
   ],
   "source": [
    "turtle.sleeping()"
   ]
  },
  {
   "cell_type": "code",
   "execution_count": 21,
   "id": "2ee46ee5-f5d3-46ba-86de-bf048dfb6469",
   "metadata": {},
   "outputs": [
    {
     "name": "stdout",
     "output_type": "stream",
     "text": [
      "Turtle speaks\n"
     ]
    }
   ],
   "source": [
    "turtle.speak()"
   ]
  },
  {
   "cell_type": "markdown",
   "id": "3c9c1a3c-3fe4-4cfc-9958-54c3062ed40c",
   "metadata": {},
   "source": [
    "1. Create a class called Zoo inside we create a methods eating, sleeping and speaking \n",
    "2. Create a class Called Lion which inherit from the Zoo class inside the lion class we created a method called eating, sleeping and speaking \n",
    "3. Create a class Called Sparrow which inherit from the Zoo class inside the sparrow class we created a method called eating, sleeping and speaking \n",
    "4. Create a class Called Turtle which inherit from the Zoo class inside the turtle class we created a method called eating, sleeping and speaking \n",
    "5. Call the classes and print the result"
   ]
  },
  {
   "cell_type": "markdown",
   "id": "fc62eb4d-0ce4-4815-b608-546dce9adad4",
   "metadata": {},
   "source": [
    "# Abstraction"
   ]
  },
  {
   "cell_type": "code",
   "execution_count": 22,
   "id": "71d387d3-001b-4a3e-af62-7d2905386935",
   "metadata": {},
   "outputs": [],
   "source": [
    "from abc import ABC, abstractmethod\n",
    "\n",
    "class Shape(ABC):\n",
    "    @abstractmethod\n",
    "    def area(self):\n",
    "        pass\n",
    "\n",
    "class Circle(Shape):\n",
    "    def __init__(self, radius):\n",
    "        self.radius = radius\n",
    "\n",
    "    def area(self):\n",
    "        return 3.14 * self.radius * self.radius\n",
    "\n",
    "class Square(Shape):\n",
    "    def __init__(self, side):\n",
    "        self.side = side\n",
    "\n",
    "    def area(self):\n",
    "        return self.side * self.side"
   ]
  },
  {
   "cell_type": "code",
   "execution_count": 23,
   "id": "66639def-7f31-4155-9c4e-cf735fedbe1e",
   "metadata": {},
   "outputs": [
    {
     "data": {
      "text/plain": [
       "78.5"
      ]
     },
     "execution_count": 23,
     "metadata": {},
     "output_type": "execute_result"
    }
   ],
   "source": [
    "circle = Circle(5)\n",
    "circle.area()"
   ]
  },
  {
   "cell_type": "code",
   "execution_count": 27,
   "id": "ce8c6035-25cf-436d-8a6d-3b07188bea3a",
   "metadata": {},
   "outputs": [
    {
     "data": {
      "text/plain": [
       "16"
      ]
     },
     "execution_count": 27,
     "metadata": {},
     "output_type": "execute_result"
    }
   ],
   "source": [
    "square = Square(4)\n",
    "square.area()"
   ]
  },
  {
   "cell_type": "markdown",
   "id": "912bb6f0-922d-4689-996b-9f153f8a859b",
   "metadata": {},
   "source": [
    "Abstraction in Python refers to the concept of hiding the complex implementation details of an object and exposing only the essential features or functionalities. It is a fundamental principle of object-oriented programming (OOP) and allows programmers to focus on the high-level functionality of an object without being concerned about the low-level implementation details.In Python, abstraction is achieved through the use of classes and objects. Here's how abstraction is related to object-oriented programming:\n",
    "\n",
    "1. Classes and Objects: Classes in Python serve as blueprints for creating objects. They encapsulate data and behavior.Objects are instances of classes and represent real-world entities. They encapsulate the state and behavior defined by their respective classes.\n",
    "\n",
    "2. Encapsulation: Abstraction is closely related to encapsulation, which is another OOP concept.Encapsulation involves bundling the data (attributes) and the methods (functions) that operate on the data into a single unit, i.e., a class.Through encapsulation, the internal details of how a class works are hidden from the outside world.\n",
    "\n",
    "3. Access Modifiers:In Python, there are no strict access modifiers like in some other languages (e.g., public, private, protected). However, naming conventions are used to indicate the level of visibility.By convention, attributes prefixed with a single underscore (_attribute) are considered protected, and those with double underscores (__attribute) are considered private. This indicates that they are not intended to be accessed directly from outside the class.\n",
    "\n",
    "4. Abstract Classes and Methods: Python supports abstract classes and methods through the abc (Abstract Base Classes) module.Abstract classes can have abstract methods (methods without a defined implementation) that must be implemented by concrete subclasses.\n",
    "Abstract classes provide a level of abstraction by defining a common interface that subclasses must adhere to, allowing for a consistent way of interacting with different objects.\n",
    "\n",
    "Example:\n",
    "1. Create class called Shape which initiates the method of abstract method to calculate the area of shape\n",
    "2. Create another class called circle which is inherit fromm the shape class inside the class create a method area which overides the method inside the class shape and calculate area of circle\n",
    "3. Create another class called square which is inherit fromm the shape class inside the class create a method area which overides the method inside the class shape and calculate area of square\n",
    "4. Print the result"
   ]
  },
  {
   "cell_type": "markdown",
   "id": "3e2d84cd-c22b-4499-bcca-0173ebbf50e0",
   "metadata": {},
   "source": [
    "2. Describe the benefits of abstraction in terms of code organization and complexity reduction."
   ]
  },
  {
   "cell_type": "code",
   "execution_count": 28,
   "id": "d075d491-e840-41f8-9976-5abe3b1c8b32",
   "metadata": {},
   "outputs": [],
   "source": [
    "from abc import ABC, abstractmethod\n",
    "\n",
    "class Shape(ABC):\n",
    "    @abstractmethod\n",
    "    def area(self):\n",
    "        pass\n",
    "\n",
    "class Circle(Shape):\n",
    "    def __init__(self, radius):\n",
    "        self.radius = radius\n",
    "\n",
    "    def area(self):\n",
    "        return 3.14 * self.radius * self.radius\n",
    "\n",
    "class Square(Shape):\n",
    "    def __init__(self, side):\n",
    "        self.side = side\n",
    "\n",
    "    def area(self):\n",
    "        return self.side * self.side"
   ]
  },
  {
   "cell_type": "code",
   "execution_count": 29,
   "id": "eb35672d-4eae-4d81-8cd1-656b663a010f",
   "metadata": {},
   "outputs": [
    {
     "data": {
      "text/plain": [
       "78.5"
      ]
     },
     "execution_count": 29,
     "metadata": {},
     "output_type": "execute_result"
    }
   ],
   "source": [
    "circle = Circle(5)\n",
    "circle.area()"
   ]
  },
  {
   "cell_type": "code",
   "execution_count": 30,
   "id": "c52fd0c7-c78e-44df-ac39-ea16ab2597ac",
   "metadata": {},
   "outputs": [
    {
     "data": {
      "text/plain": [
       "16"
      ]
     },
     "execution_count": 30,
     "metadata": {},
     "output_type": "execute_result"
    }
   ],
   "source": [
    "square = Square(4)\n",
    "square.area()"
   ]
  },
  {
   "cell_type": "markdown",
   "id": "2a34cce0-e5bc-439a-8806-d475e3e0892e",
   "metadata": {},
   "source": [
    "1. Code Organization: The abstract class Shape serves as a blueprint, making the code more organized by grouping common behavior.The client code now works with a list of shapes, promoting a more modular and organized structure.\n",
    "\n",
    "2. Complexity Reduction: The client code is simplified and no longer needs to know the internal details of each shape's calculation method. It relies on the common interface provided by the abstract class.If a new shape (e.g., Triangle) is introduced, it can easily extend Shape and implement its calculate_area method without affecting the client code.\n",
    "\n",
    "3. Scalability and Extensibility: The abstraction allows for easy addition of new shapes without modifying existing code. The client code can work seamlessly with any shape that adheres to the Shape interface.\n",
    "\n",
    "4. Readability: The client code becomes more readable and understandable as it focuses on the high-level concept of a shape and its area calculation, rather than the intricacies of individual shape implementations.\n",
    "\n",
    "5. Maintenance: Changes to the internal implementation of a specific shape (e.g., modifying the formula for the circle's area) can be done within the respective class without affecting other parts of the code."
   ]
  },
  {
   "cell_type": "markdown",
   "id": "f53a6c04-a667-4799-b9bc-c5e986100c44",
   "metadata": {},
   "source": [
    "3. Create a Python class called `Shape` with an abstract method `calculate_area()`. Then, create child classes (e.g., `Circle`, `Rectangle`) that implement the `calculate_area()` method. Provide an example of\n",
    "using these classes."
   ]
  },
  {
   "cell_type": "code",
   "execution_count": 38,
   "id": "f17b9fe0-355e-4747-bbb9-fac9b02f0fda",
   "metadata": {},
   "outputs": [],
   "source": [
    "from abc import ABC, abstractmethod\n",
    "\n",
    "class Shape(ABC):\n",
    "    @abstractmethod\n",
    "    def area(self):\n",
    "        pass\n",
    "\n",
    "class Circle(Shape):\n",
    "    def __init__(self, radius):\n",
    "        self.radius = radius\n",
    "\n",
    "    def area(self):\n",
    "        return 3.14 * self.radius * self.radius\n",
    "\n",
    "class Rectangle(Shape):\n",
    "    def __init__(self, length, width):\n",
    "        self.length = length\n",
    "        self.width = width\n",
    "\n",
    "    def area(self):\n",
    "        return self.length * self.width"
   ]
  },
  {
   "cell_type": "code",
   "execution_count": 39,
   "id": "5f7c46cb-45f3-4ff9-b77a-3406b308c799",
   "metadata": {},
   "outputs": [
    {
     "data": {
      "text/plain": [
       "78.5"
      ]
     },
     "execution_count": 39,
     "metadata": {},
     "output_type": "execute_result"
    }
   ],
   "source": [
    "circle = Circle(5)\n",
    "circle.area()"
   ]
  },
  {
   "cell_type": "code",
   "execution_count": 40,
   "id": "3fd4ac8b-2533-4738-ae74-76e6d07f718c",
   "metadata": {},
   "outputs": [
    {
     "data": {
      "text/plain": [
       "12"
      ]
     },
     "execution_count": 40,
     "metadata": {},
     "output_type": "execute_result"
    }
   ],
   "source": [
    "rectangle = Rectangle(4, 3)\n",
    "rectangle.area()"
   ]
  },
  {
   "cell_type": "markdown",
   "id": "edc91ccc-f0d5-4edb-92d7-4e9b9ff6ef35",
   "metadata": {},
   "source": [
    "1. Create a class called Shape and import abstract method from the library called ABC\n",
    "2. Create another class Called circle which is inherited from the class shape inside the circle class we created a method called as area which overides the method inside the shape class and calculates the area of circle\n",
    "3. Create another class Called rectangle which is inherited from the class shape inside the inherited class we created a method called as area which overides the method inside the shape class and calculates the area of reactangle\n",
    "4. Print the result"
   ]
  },
  {
   "cell_type": "markdown",
   "id": "423a050f-592f-424a-8edc-989c1c2c65d0",
   "metadata": {},
   "source": [
    "4. Explain the concept of abstract classes in Python and how they are defined using the `abc` module. Provide\n",
    "an example."
   ]
  },
  {
   "cell_type": "code",
   "execution_count": 41,
   "id": "f73bde0d-de32-4ee7-8f0d-5c784dd7cda4",
   "metadata": {},
   "outputs": [],
   "source": [
    "from abc import ABC, abstractmethod\n",
    "\n",
    "class Shape(ABC):\n",
    "    @abstractmethod\n",
    "    def area(self):\n",
    "        pass\n",
    "\n",
    "class Circle(Shape):\n",
    "    def __init__(self, radius):\n",
    "        self.radius = radius\n",
    "\n",
    "    def area(self):\n",
    "        return 3.14 * self.radius * self.radius\n",
    "\n",
    "class Rectangle(Shape):\n",
    "    def __init__(self, length, width):\n",
    "        self.length = length\n",
    "        self.width = width\n",
    "\n",
    "    def area(self):\n",
    "        return self.length * self.width"
   ]
  },
  {
   "cell_type": "code",
   "execution_count": 42,
   "id": "95035266-80f4-48d5-9d83-0a4d3a546a15",
   "metadata": {},
   "outputs": [
    {
     "data": {
      "text/plain": [
       "78.5"
      ]
     },
     "execution_count": 42,
     "metadata": {},
     "output_type": "execute_result"
    }
   ],
   "source": [
    "circle = Circle(5)\n",
    "circle.area()"
   ]
  },
  {
   "cell_type": "code",
   "execution_count": 43,
   "id": "b815ebf7-4399-49ce-ac6c-370787952a35",
   "metadata": {},
   "outputs": [
    {
     "data": {
      "text/plain": [
       "12"
      ]
     },
     "execution_count": 43,
     "metadata": {},
     "output_type": "execute_result"
    }
   ],
   "source": [
    "rectangle = Rectangle(4, 3)\n",
    "rectangle.area()"
   ]
  },
  {
   "cell_type": "markdown",
   "id": "40c0cc48-7665-4320-8062-c2ab6996669d",
   "metadata": {},
   "source": [
    "In Python, abstract classes are classes that cannot be instantiated on their own and typically include one or more abstract methods. Abstract methods are methods that are declared but do not have an implementation in the abstract class. Instead, their implementation is provided by concrete subclasses. Abstract classes serve as a blueprint for other classes, ensuring that certain methods are implemented in all derived classes. The abc (Abstract Base Classes) module in Python provides a way to work with abstract classes. The ABC class from this module is used as a metaclass for creating abstract base classes. Abstract methods are defined using the @abstractmethod decorator.\n",
    "\n",
    "Example:\n",
    "1. Create a class called Shape and import abstract method from the library called ABC\n",
    "2. Create another class Called circle which is inherited from the class shape inside the circle class we created a method called as area which overides the method inside the shape class and calculates the area of circle\n",
    "3. Create another class Called rectangle which is inherited from the class shape inside the inherited class we created a method called as area which overides the method inside the shape class and calculates the area of reactangle\n",
    "4. Print the result"
   ]
  },
  {
   "cell_type": "markdown",
   "id": "aaa5bea0-4471-4e74-9ee1-eb64b3745868",
   "metadata": {},
   "source": [
    "5. How do abstract classes differ from regular classes in Python? Discuss their use cases."
   ]
  },
  {
   "cell_type": "code",
   "execution_count": 44,
   "id": "9c9394ab-aa5d-4c5c-832c-8e39602e52e3",
   "metadata": {},
   "outputs": [],
   "source": [
    "# Abstract Method\n",
    "from abc import ABC, abstractmethod\n",
    "\n",
    "class Shape(ABC):\n",
    "    @abstractmethod\n",
    "    def area(self):\n",
    "        pass\n",
    "\n",
    "class Circle(Shape):\n",
    "    def __init__(self, radius):\n",
    "        self.radius = radius\n",
    "\n",
    "    def area(self):\n",
    "        return 3.14 * self.radius * self.radius\n",
    "\n",
    "class Rectangle(Shape):\n",
    "    def __init__(self, length, width):\n",
    "        self.length = length\n",
    "        self.width = width\n",
    "\n",
    "    def area(self):\n",
    "        return self.length * self.width"
   ]
  },
  {
   "cell_type": "code",
   "execution_count": 45,
   "id": "3635dc56-ae45-48ff-8da5-9329100980f1",
   "metadata": {},
   "outputs": [
    {
     "data": {
      "text/plain": [
       "78.5"
      ]
     },
     "execution_count": 45,
     "metadata": {},
     "output_type": "execute_result"
    }
   ],
   "source": [
    "circle = Circle(5)\n",
    "circle.area()"
   ]
  },
  {
   "cell_type": "code",
   "execution_count": 46,
   "id": "795ed986-07db-41f7-8bba-710cd22bbd05",
   "metadata": {},
   "outputs": [
    {
     "data": {
      "text/plain": [
       "12"
      ]
     },
     "execution_count": 46,
     "metadata": {},
     "output_type": "execute_result"
    }
   ],
   "source": [
    "rectangle = Rectangle(4, 3)\n",
    "rectangle.area()"
   ]
  },
  {
   "cell_type": "code",
   "execution_count": 47,
   "id": "687a3cc1-866b-4d81-a656-b24ef0afa0cd",
   "metadata": {},
   "outputs": [],
   "source": [
    "class Dog:\n",
    "    def __init__(self, name):\n",
    "        self.name = name\n",
    "\n",
    "    def bark(self):\n",
    "        return \"Woof!\""
   ]
  },
  {
   "cell_type": "code",
   "execution_count": 48,
   "id": "b01b1a4f-fe48-414f-b9d6-6af7b583a13d",
   "metadata": {},
   "outputs": [
    {
     "data": {
      "text/plain": [
       "'Woof!'"
      ]
     },
     "execution_count": 48,
     "metadata": {},
     "output_type": "execute_result"
    }
   ],
   "source": [
    "my_dog = Dog(\"Buddy\")\n",
    "my_dog.bark()"
   ]
  },
  {
   "cell_type": "markdown",
   "id": "f6265b33-9d36-4e0e-a33d-05301524fef4",
   "metadata": {},
   "source": [
    "1. Use Of Abstact Class: Use abstract classes when you want to define a common interface for a group of related classes. Use them to enforce a contract among subclasses, ensuring that certain methods are implemented consistently.\n",
    "\n",
    "Example:\n",
    "1. Create a class called Shape and import abstract method from the library called ABC\n",
    "2. Create another class Called circle which is inherited from the class shape inside the circle class we created a method called as area which overides the method inside the shape class and calculates the area of circle\n",
    "3. Create another class Called rectangle which is inherited from the class shape inside the inherited class we created a method called as area which overides the method inside the shape class and calculates the area of reactangle\n",
    "4. Print the result\n",
    "\n",
    "2. Use of Regular Class: Use regular classes when you want to create instances of objects directly without the need for subclasses.Use them for implementing features that are common across instances of the class, whether they are abstract or concrete.\n",
    "\n",
    "Example:\n",
    "1. Create a class called Dog inside the dog class we have created construtor which takes one argument as name \n",
    "2. Inside the dog class we created a method called as bark which print the bark of the dog\n",
    "3. Print the result"
   ]
  },
  {
   "cell_type": "markdown",
   "id": "3b9b769b-ef48-4225-aa15-e642592c48ec",
   "metadata": {},
   "source": [
    "6. Create a Python class for a bank account and demonstrate abstraction by hiding the account balance and\n",
    "providing methods to deposit and withdraw funds."
   ]
  },
  {
   "cell_type": "code",
   "execution_count": 58,
   "id": "df90b57b-bb59-402d-bf0e-69420c3c13ed",
   "metadata": {},
   "outputs": [],
   "source": [
    "class BankAccount:\n",
    "    @abstractmethod\n",
    "    def account_balance(self):\n",
    "        pass\n",
    "class Deposit(BankAccount):\n",
    "    def __init__(self, amount):\n",
    "        self.amount = amount\n",
    "        self.balance = 0\n",
    "    def account_balance(self):\n",
    "        self.balance += self.amount\n",
    "        return self.balance\n",
    "class Withdraw_funds(BankAccount):\n",
    "    def __init__(self, amount):\n",
    "        self.amount = amount\n",
    "        self.balance = 5000\n",
    "    def account_balance(self):\n",
    "        if self.balance == 0:\n",
    "            return 'Insufficient Balance'\n",
    "        else:\n",
    "            self.balance -= self.amount\n",
    "            return self.balance \n",
    "\n",
    "        "
   ]
  },
  {
   "cell_type": "code",
   "execution_count": 59,
   "id": "99ae4a7e-a85a-4732-8a14-96730dd01a76",
   "metadata": {},
   "outputs": [
    {
     "data": {
      "text/plain": [
       "5000"
      ]
     },
     "execution_count": 59,
     "metadata": {},
     "output_type": "execute_result"
    }
   ],
   "source": [
    "deposit = Deposit(5000)\n",
    "deposit.account_balance()"
   ]
  },
  {
   "cell_type": "code",
   "execution_count": 60,
   "id": "89f12691-d460-4954-b012-531da59b167d",
   "metadata": {},
   "outputs": [
    {
     "data": {
      "text/plain": [
       "2000"
      ]
     },
     "execution_count": 60,
     "metadata": {},
     "output_type": "execute_result"
    }
   ],
   "source": [
    "withdraw = Withdraw_funds(3000)\n",
    "withdraw.account_balance()"
   ]
  },
  {
   "cell_type": "markdown",
   "id": "7e82674b-e83e-42ad-a513-9bcc7d93d277",
   "metadata": {},
   "source": [
    "1. Create a abstract class called Bank Account \n",
    "2. Create another class called Deposit which is inherit from the class bank account which create a constructor which takes one argumet as amount and also create a method of account balance which overides the Bank account method of account balance and also it adds the amount into the account\n",
    "3. Create another class called withdraw_funds which is inherit from the class bank account which create a constructor which takes one argumet as amount and also create a method of account balance which overides the Bank account method of account balance and also it adds the amount into the account\n",
    "4. Print the result"
   ]
  },
  {
   "cell_type": "markdown",
   "id": "8e5eaa50-8ee0-43b3-8239-6ecc8a8a9f39",
   "metadata": {},
   "source": [
    "7. Discuss the concept of interface classes in Python and their role in achieving abstraction."
   ]
  },
  {
   "cell_type": "code",
   "execution_count": 4,
   "id": "7af3937e-f9b0-4b79-ae43-a21f5296a0cb",
   "metadata": {},
   "outputs": [],
   "source": [
    "from abc import ABC, abstractmethod\n",
    "\n",
    "class Shape(ABC):\n",
    "    @abstractmethod\n",
    "    def area(self):\n",
    "        pass\n",
    "\n",
    "class Circle(Shape):\n",
    "    def __init__(self, radius):\n",
    "        self.radius = radius\n",
    "\n",
    "    def area(self):\n",
    "        return 3.14 * self.radius * self.radius\n",
    "\n",
    "class Rectangle(Shape):\n",
    "    def __init__(self, length, width):\n",
    "        self.length = length\n",
    "        self.width = width\n",
    "\n",
    "    def area(self):\n",
    "        return self.length * self.width"
   ]
  },
  {
   "cell_type": "code",
   "execution_count": 2,
   "id": "cbdd0ffa-09b4-4722-9c8b-f619917da796",
   "metadata": {},
   "outputs": [
    {
     "data": {
      "text/plain": [
       "78.5"
      ]
     },
     "execution_count": 2,
     "metadata": {},
     "output_type": "execute_result"
    }
   ],
   "source": [
    "circle = Circle(5)\n",
    "circle.area()"
   ]
  },
  {
   "cell_type": "code",
   "execution_count": 3,
   "id": "c21f38be-638e-46c3-935c-8ab7c7af37fa",
   "metadata": {},
   "outputs": [
    {
     "data": {
      "text/plain": [
       "12"
      ]
     },
     "execution_count": 3,
     "metadata": {},
     "output_type": "execute_result"
    }
   ],
   "source": [
    "rectangle = Rectangle(4, 3)\n",
    "rectangle.area()"
   ]
  },
  {
   "cell_type": "markdown",
   "id": "61a47016-0174-478a-80d7-2d8c7e2c8ac0",
   "metadata": {},
   "source": [
    "The concept of interfaces can be achieved through abstract classes with abstract methods or through informal agreements about method names and signatures.\n",
    "The role of interface-like structures in Python is closely tied to achieving abstraction. While Python does not have a dedicated interface keyword, it allows for the creation of abstract classes with abstract methods using the abc (Abstract Base Classes) module. These abstract classes can serve as a form of interface, defining a set of methods that must be implemented by concrete subclasses.\n",
    "\n",
    "Example:\n",
    "1. Create a class called Shape and import abstract method from the library called ABC\n",
    "2. Create another class Called circle which is inherited from the class shape inside the circle class we created a method called as area which overides the method inside the shape class and calculates the area of circle\n",
    "3. Create another class Called rectangle which is inherited from the class shape inside the inherited class we created a method called as area which overides the method inside the shape class and calculates the area of reactangle\n",
    "4. Print the result"
   ]
  },
  {
   "cell_type": "markdown",
   "id": "fc16e468-2fb9-4506-a4be-26465dc12235",
   "metadata": {},
   "source": [
    "8. Create a Python class hierarchy for animals and implement abstraction by defining common methods (e.g. eat(), sleep()) in abstract base class."
   ]
  },
  {
   "cell_type": "code",
   "execution_count": 8,
   "id": "e5e9c0f4-773f-455f-90ef-a29bc101406b",
   "metadata": {},
   "outputs": [],
   "source": [
    "class Animals:\n",
    "    @abstractmethod\n",
    "    def eat(self):\n",
    "        pass\n",
    "    @abstractmethod\n",
    "    def sleep(self):\n",
    "        pass\n",
    "class Dog(Animals):\n",
    "    def eat(self):\n",
    "        return \"Dog is eating\"\n",
    "    def sleep(self):\n",
    "        return 'Dog is sleeping'\n",
    "\n",
    "class Cat(Animals):\n",
    "    def eat(self):\n",
    "        return \"Cat is eating\"\n",
    "    def sleep(self):\n",
    "        return 'Cat is sleeping'\n"
   ]
  },
  {
   "cell_type": "code",
   "execution_count": 9,
   "id": "8e20d3ad-6c19-4f86-b5eb-4c2a1f8cc8c2",
   "metadata": {},
   "outputs": [
    {
     "data": {
      "text/plain": [
       "'Dog is eating'"
      ]
     },
     "execution_count": 9,
     "metadata": {},
     "output_type": "execute_result"
    }
   ],
   "source": [
    "dog = Dog()\n",
    "dog.eat()"
   ]
  },
  {
   "cell_type": "code",
   "execution_count": 10,
   "id": "e54882b2-fe5e-4507-ab70-3685bde5da0d",
   "metadata": {},
   "outputs": [
    {
     "data": {
      "text/plain": [
       "'Dog is sleeping'"
      ]
     },
     "execution_count": 10,
     "metadata": {},
     "output_type": "execute_result"
    }
   ],
   "source": [
    "dog.sleep()"
   ]
  },
  {
   "cell_type": "code",
   "execution_count": 11,
   "id": "b93abee0-31b5-4cd0-981b-543aa5e37680",
   "metadata": {},
   "outputs": [
    {
     "data": {
      "text/plain": [
       "'Cat is eating'"
      ]
     },
     "execution_count": 11,
     "metadata": {},
     "output_type": "execute_result"
    }
   ],
   "source": [
    "cat = Cat()\n",
    "cat.eat()"
   ]
  },
  {
   "cell_type": "code",
   "execution_count": 12,
   "id": "5a6528ed-643d-4d17-9d6a-071ffe61be5d",
   "metadata": {},
   "outputs": [
    {
     "data": {
      "text/plain": [
       "'Cat is sleeping'"
      ]
     },
     "execution_count": 12,
     "metadata": {},
     "output_type": "execute_result"
    }
   ],
   "source": [
    "cat.sleep()"
   ]
  },
  {
   "cell_type": "markdown",
   "id": "3ad0abb0-55a0-4cd5-88a6-d34c62e14c29",
   "metadata": {},
   "source": [
    "1. Create a class called Animals\n",
    "2. We are created Animals class as abstract clas\n",
    "3. Created another class called Dog which is inherit from the class Animals and inside the dog we created a method called as eat and sleep\n",
    "4. Created another class called Cat which is inherit from the class Animals and inside the Cat claas we created a method called as eat and sleep"
   ]
  },
  {
   "cell_type": "markdown",
   "id": "5f088027-cd75-4fda-807a-a3c8d666ede6",
   "metadata": {},
   "source": [
    "9. Explain the significance of encapsulation in achieving abstraction. Provide examples."
   ]
  },
  {
   "cell_type": "code",
   "execution_count": 13,
   "id": "a32f8454-6798-4804-bf9b-b9d78eee6e78",
   "metadata": {},
   "outputs": [],
   "source": [
    "class BankAccount:\n",
    "    def __init__(self, account_holder, balance):\n",
    "        self._account_holder = account_holder  \n",
    "        self.__balance = balance \n",
    "\n",
    "    def deposit(self, amount):\n",
    "        self.__balance += amount\n",
    "\n",
    "    def withdraw(self, amount):\n",
    "        if amount <= self.__balance:\n",
    "            self.__balance -= amount\n",
    "        else:\n",
    "            print(\"Insufficient funds\")\n",
    "\n",
    "    def get_balance(self):\n",
    "        return self.__balance"
   ]
  },
  {
   "cell_type": "code",
   "execution_count": 14,
   "id": "98c4a5fa-bf75-4f4f-905c-403a9660cc79",
   "metadata": {},
   "outputs": [
    {
     "name": "stdout",
     "output_type": "stream",
     "text": [
      "Current balance: 1300\n"
     ]
    }
   ],
   "source": [
    "account1 = BankAccount(\"Alice\", 1000)\n",
    "\n",
    "account1.deposit(500)\n",
    "account1.withdraw(200)\n",
    "print(f\"Current balance: {account1.get_balance()}\")"
   ]
  },
  {
   "cell_type": "markdown",
   "id": "16844d23-791e-4942-bd15-0b3069a5bb0f",
   "metadata": {},
   "source": [
    "Here are the key aspects of the significance of encapsulation in achieving abstraction:\n",
    "\n",
    "1. Data Hiding:Encapsulation allows the internal details of a class, such as its attributes and implementation, to be hidden from the outside world.By controlling access to the internal state of an object, encapsulation prevents external code from directly manipulating or modifying the object's data.\n",
    "\n",
    "2. Access Control:Encapsulation provides a way to control the visibility and accessibility of the attributes and methods of a class.Access modifiers, such as private, protected, and public, determine whether an attribute or method can be accessed from outside the class.\n",
    "\n",
    "3. Abstraction: Encapsulation contributes to abstraction by exposing only the necessary information and functionalities of an object while hiding the complexity.Users of a class interact with its public interface, which consists of methods that provide a high-level abstraction of the object's behavior.\n",
    "\n",
    "4. Code Organization:Encapsulation helps in organizing code by grouping related data and methods into a coherent unit (class).This modular structure improves code readability, maintainability, and the ability to manage complexity.\n",
    "\n",
    "Example:\n",
    "1. The BankAccount class encapsulates the data (account holder and balance) and methods (deposit, withdraw, get_balance).\n",
    "2. The attributes __balance and _account_holder are private and protected, respectively, indicating that they are not intended to be accessed directly from outside the class.\n",
    "3. Public methods (deposit, withdraw, get_balance) provide controlled access to the encapsulated data, enforcing abstraction and preventing direct manipulation of the object's internal state."
   ]
  },
  {
   "cell_type": "markdown",
   "id": "b65d9298-de66-474a-9c3f-5cd6f4f58ea1",
   "metadata": {},
   "source": [
    "10. What is the purpose of abstract methods, and how do they enforce abstraction in Python classes?"
   ]
  },
  {
   "cell_type": "code",
   "execution_count": 16,
   "id": "d0924d10-f0ac-478d-b8b0-4717b974d45c",
   "metadata": {},
   "outputs": [],
   "source": [
    "from abc import ABC, abstractmethod\n",
    "\n",
    "# Abstract class with abstract method\n",
    "class Shape(ABC):\n",
    "    @abstractmethod\n",
    "    def calculate_area(self):\n",
    "        pass\n",
    "\n",
    "class Circle(Shape):\n",
    "    def __init__(self, radius):\n",
    "        self.radius = radius\n",
    "\n",
    "    def calculate_area(self):\n",
    "        return 3.14 * self.radius * self.radius\n",
    "\n",
    "class Square(Shape):\n",
    "    def __init__(self, side):\n",
    "        self.side = side\n",
    "\n",
    "    def calculate_area(self):\n",
    "        return self.side * self.side\n"
   ]
  },
  {
   "cell_type": "code",
   "execution_count": 17,
   "id": "26dfcb96-8425-44cc-8586-3ada58f34376",
   "metadata": {},
   "outputs": [
    {
     "name": "stdout",
     "output_type": "stream",
     "text": [
      "Circle area: 78.5\n",
      "Square area: 16\n"
     ]
    }
   ],
   "source": [
    "circle = Circle(5)\n",
    "square = Square(4)\n",
    "\n",
    "print(f\"Circle area: {circle.calculate_area()}\")\n",
    "print(f\"Square area: {square.calculate_area()}\")"
   ]
  },
  {
   "cell_type": "markdown",
   "id": "3c843e4f-3a2a-4e36-9a88-2311326af374",
   "metadata": {},
   "source": [
    "Here are the key purposes of abstract methods and how they enforce abstraction in Python classes:\n",
    "\n",
    "1. Defining a Common Interface:Abstract methods define a set of method signatures (names and parameters) in an abstract class without providing any implementation.This common interface establishes a contract that concrete subclasses must fulfill by implementing these abstract methods.\n",
    "\n",
    "2. Forcing Implementation in Subclasses:Abstract methods do not have a default implementation in the abstract class, making it mandatory for concrete subclasses to provide their own implementations.Subclasses that fail to implement an abstract method will also be treated as abstract classes, and instances of such classes cannot be created.\n",
    "\n",
    "3. Promoting Consistency: By defining a common set of abstract methods, abstract classes promote consistency in the behavior of related classes.Different subclasses implementing the same abstract methods ensure a uniform way of interacting with objects of these classes.\n",
    "\n",
    "4. Enabling Polymorphism:Abstract methods enable polymorphism by allowing different classes to implement the same interface.This polymorphic behavior allows objects of different classes to be used interchangeably when they share a common abstract class.\n",
    "\n",
    "5. Providing a Blueprint: Abstract methods serve as a blueprint or a template for concrete subclasses. They outline the expected behavior that subclasses must conform to.Subclasses use the abstract class as a guide for creating their own specific implementations.\n",
    "\n",
    "Example:\n",
    "1. Shape is an abstract class with an abstract method calculate_area.\n",
    "2. Concrete subclasses (Circle and Square) inherit from Shape and provide their specific implementations for the abstract method.\n",
    "3. The abstract method calculate_area enforces a common interface for all subclasses, ensuring that each shape class must implement a method to calculate its area.\n"
   ]
  },
  {
   "cell_type": "markdown",
   "id": "f7944346-5e55-4553-8e67-ca6052f6740f",
   "metadata": {},
   "source": [
    "11. Create a Python class for a vehicle system and demonstrate abstraction by defining common methods (e.g. start(), stop()) is an abstract base class."
   ]
  },
  {
   "cell_type": "code",
   "execution_count": 18,
   "id": "7b6e0804-c9f5-455d-a0e6-ff330d164160",
   "metadata": {},
   "outputs": [],
   "source": [
    "class Vehicle:\n",
    "    @abstractmethod\n",
    "    def start(self):\n",
    "        pass\n",
    "    def stop(self):\n",
    "        pass\n",
    "    \n",
    "class Car(Vehicle):\n",
    "    def start(self):\n",
    "        return 'Car Starts'\n",
    "    def stop(self):\n",
    "        return 'Car Stops'\n",
    "    \n",
    "class Bike(Vehicle):\n",
    "    def start(self):\n",
    "        return 'Bike Starts'\n",
    "    def stop(self):\n",
    "        return 'Bike Stops'"
   ]
  },
  {
   "cell_type": "code",
   "execution_count": 19,
   "id": "9aa6ac02-ae16-493f-b270-2435e216efe0",
   "metadata": {},
   "outputs": [
    {
     "data": {
      "text/plain": [
       "'Car Starts'"
      ]
     },
     "execution_count": 19,
     "metadata": {},
     "output_type": "execute_result"
    }
   ],
   "source": [
    "car = Car()\n",
    "car.start()"
   ]
  },
  {
   "cell_type": "code",
   "execution_count": 20,
   "id": "a7d1787e-92ba-4b49-b85f-abe329e8b190",
   "metadata": {},
   "outputs": [
    {
     "data": {
      "text/plain": [
       "'Car Stops'"
      ]
     },
     "execution_count": 20,
     "metadata": {},
     "output_type": "execute_result"
    }
   ],
   "source": [
    "car.stop()"
   ]
  },
  {
   "cell_type": "code",
   "execution_count": 21,
   "id": "d7b42e87-e08c-4ad9-abbb-44b6c7edb87f",
   "metadata": {},
   "outputs": [
    {
     "data": {
      "text/plain": [
       "'Bike Starts'"
      ]
     },
     "execution_count": 21,
     "metadata": {},
     "output_type": "execute_result"
    }
   ],
   "source": [
    "bike = Bike()\n",
    "bike.start()"
   ]
  },
  {
   "cell_type": "code",
   "execution_count": 22,
   "id": "1759f1c0-df1e-46aa-8a91-6a2e967d9796",
   "metadata": {},
   "outputs": [
    {
     "data": {
      "text/plain": [
       "'Bike Stops'"
      ]
     },
     "execution_count": 22,
     "metadata": {},
     "output_type": "execute_result"
    }
   ],
   "source": [
    "bike.stop()"
   ]
  },
  {
   "cell_type": "markdown",
   "id": "29089c3f-3dbb-423a-900e-801117fa4a13",
   "metadata": {},
   "source": [
    "1. Create a class called Vehicle\n",
    "2. We are created Vehicle class as abstract class\n",
    "3. Created another class called Car which is inherit from the class Vehicle and inside the Car class we created a method called as start and stop\n",
    "4. Created another class called bBke which is inherit from the class Vehicle and inside the Bike claas we created a method called as Start and stop"
   ]
  },
  {
   "cell_type": "markdown",
   "id": "3b969daf-a371-4bea-a5af-e7077ec034f0",
   "metadata": {},
   "source": [
    "12. Describe the use of abstract properties in Python and how they can be employed in abstract classes."
   ]
  },
  {
   "cell_type": "code",
   "execution_count": 23,
   "id": "cf2f050f-cb9b-44e4-a75f-d1afbf38564b",
   "metadata": {},
   "outputs": [],
   "source": [
    "from abc import ABC, abstractmethod, abstractproperty\n",
    "\n",
    "class Shape(ABC):\n",
    "    @abstractproperty\n",
    "    def area(self):\n",
    "        pass\n",
    "class Circle(Shape):\n",
    "    def __init__(self, radius):\n",
    "        self._radius = radius\n",
    "\n",
    "    @property\n",
    "    def area(self):\n",
    "        return 3.14 * self._radius * self._radius\n",
    "class Square(Shape):\n",
    "    def __init__(self, side):\n",
    "        self._side = side\n",
    "\n",
    "    @property\n",
    "    def area(self):\n",
    "        return self._side * self._side\n"
   ]
  },
  {
   "cell_type": "code",
   "execution_count": 24,
   "id": "fd54a73a-74f4-4773-a3f0-e45ed234d13d",
   "metadata": {},
   "outputs": [
    {
     "name": "stdout",
     "output_type": "stream",
     "text": [
      "Circle area: 78.5\n",
      "Square area: 16\n"
     ]
    }
   ],
   "source": [
    "circle = Circle(5)\n",
    "square = Square(4)\n",
    "\n",
    "print(f\"Circle area: {circle.area}\")\n",
    "print(f\"Square area: {square.area}\")"
   ]
  },
  {
   "cell_type": "markdown",
   "id": "ff355f3b-206b-4cf8-81ee-f3ba320d9f36",
   "metadata": {},
   "source": [
    "Here's an explanation of how abstract properties work and how they can be employed in abstract classes:\n",
    "\n",
    "1. Defining an Abstract Property: Abstract properties are created using the @property decorator in combination with the @abstractmethod decorator.The abstract property has a getter method, but the actual implementation of the getter is left to the concrete subclasses.\n",
    "\n",
    "2. Forcing Implementation in Subclasses: Like abstract methods, abstract properties force concrete subclasses to provide their own implementations.Subclasses must implement the getter method for the abstract property.\n",
    "\n",
    "3. Providing a Common Interface: Abstract properties contribute to defining a common interface for related classes.Subclasses that share the same abstract property can be expected to have a consistent way of accessing or modifying that property.\n",
    "\n",
    "Example:\n",
    "1. Shape is an abstract class with an abstract property area.\n",
    "2. Concrete subclasses (Circle and Square) inherit from Shape and provide their specific implementations for the abstract property.\n",
    "3. The abstract property area enforces a common interface for all subclasses, ensuring that each shape class must implement a property to calculate its area.\n"
   ]
  },
  {
   "cell_type": "markdown",
   "id": "f1e20249-eb12-4c72-8885-83c194fd862c",
   "metadata": {},
   "source": [
    "13. Create a Python class hierarchy for employees in a company (e.g., manager, developer, designer) and implement abstraction by defining a common `get_salary()` method."
   ]
  },
  {
   "cell_type": "code",
   "execution_count": 25,
   "id": "924cbc6e-2086-4a24-a3b4-00b48b1eb67c",
   "metadata": {},
   "outputs": [],
   "source": [
    "from abc import ABC, abstractmethod\n",
    "\n",
    "class Employee(ABC):\n",
    "    def __init__(self, name, employee_id):\n",
    "        self.name = name\n",
    "        self.employee_id = employee_id\n",
    "\n",
    "    @abstractmethod\n",
    "    def get_salary(self):\n",
    "        pass\n",
    "\n",
    "class Manager(Employee):\n",
    "    def __init__(self, name, employee_id, bonus_percentage):\n",
    "        super().__init__(name, employee_id)\n",
    "        self.bonus_percentage = bonus_percentage\n",
    "\n",
    "    def get_salary(self):\n",
    "        base_salary = 50000  \n",
    "        bonus_amount = base_salary * (self.bonus_percentage / 100)\n",
    "        return base_salary + bonus_amount\n",
    "\n",
    "class Developer(Employee):\n",
    "    def __init__(self, name, employee_id, coding_languages):\n",
    "        super().__init__(name, employee_id)\n",
    "        self.coding_languages = coding_languages\n",
    "\n",
    "    def get_salary(self)\n",
    "        base_salary = 60000  \n",
    "        experience_bonus = 1000 * len(self.coding_languages)  \n",
    "        return base_salary + experience_bonus\n",
    "\n",
    "class Designer(Employee):\n",
    "    def __init__(self, name, employee_id, design_tool):\n",
    "        super().__init__(name, employee_id)\n",
    "        self.design_tool = design_tool\n",
    "\n",
    "    def get_salary(self):\n",
    "        base_salary = 55000 \n",
    "        design_tool_bonus = 2000 if self.design_tool == 'Photoshop' else 0\n",
    "        return base_salary + design_tool_bonus"
   ]
  },
  {
   "cell_type": "code",
   "execution_count": 28,
   "id": "736a43ce-b73f-4992-bdc6-73744cc602f8",
   "metadata": {},
   "outputs": [
    {
     "name": "stdout",
     "output_type": "stream",
     "text": [
      "John Doe's salary: $55000.0\n",
      "Alice Smith's salary: $62000\n",
      "Bob Johnson's salary: $57000\n"
     ]
    }
   ],
   "source": [
    "manager = Manager(\"John Doe\", 101, bonus_percentage=10)\n",
    "developer = Developer(\"Alice Smith\", 102, coding_languages=[\"Python\", \"JavaScript\"])\n",
    "designer = Designer(\"Bob Johnson\", 103, design_tool=\"Photoshop\")\n",
    "\n",
    "print(f\"{manager.name}'s salary: ${manager.get_salary()}\")\n",
    "print(f\"{developer.name}'s salary: ${developer.get_salary()}\")\n",
    "print(f\"{designer.name}'s salary: ${designer.get_salary()}\")"
   ]
  },
  {
   "cell_type": "markdown",
   "id": "c04142b9-798f-435c-8733-b13acbcb9428",
   "metadata": {},
   "source": [
    "1. Employee is an abstract class with a common method get_salary().\n",
    "2. Concrete subclasses (Manager, Developer, Designer) inherit from Employee and provide their specific implementations for the get_salary() method.\n",
    "3. Each subclass has its own parameters and calculations for determining the salary based on the employee's role and additional attributes.\n"
   ]
  },
  {
   "cell_type": "markdown",
   "id": "bf200ff8-2144-4f05-a150-4675a2dcd680",
   "metadata": {},
   "source": [
    "14. Discuss the differences between abstract classes and concrete classes in Python, including their\n",
    "instantiation."
   ]
  },
  {
   "cell_type": "code",
   "execution_count": 29,
   "id": "146552ff-c11f-47ef-94ce-b79fbcad6a84",
   "metadata": {},
   "outputs": [],
   "source": [
    "# Abstract Class\n",
    "class Vehicle:\n",
    "    @abstractmethod\n",
    "    def start(self):\n",
    "        pass\n",
    "    def stop(self):\n",
    "        pass\n",
    "    \n",
    "class Car(Vehicle):\n",
    "    def start(self):\n",
    "        return 'Car Starts'\n",
    "    def stop(self):\n",
    "        return 'Car Stops'\n",
    "    \n",
    "class Bike(Vehicle):\n",
    "    def start(self):\n",
    "        return 'Bike Starts'\n",
    "    def stop(self):\n",
    "        return 'Bike Stops'"
   ]
  },
  {
   "cell_type": "code",
   "execution_count": 30,
   "id": "a0ddbabb-7100-4668-b3e9-cdce88bef3e6",
   "metadata": {},
   "outputs": [
    {
     "data": {
      "text/plain": [
       "'Car Starts'"
      ]
     },
     "execution_count": 30,
     "metadata": {},
     "output_type": "execute_result"
    }
   ],
   "source": [
    "car = Car()\n",
    "car.start()"
   ]
  },
  {
   "cell_type": "code",
   "execution_count": 31,
   "id": "a6e3bd1c-4a6b-4f58-af8f-a5cfcd5e5a3d",
   "metadata": {},
   "outputs": [],
   "source": [
    "class Circle:\n",
    "    def __init__(self, radius):\n",
    "        self.radius = radius\n",
    "\n",
    "    def calculate_area(self):\n",
    "        return 3.14 * self.radius * self.radius"
   ]
  },
  {
   "cell_type": "code",
   "execution_count": 32,
   "id": "a3023277-d321-4954-b643-0ec1e3de0df9",
   "metadata": {},
   "outputs": [
    {
     "data": {
      "text/plain": [
       "78.5"
      ]
     },
     "execution_count": 32,
     "metadata": {},
     "output_type": "execute_result"
    }
   ],
   "source": [
    "circle = Circle(5)\n",
    "circle.calculate_area()"
   ]
  },
  {
   "cell_type": "markdown",
   "id": "ee894f09-778e-4876-b2b2-8d804e5b0f8e",
   "metadata": {},
   "source": [
    "a. Abstract Classes:\n",
    "1. Definition:Abstract classes are classes that cannot be instantiated on their own. They serve as a blueprint for other classes and may contain abstract methods (methods without implementation) that must be implemented by \n",
    "\n",
    "2. concrete subclasses.Instantiation: Abstract classes cannot be instantiated directly using the class_name() syntax.An attempt to create an instance of an abstract class directly will result in a TypeError.\n",
    "\n",
    "3. Abstract Methods: Abstract classes may have abstract methods, which are declared but do not have an implementation in the abstract class itself.Subclasses must provide concrete implementations for all abstract methods.\n",
    "\n",
    "b. Concrete Classes:\n",
    "1. Definition: Concrete classes are classes that can be instantiated directly. They may have both abstract and concrete methods (methods with implementation).\n",
    "\n",
    "2. Instantiation: Concrete classes can be instantiated using the class_name() syntax to create objects of the class.Objects of concrete classes have a concrete implementation of methods.\n",
    "\n",
    "3. Implementation: Concrete classes may or may not inherit from abstract classes. They can provide their own implementation for methods or inherit and override methods from parent classes.\n"
   ]
  },
  {
   "cell_type": "markdown",
   "id": "6de06004-d2b7-45ec-858c-635259ae81bd",
   "metadata": {},
   "source": [
    "15. Explain the concept of abstract data types (ADTs) and their role in achieving abstraction in Python."
   ]
  },
  {
   "cell_type": "code",
   "execution_count": 34,
   "id": "257e8752-c9bd-4998-afd0-2c87657fc456",
   "metadata": {},
   "outputs": [],
   "source": [
    "class Stack:\n",
    "    def __init__(self):\n",
    "        self.items = []\n",
    "\n",
    "    def push(self, item):\n",
    "        self.items.append(item)\n",
    "\n",
    "    def pop(self):\n",
    "        if not self.is_empty():\n",
    "            return self.items.pop()\n",
    "\n",
    "    def peek(self):\n",
    "        if not self.is_empty():\n",
    "            return self.items[-1]\n",
    "\n",
    "    def is_empty(self):\n",
    "        return len(self.items) == 0\n",
    "\n",
    "    def size(self):\n",
    "        return len(self.items)\n"
   ]
  },
  {
   "cell_type": "code",
   "execution_count": 35,
   "id": "7f2a3dae-6cb1-467e-aa1b-cd6e0e514bfb",
   "metadata": {},
   "outputs": [
    {
     "name": "stdout",
     "output_type": "stream",
     "text": [
      "30\n",
      "30\n",
      "2\n"
     ]
    }
   ],
   "source": [
    "stack = Stack()\n",
    "stack.push(10)\n",
    "stack.push(20)\n",
    "stack.push(30)\n",
    "\n",
    "print(stack.peek()) \n",
    "print(stack.pop())   \n",
    "print(stack.size())  "
   ]
  },
  {
   "cell_type": "markdown",
   "id": "8bd1b14f-40f9-4c26-959f-f96ee20c7297",
   "metadata": {},
   "source": [
    "Abstract Data Types (ADTs) are high-level descriptions of data structures and the operations that can be performed on them, independent of their specific implementation details. ADTs focus on what operations can be performed on the data and what properties these operations should have, rather than how these operations are implemented. ADTs provide a way to abstract away the complexities of data structures, promoting a clear separation between the interface and the implementation.\n",
    "\n",
    "Role of ADTs in Achieving Abstraction in Python:\n",
    "1. Encapsulation and Abstraction: ADTs encapsulate the implementation details of data structures, providing a clear separation between the interface and the internal workings. Abstraction is achieved by allowing users to interact with the data structure through a well-defined set of operations without needing to understand the intricate details of its implementation.\n",
    "2. Code Organization and Modularity: ADTs promote code organization and modularity by defining a standardized way to interact with data structures. Users can use ADTs without worrying about the internal complexities, fostering a modular and organized code structure.\n",
    "3. Code Reusability: ADTs support code reusability by providing a consistent interface for different implementations of the same abstract data type. Users can switch between different implementations of an ADT without modifying their code, as long as the interface remains the same.\n",
    "4. Ease of Maintenance: Because ADTs separate the interface from the implementation, maintenance efforts are focused on the internal details of data structures without affecting the code that uses them. Changes to the implementation of an ADT can be made without impacting the code that relies on the ADT's interface.\n",
    "5. Flexibility and Adaptability: ADTs provide flexibility by allowing different implementations of the same abstract data type to be used interchangeably. This adaptability is valuable in situations where the choice of a specific data structure may depend on factors such as performance, memory usage, or other requirements.\n",
    "\n",
    "Example:\n",
    "1. In this example, the Stack class defines the interface for a stack ADT. \n",
    "2. Users interact with the stack through the push, pop, peek, is_empty, and size operations, achieving abstraction and encapsulation of the underlying list implementation.\n",
    "3. The user does not need to be concerned with the details of how the stack operations are implemented using a list; they only need to know the expected behavior of the stack."
   ]
  },
  {
   "cell_type": "markdown",
   "id": "7b9b5f1b-885d-4ca4-8daa-69743b2ab5d4",
   "metadata": {},
   "source": [
    "16. Create a Python class for a computer system, demonstrating abstraction by defining common methods (e.g., `power_on()`, `shutdown()`) in an abstract base class."
   ]
  },
  {
   "cell_type": "code",
   "execution_count": 39,
   "id": "a94ac341-7ca6-4f23-943f-413b862e0108",
   "metadata": {},
   "outputs": [],
   "source": [
    "class Computer:\n",
    "    @abstractmethod\n",
    "    def power_on():\n",
    "        pass\n",
    "    @abstractmethod\n",
    "    def shutdown():\n",
    "        pass\n",
    "    \n",
    "class Desktop(Computer):\n",
    "    def power_on(self):\n",
    "        return 'Destop power is on'\n",
    "    def shutdown(self):\n",
    "        return 'Desktop Shutdown'\n",
    "    \n",
    "class Laptop(Computer):\n",
    "     def power_on(self):\n",
    "        return 'Destop power is on'\n",
    "     def shutdown(self):\n",
    "        return 'Desktop Shutdown'\n",
    "    "
   ]
  },
  {
   "cell_type": "code",
   "execution_count": 40,
   "id": "4d652820-cf71-4f4d-bf64-0031ca317ed2",
   "metadata": {},
   "outputs": [
    {
     "data": {
      "text/plain": [
       "'Destop power is on'"
      ]
     },
     "execution_count": 40,
     "metadata": {},
     "output_type": "execute_result"
    }
   ],
   "source": [
    "desktop = Desktop()\n",
    "desktop.power_on()"
   ]
  },
  {
   "cell_type": "code",
   "execution_count": 41,
   "id": "57146c48-4d7a-4a08-960a-174e32ee4268",
   "metadata": {},
   "outputs": [
    {
     "data": {
      "text/plain": [
       "'Desktop Shutdown'"
      ]
     },
     "execution_count": 41,
     "metadata": {},
     "output_type": "execute_result"
    }
   ],
   "source": [
    "desktop.shutdown()"
   ]
  },
  {
   "cell_type": "code",
   "execution_count": 42,
   "id": "236bb0a4-3936-45f9-ac62-29ed29405421",
   "metadata": {},
   "outputs": [
    {
     "data": {
      "text/plain": [
       "'Destop power is on'"
      ]
     },
     "execution_count": 42,
     "metadata": {},
     "output_type": "execute_result"
    }
   ],
   "source": [
    "laptop = Laptop()\n",
    "laptop.power_on()"
   ]
  },
  {
   "cell_type": "markdown",
   "id": "5e373f54-d671-47e1-8e1b-89bda4eac41e",
   "metadata": {},
   "source": [
    "1. Create a class called Computer\n",
    "2. We are created Computer class as abstract class\n",
    "3. Created another class called Desktop which is inherit from the class Computer and inside the Desktop class we created a method called as shutdown and Power on\n",
    "4. Created another class called Laptop which is inherit from the class Computer and inside the Laptop class we created a method called as Shutdown and Power On"
   ]
  },
  {
   "cell_type": "markdown",
   "id": "13481fe7-93d7-4d06-8e78-82c2a8546ff9",
   "metadata": {},
   "source": [
    "17. Discuss the benefits of using abstraction in large-scale software development projects."
   ]
  },
  {
   "cell_type": "code",
   "execution_count": 2,
   "id": "f22de1ad-7eb8-46c0-954a-6958354147e8",
   "metadata": {},
   "outputs": [],
   "source": [
    "from abc import ABC, abstractmethod\n",
    "class Vehicle:\n",
    "    @abstractmethod\n",
    "    def start(self):\n",
    "        pass\n",
    "    def stop(self):\n",
    "        pass\n",
    "    \n",
    "class Car(Vehicle):\n",
    "    def start(self):\n",
    "        return 'Car Starts'\n",
    "    def stop(self):\n",
    "        return 'Car Stops'\n",
    "    \n",
    "class Bike(Vehicle):\n",
    "    def start(self):\n",
    "        return 'Bike Starts'\n",
    "    def stop(self):\n",
    "        return 'Bike Stops'"
   ]
  },
  {
   "cell_type": "code",
   "execution_count": 3,
   "id": "cc5b677a-7f51-4cbb-8e56-527682f1b2d1",
   "metadata": {},
   "outputs": [
    {
     "data": {
      "text/plain": [
       "'Car Starts'"
      ]
     },
     "execution_count": 3,
     "metadata": {},
     "output_type": "execute_result"
    }
   ],
   "source": [
    "car = Car()\n",
    "car.start()"
   ]
  },
  {
   "cell_type": "code",
   "execution_count": 4,
   "id": "c5eb017a-9e85-454e-b658-f8b02aa9c20f",
   "metadata": {},
   "outputs": [
    {
     "data": {
      "text/plain": [
       "'Car Stops'"
      ]
     },
     "execution_count": 4,
     "metadata": {},
     "output_type": "execute_result"
    }
   ],
   "source": [
    "car.stop()"
   ]
  },
  {
   "cell_type": "markdown",
   "id": "c3014c6f-2096-4f25-8b25-18641c80941f",
   "metadata": {},
   "source": [
    "1. Simplifies Complexity: Abstraction allows developers to focus on high-level concepts and hide the intricate details of a system. This simplification is crucial in large-scale projects where the complexity can be overwhelming. By breaking down the system into manageable components and abstracting away unnecessary details, developers can better understand and work on specific parts of the software without being bogged down by the entire system's complexity.\n",
    "\n",
    "2. Enhances Maintainability: Abstraction promotes code modularity and encapsulation, making it easier to maintain and update the software. Each module or component can be treated as a black box with well-defined interfaces, allowing changes to be made within a specific module without affecting the rest of the system. This modular approach simplifies debugging, testing, and updating, ultimately reducing the maintenance burden.\n",
    "\n",
    "3. Promotes Code Reusability: Abstraction encourages the creation of reusable components or libraries. Once a module or abstraction is designed and implemented, it can be easily reused in other parts of the system or in different projects. This not only saves development time but also improves consistency across the software, as the same abstraction can be used consistently in various contexts.\n",
    "\n",
    "4. Facilitates Collaboration: Large-scale software projects typically involve multiple developers and teams working on different aspects of the system simultaneously. Abstraction provides a clear and well-defined interface between components, allowing teams to work independently on their assigned tasks without having to understand the entire system intricacies. This promotes parallel development and facilitates collaboration.\n",
    "\n",
    "5. Improves System Understanding: Abstraction allows developers to reason about the software at a higher level of abstraction, focusing on essential concepts and relationships. This higher-level understanding is crucial for effective communication among team members, stakeholders, and even for documentation purposes. It helps in creating a conceptual model that aids in discussions, decision-making, and troubleshooting.\n",
    "\n",
    "6. Enables Future Extensibility: Well-designed abstractions provide a foundation for future system extensions and modifications. When the underlying complexity is abstracted away, it becomes easier to introduce new features or make changes without disrupting the existing functionality. This adaptability is essential for software systems that need to evolve and scale over time.\n",
    "\n",
    "7. Supports Testing and Debugging: Abstraction makes it easier to test individual components in isolation, leading to more effective unit testing. Debugging also becomes more manageable, as developers can focus on specific modules without being overwhelmed by the entire system's intricacies. This can result in quicker and more accurate identification and resolution of issues."
   ]
  },
  {
   "cell_type": "markdown",
   "id": "6726a60e-236a-4fac-b959-0bbc8a56e458",
   "metadata": {},
   "source": [
    "18. Explain how abstraction enhances code reusability and modularity in Python programs."
   ]
  },
  {
   "cell_type": "code",
   "execution_count": 7,
   "id": "16ef82cb-f683-4274-abdb-d795b11e7ac0",
   "metadata": {},
   "outputs": [],
   "source": [
    "from abc import ABC, abstractmethod\n",
    "\n",
    "# Abstract class with abstract method\n",
    "class Shape(ABC):\n",
    "    @abstractmethod\n",
    "    def calculate_area(self):\n",
    "        pass\n",
    "\n",
    "class Circle(Shape):\n",
    "    def __init__(self, radius):\n",
    "        self.radius = radius\n",
    "\n",
    "    def calculate_area(self):\n",
    "        return 3.14 * self.radius * self.radius\n",
    "\n",
    "class Square(Shape):\n",
    "    def __init__(self, side):\n",
    "        self.side = side\n",
    "\n",
    "    def calculate_area(self):\n",
    "        return self.side * self.side"
   ]
  },
  {
   "cell_type": "code",
   "execution_count": 4,
   "id": "3dabc4d2-28e9-4681-85df-74b0585ce23a",
   "metadata": {},
   "outputs": [
    {
     "name": "stdout",
     "output_type": "stream",
     "text": [
      "Circle area: 78.5\n",
      "Square area: 16\n"
     ]
    }
   ],
   "source": [
    "circle = Circle(5)\n",
    "square = Square(4)\n",
    "\n",
    "print(f\"Circle area: {circle.calculate_area()}\")\n",
    "print(f\"Square area: {square.calculate_area()}\")"
   ]
  },
  {
   "cell_type": "markdown",
   "id": "d3d5aa50-9615-4c12-878f-e93781699d7d",
   "metadata": {},
   "source": [
    "Abstraction plays a crucial role in enhancing code reusability and modularity in Python programs. Python, being a versatile and expressive programming language, provides features that support abstraction effectively. Here's how abstraction contributes to these aspects in Python:\n",
    "\n",
    "1. Encapsulation:\n",
    "Explanation: Abstraction in Python allows developers to encapsulate the implementation details of a module or class, exposing only what is necessary through well-defined interfaces.\n",
    "Example: Consider a Python class representing a database connection. The internal details, such as connection pooling, error handling, and query execution, can be encapsulated within the class. Users of this class need only be concerned with methods like connect(), execute_query(), and close(). This encapsulation ensures that changes to the internal implementation won't affect the code that uses the class.\n",
    "\n",
    "2. Class and Function Abstraction:\n",
    "Explanation: In Python, classes and functions serve as primary abstractions. Classes allow bundling data and behavior, while functions encapsulate specific operations.\n",
    "Example: A Python module might contain a class representing a geometric shape with methods like calculate_area() and calculate_perimeter(). Another module could define a function that operates on lists, abstracting away the details of the algorithm. These abstractions promote code reusability since the same class or function can be used in different parts of the program or even in other projects.\n",
    "\n",
    "3. Inheritance and Polymorphism:\n",
    "Explanation: Python supports inheritance, allowing the creation of new classes based on existing ones. Polymorphism allows different classes to be used interchangeably based on a common interface.\n",
    "Example: In a graphical user interface (GUI) library, you might have an abstract Widget class with common methods like draw() and handle_event(). Specific widgets like buttons and text boxes can inherit from this class, ensuring a consistent interface. The program can then use polymorphism to interact with various widgets without knowing their specific types.\n",
    "\n",
    "4. Module-Level Abstraction:\n",
    "Explanation: Python modules abstract functionality, allowing the organization of code into separate files. This supports modularity by breaking down the program into smaller, manageable components.\n",
    "Example: In a web application, you might have separate modules for handling user authentication, database interactions, and routing. Each module abstracts away its internal details, providing clear interfaces. This modular design enhances code reusability as modules can be used across different parts of the application or in entirely different projects.\n",
    "\n",
    "5. Abstract Base Classes (ABCs):\n",
    "Explanation: Python's abc module allows the creation of abstract base classes, providing a way to define a common interface for a group of related classes.\n",
    "Example: If you're developing a library for different storage backends, you could create an abstract base class Storage with methods like read() and write(). Concrete classes for specific storage types (e.g., FileStorage, DatabaseStorage) would then inherit from this base class. This ensures a consistent interface across different storage implementations, promoting code reusability.\n",
    "\n",
    "6. Duck Typing:\n",
    "Explanation: Python follows the principle of \"duck typing,\" which focuses on the object's behavior rather than its type. This promotes flexibility and code reusability by allowing different objects to be used interchangeably if they support the required methods or attributes.\n",
    "Example: A function that expects an object with a calculate() method can work with any object that provides this method, regardless of its class. This encourages code reusability, as new objects with the same method can be easily integrated into existing code."
   ]
  },
  {
   "cell_type": "markdown",
   "id": "ec93b240-caf0-4cfa-8846-2cac4ed6c560",
   "metadata": {},
   "source": [
    "19. Create a Python class for a library system, implementing abstraction by defining common methods (e.g., `add_book()`, `borrow_book()`) in an abstract base class."
   ]
  },
  {
   "cell_type": "code",
   "execution_count": 9,
   "id": "5fef2bd1-aec9-454f-ab59-6323a1f25f20",
   "metadata": {},
   "outputs": [],
   "source": [
    "class Library:\n",
    "    @abstractmethod\n",
    "    def add_book(self):\n",
    "        pass\n",
    "    @abstractmethod\n",
    "    def borrow_book(self):\n",
    "        pass\n",
    "class Book(Library):\n",
    "    def __init__(self, book):\n",
    "        self.book = book\n",
    "    def add_book(self, book):\n",
    "        self.book.append(book)\n",
    "    def borrow_book(self, book):\n",
    "        self.book.remove(book)\n",
    "    def available_book(self):\n",
    "        return self.book"
   ]
  },
  {
   "cell_type": "code",
   "execution_count": 10,
   "id": "b01c33e0-4d2e-4f1d-b0d6-a49e4c6e1ab2",
   "metadata": {},
   "outputs": [],
   "source": [
    "book = Book(['Harry Potter', 'Snow White', 'Chronicles of Narnia', 'Snowpiercer'])"
   ]
  },
  {
   "cell_type": "code",
   "execution_count": 11,
   "id": "1f9aaf6b-d6b4-41dd-b431-8a734286056b",
   "metadata": {},
   "outputs": [],
   "source": [
    "book.add_book('The Amazing Spider Man')"
   ]
  },
  {
   "cell_type": "code",
   "execution_count": 15,
   "id": "254576d3-fa0d-406e-bcab-81c31a621f1d",
   "metadata": {},
   "outputs": [
    {
     "data": {
      "text/plain": [
       "['Harry Potter',\n",
       " 'Chronicles of Narnia',\n",
       " 'Snowpiercer',\n",
       " 'The Amazing Spider Man']"
      ]
     },
     "execution_count": 15,
     "metadata": {},
     "output_type": "execute_result"
    }
   ],
   "source": [
    "book.available_book()"
   ]
  },
  {
   "cell_type": "code",
   "execution_count": 13,
   "id": "16598728-de31-4244-a75a-922b0004e551",
   "metadata": {},
   "outputs": [],
   "source": [
    "book.borrow_book('Snow White')"
   ]
  },
  {
   "cell_type": "code",
   "execution_count": 14,
   "id": "6c7d4bbb-575a-4bd3-8baa-fb3850cb3394",
   "metadata": {},
   "outputs": [
    {
     "data": {
      "text/plain": [
       "['Harry Potter',\n",
       " 'Chronicles of Narnia',\n",
       " 'Snowpiercer',\n",
       " 'The Amazing Spider Man']"
      ]
     },
     "execution_count": 14,
     "metadata": {},
     "output_type": "execute_result"
    }
   ],
   "source": [
    "book.available_book()"
   ]
  },
  {
   "cell_type": "markdown",
   "id": "bbc3233f-72bb-4fdb-aeef-536b98ff3544",
   "metadata": {},
   "source": [
    "1. Create a class called Library\n",
    "2. We created  library class as abstract class\n",
    "3. Inside the library class we created two mehods i.e add_books and borrwo books\n",
    "4. Create another class book which is inherited from the library class and inside the class created a constructor which takes list as an input and create a method add_book which adds the book into the list and borrow book which remover books from the list\n",
    "5. Print the result"
   ]
  },
  {
   "cell_type": "markdown",
   "id": "01e84a9c-0357-47c1-945f-9ba04c423a38",
   "metadata": {},
   "source": [
    "20. Describe the concept of method abstraction in Python and how it relates to polymorphism."
   ]
  },
  {
   "cell_type": "code",
   "execution_count": 17,
   "id": "146f88f6-aa49-40e4-9486-4ae0e030bbd2",
   "metadata": {},
   "outputs": [],
   "source": [
    "from abc import ABC, abstractmethod\n",
    "\n",
    "class Shape(ABC):\n",
    "    @abstractmethod\n",
    "    def calculate_area(self):\n",
    "        pass\n",
    "\n",
    "class Circle(Shape):\n",
    "    def __init__(self, radius):\n",
    "        self.radius = radius\n",
    "\n",
    "    def calculate_area(self):\n",
    "        return 3.14 * self.radius * self.radius\n",
    "\n",
    "class Rectangle(Shape):\n",
    "    def __init__(self, length, width):\n",
    "        self.length = length\n",
    "        self.width = width\n",
    "\n",
    "    def calculate_area(self):\n",
    "        return self.length * self.width\n"
   ]
  },
  {
   "cell_type": "code",
   "execution_count": 18,
   "id": "20917e9a-8647-43e4-b9cc-c6a28151b655",
   "metadata": {},
   "outputs": [
    {
     "name": "stdout",
     "output_type": "stream",
     "text": [
      "Area: 78.5\n",
      "Area: 24\n"
     ]
    }
   ],
   "source": [
    "def print_area(shape):\n",
    "    print(f\"Area: {shape.calculate_area()}\")\n",
    "\n",
    "circle = Circle(5)\n",
    "rectangle = Rectangle(4, 6)\n",
    "\n",
    "print_area(circle)     \n",
    "print_area(rectangle)"
   ]
  },
  {
   "cell_type": "markdown",
   "id": "f24aff37-a141-470b-9a90-189d8335d70b",
   "metadata": {},
   "source": [
    "Here's how method abstraction and polymorphism are interconnected in Python:\n",
    "\n",
    "1. Abstraction through Interfaces: Method abstraction is often achieved through the use of interfaces or abstract base classes (ABCs) in Python. An interface defines a set of methods that must be implemented by any concrete class that inherits from it. However, the interface itself doesn't provide the implementation details. For example, an abstract class may declare a method like calculate_area() without specifying how the area is calculated. Concrete subclasses, such as Circle or Rectangle, then provide their specific implementations.\n",
    "2. Polymorphism: Polymorphism, a fundamental principle in object-oriented programming, allows objects of different types to be treated as objects of a common type. In Python, polymorphism is often achieved through method overriding and duck typing. With method overriding, a subclass can provide a specific implementation of a method that is already defined in its superclass. This allows different objects to respond to the same method call in a way that is appropriate for their type. Duck typing, on the other hand, allows objects to be used based on their behavior rather than their type. If an object has a method with a specific name and signature, it can be used in a context expecting an object with that method, regardless of its class.\n",
    "\n",
    "Example:\n",
    "1. In this example, the Shape class defines an abstract method calculate_area(). \n",
    "2. The Circle and Rectangle classes implement this method with their specific area calculation logic.\n",
    "3. The print_area function takes a Shape object as an argument, demonstrating polymorphism by accepting different shapes and calling their calculate_area methods."
   ]
  },
  {
   "cell_type": "markdown",
   "id": "e1d7af3e-de74-4f51-a706-b4e52f3f7cb5",
   "metadata": {},
   "source": [
    "# Composition"
   ]
  },
  {
   "cell_type": "code",
   "execution_count": 33,
   "id": "16ce5533-63af-46a2-adde-8992bc57056c",
   "metadata": {},
   "outputs": [],
   "source": [
    "class Engine:\n",
    "    def start(self):\n",
    "        print(\"Engine started.\")\n",
    "\n",
    "    def stop(self):\n",
    "        print(\"Engine stopped.\")\n",
    "\n",
    "class Wheels:\n",
    "    def rotate(self):\n",
    "        print(\"Wheels rotating.\")\n",
    "\n",
    "class Car:\n",
    "    def __init__(self):\n",
    "        self.engine = Engine()\n",
    "        self.wheels = Wheels()\n",
    "\n",
    "    def start(self):\n",
    "        self.engine.start()\n",
    "\n",
    "    def stop(self):\n",
    "        self.engine.stop()\n",
    "\n",
    "    def drive(self):\n",
    "        self.wheels.rotate()\n",
    "\n"
   ]
  },
  {
   "cell_type": "code",
   "execution_count": 34,
   "id": "1f40c9cd-8050-4ec5-8acd-23834aa08bdb",
   "metadata": {},
   "outputs": [
    {
     "name": "stdout",
     "output_type": "stream",
     "text": [
      "Engine started.\n",
      "Wheels rotating.\n",
      "Engine stopped.\n"
     ]
    }
   ],
   "source": [
    "my_car = Car()\n",
    "my_car.start()  \n",
    "my_car.drive()   \n",
    "my_car.stop()    "
   ]
  },
  {
   "cell_type": "markdown",
   "id": "28021267-343c-460e-b0cf-86ea5c9e323f",
   "metadata": {},
   "source": [
    "Composition is a fundamental concept in object-oriented programming that involves building complex objects by combining simpler ones. In Python, composition is achieved by creating instances of other classes within a class and using those instances to build up the functionality of the containing class. This is in contrast to inheritance, where a class can inherit attributes and methods from another class.\n",
    "\n",
    "Example:\n",
    "\n",
    "1. The Car class is composed of instances of the Engine and Wheels classes. \n",
    "2. It encapsulates the functionality related to starting, stopping, and driving.\n",
    "3. Composition allows the Car class to delegate specific tasks to the Engine and Wheels instances without inheriting their entire implementation.\n",
    "4. The start, stop, and drive methods of the Car class demonstrate how composition is used to build complex behavior from the simpler components."
   ]
  },
  {
   "cell_type": "markdown",
   "id": "00bb0960-2283-4426-b1ad-aee72582cb57",
   "metadata": {},
   "source": [
    "2. Describe the difference between composition and inheritance in object-oriented programming."
   ]
  },
  {
   "cell_type": "code",
   "execution_count": 40,
   "id": "e4ca1914-9aef-4c2a-a0f1-f43148571366",
   "metadata": {},
   "outputs": [],
   "source": [
    "# Composition\n",
    "class Engine:\n",
    "    def start(self):\n",
    "        print(\"Engine started.\")\n",
    "\n",
    "    def stop(self):\n",
    "        print(\"Engine stopped.\")\n",
    "\n",
    "class Wheels:\n",
    "    def rotate(self):\n",
    "        print(\"Wheels rotating.\")\n",
    "\n",
    "class Car:\n",
    "    def __init__(self):\n",
    "        self.engine = Engine()\n",
    "        self.wheels = Wheels()\n",
    "\n",
    "    def start(self):\n",
    "        self.engine.start()\n",
    "\n",
    "    def stop(self):\n",
    "        self.engine.stop()\n",
    "\n",
    "    def drive(self):\n",
    "        self.wheels.rotate()"
   ]
  },
  {
   "cell_type": "code",
   "execution_count": 41,
   "id": "b304ee4f-44ac-4d7a-88e9-d52c0777c004",
   "metadata": {},
   "outputs": [
    {
     "name": "stdout",
     "output_type": "stream",
     "text": [
      "Engine started.\n",
      "Wheels rotating.\n",
      "Engine stopped.\n"
     ]
    }
   ],
   "source": [
    "my_car = Car()\n",
    "my_car.start()  \n",
    "my_car.drive()   \n",
    "my_car.stop()"
   ]
  },
  {
   "cell_type": "code",
   "execution_count": 42,
   "id": "3ad2ab0b-bd65-459c-bedf-397b0dd6e7d2",
   "metadata": {},
   "outputs": [],
   "source": [
    "# Inheritance\n",
    "class Animal:\n",
    "    def speak(self):\n",
    "        print(\"Generic animal sound.\")\n",
    "\n",
    "class Dog(Animal):\n",
    "    def speak(self):\n",
    "        print(\"Woof! Woof.\")\n",
    "\n",
    "class Cat(Animal):\n",
    "    def speak(self):\n",
    "        print(\"Meow.\")"
   ]
  },
  {
   "cell_type": "code",
   "execution_count": 43,
   "id": "fd916736-075e-479a-88a0-5fb83a6cf5f6",
   "metadata": {},
   "outputs": [
    {
     "name": "stdout",
     "output_type": "stream",
     "text": [
      "Woof! Woof.\n"
     ]
    }
   ],
   "source": [
    "dog = Dog()\n",
    "dog.speak()"
   ]
  },
  {
   "cell_type": "code",
   "execution_count": 44,
   "id": "562e04ed-6d86-43ca-960e-ab886048aefb",
   "metadata": {},
   "outputs": [
    {
     "name": "stdout",
     "output_type": "stream",
     "text": [
      "Meow.\n"
     ]
    }
   ],
   "source": [
    "cat = Cat()\n",
    "cat.speak()"
   ]
  },
  {
   "cell_type": "markdown",
   "id": "c98e5439-fa6f-4b88-a955-f45ce2d31086",
   "metadata": {},
   "source": [
    "Composition:\n",
    "1. Use composition when you want to build objects by combining simpler, more specialized components.\n",
    "2. Use composition for a \"has-a\" relationship and when you want high flexibility and modifiability.\n",
    "3. Composition is often preferred over inheritance to avoid the issues associated with a rigid class hierarchy.\n",
    "\n",
    "Inheritance:\n",
    "1. Use inheritance when a subclass \"is a\" specialization of a superclass and shares an \"is-a\" relationship.\n",
    "2. Use inheritance when you want to reuse and extend the behavior of an existing class.\n",
    "3. Inheritance can be suitable for cases where a clear hierarchy and code reuse through extension are desired."
   ]
  },
  {
   "cell_type": "markdown",
   "id": "64074fb1-9d1a-42e0-a7f1-92ab142ea4bd",
   "metadata": {},
   "source": [
    "3. Create a Python class called `Author` with attributes for name and birthdate. Then, create a `Book` class\n",
    "that contains an instance of `Author` as a composition. Provide an example of creating a `Book` object."
   ]
  },
  {
   "cell_type": "code",
   "execution_count": 60,
   "id": "cce0bff0-e4a8-4bb9-b8c9-d370f440485e",
   "metadata": {},
   "outputs": [],
   "source": [
    "class Author:\n",
    "    def __init__(self, name, birthdate):\n",
    "        self.name = name\n",
    "        self.birthdate = birthdate\n",
    "\n",
    "class Book:\n",
    "    def __init__(self, title, genre, author):\n",
    "        self.title = title\n",
    "        self.genre = genre\n",
    "        self.author = author \n",
    "\n",
    "    def display_info(self):\n",
    "        print(f\"Title: {self.title}\")\n",
    "        print(f\"Genre: {self.genre}\")\n",
    "        print(f\"Author: {self.author.name}\")\n",
    "        print(f\"Birthdate: {self.author.birthdate}\")\n",
    "\n",
    "\n",
    "\n"
   ]
  },
  {
   "cell_type": "code",
   "execution_count": 62,
   "id": "6b884c81-4aaf-4331-845d-6c95b2911bb2",
   "metadata": {},
   "outputs": [
    {
     "name": "stdout",
     "output_type": "stream",
     "text": [
      "Title: Python Programming\n",
      "Genre: Programming\n",
      "Author: John Doe\n",
      "Birthdate: January 1, 1980\n"
     ]
    }
   ],
   "source": [
    "author = Author(\"John Doe\", \"January 1, 1980\")\n",
    "book = Book(\"Python Programming\", \"Programming\", author)\n",
    "\n",
    "book.display_info()"
   ]
  },
  {
   "cell_type": "markdown",
   "id": "1ca54444-7abc-4192-bf19-05ef566b20cf",
   "metadata": {},
   "source": [
    "1. The Author class has attributes for name and birthdate.\n",
    "2. The Book class has attributes for title, genre, and author, where author is an instance of the Author class (composition).\n",
    "3. The display_info method in the Book class is used to display information about the book, including details about the author."
   ]
  },
  {
   "cell_type": "markdown",
   "id": "d957521e-f058-4b8a-adba-61ef371e8dbd",
   "metadata": {},
   "source": [
    "4. Discuss the benefits of using composition over inheritance in Python, especially in terms of code flexibility\n",
    "and reusability."
   ]
  },
  {
   "cell_type": "code",
   "execution_count": 68,
   "id": "cf1009a2-ef65-4435-a76e-96fd9f642201",
   "metadata": {},
   "outputs": [],
   "source": [
    "class Engine:\n",
    "    def start(self):\n",
    "        print(\"Engine started.\")\n",
    "\n",
    "    def stop(self):\n",
    "        print(\"Engine stopped.\")\n",
    "\n",
    "class Wheels:\n",
    "    def rotate(self):\n",
    "        print(\"Wheels rotating.\")\n",
    "\n",
    "class Car:\n",
    "    def __init__(self):\n",
    "        self.engine = Engine()\n",
    "        self.wheels = Wheels()\n",
    "\n",
    "    def start(self):\n",
    "        self.engine.start()\n",
    "\n",
    "    def stop(self):\n",
    "        self.engine.stop()\n",
    "\n",
    "    def drive(self):\n",
    "        self.wheels.rotate()"
   ]
  },
  {
   "cell_type": "code",
   "execution_count": 69,
   "id": "797d1493-60ce-460c-befe-c2cd377bbcbb",
   "metadata": {},
   "outputs": [
    {
     "name": "stdout",
     "output_type": "stream",
     "text": [
      "Engine started.\n",
      "Wheels rotating.\n",
      "Engine stopped.\n"
     ]
    }
   ],
   "source": [
    "my_car = Car()\n",
    "my_car.start()  \n",
    "my_car.drive()   \n",
    "my_car.stop()"
   ]
  },
  {
   "cell_type": "markdown",
   "id": "922bd887-c347-452e-a494-5536402cee01",
   "metadata": {},
   "source": [
    "1. Flexibility and Modifiability:\n",
    "Composition: With composition, classes are more flexible and modifiable. Components can be added, removed, or replaced without affecting the entire class hierarchy.\n",
    "Inheritance: Inheritance can be rigid. Changes to a superclass can have a cascading effect on all its subclasses, making the system less adaptable to modifications.\n",
    "2. Reduced Coupling:\n",
    "Composition: Components (objects of other classes) are loosely coupled with the containing class. This reduces dependencies and makes it easier to replace or modify components independently.\n",
    "Inheritance: Subclasses are tightly coupled with their superclasses. Changes to a superclass can affect all its subclasses, potentially introducing unintended side effects.\n",
    "3. Code Reusability:\n",
    "Composition: Composition promotes code reusability by allowing the reuse of individual components in different contexts. Components can be shared among multiple classes.\n",
    "Inheritance: Code reuse in inheritance is achieved through extension. While it allows for reusing methods from a superclass, it can lead to a less modular and more tightly coupled design.\n",
    "4. Avoiding Fragile Base Class Problem:\n",
    "Composition: Composition avoids the \"fragile base class\" problem, where changes to a base class can unintentionally affect all its derived classes.\n",
    "Inheritance: Inheritance can be prone to the fragile base class problem, where modifications to a base class may inadvertently break existing subclasses.\n",
    "5. Encapsulation:\n",
    "Composition: Encapsulation is enhanced as each class is responsible for its own behavior, and the containing class delegates specific tasks to its components.\n",
    "Inheritance: Inheritance may expose more implementation details of the superclass to its subclasses, potentially violating encapsulation.\n",
    "6. Better Modeling of \"Has-a\" Relationships:\n",
    "Composition: Composition is well-suited for modeling \"has-a\" relationships between classes. For example, a Car has an Engine and Wheels.\n",
    "Inheritance: Inheritance is typically used for \"is-a\" relationships, where a subclass is considered a specific type of its superclass.\n",
    "7. Easier Unit Testing:\n",
    "Composition: Components can be easily mocked or replaced during unit testing, allowing for more straightforward testing of individual functionalities.\n",
    "Inheritance: Inheritance might make it more challenging to isolate and test specific functionalities independently due to the interdependencies between classes in the hierarchy.\n",
    "8. Avoiding Diamond Inheritance Problem:\n",
    "Composition: Composition avoids the diamond inheritance problem, which can occur when a class inherits from two classes that have a common ancestor. This problem can lead to ambiguity and complexity.\n",
    "Inheritance: Multiple inheritance can lead to the diamond inheritance problem, requiring careful management to avoid confusion and maintain clarity in the code.\n",
    "\n",
    "Example:\n",
    "1. The Car class is composed of instances of the Engine and Wheels classes. \n",
    "2. It encapsulates the functionality related to starting, stopping, and driving.\n",
    "3. Composition allows the Car class to delegate specific tasks to the Engine and Wheels instances without inheriting their entire implementation.\n",
    "4. The start, stop, and drive methods of the Car class demonstrate how composition is used to build complex behavior from the simpler components.\n"
   ]
  },
  {
   "cell_type": "markdown",
   "id": "b84f9751-b9e5-4e4a-9428-13fa2b9a9713",
   "metadata": {},
   "source": [
    "5. How can you implement composition in Python classes? Provide examples of using composition to create\n",
    "complex objects."
   ]
  },
  {
   "cell_type": "code",
   "execution_count": 72,
   "id": "00fa4833-475d-4f0f-b65a-f0a41ce8dedf",
   "metadata": {},
   "outputs": [],
   "source": [
    "class Engine:\n",
    "    def start(self):\n",
    "        print(\"Engine started.\")\n",
    "\n",
    "    def stop(self):\n",
    "        print(\"Engine stopped.\")\n",
    "\n",
    "class Wheel:\n",
    "    def rotate(self):\n",
    "        print(\"Wheel rotating.\")\n",
    "\n",
    "class Car:\n",
    "    def __init__(self):\n",
    "        self.engine = Engine()\n",
    "        self.front_left_wheel = Wheel()\n",
    "        self.front_right_wheel = Wheel()\n",
    "        self.rear_left_wheel = Wheel()\n",
    "        self.rear_right_wheel = Wheel()\n",
    "\n",
    "    def start(self):\n",
    "        self.engine.start()\n",
    "\n",
    "    def stop(self):\n",
    "        self.engine.stop()\n",
    "\n",
    "    def drive(self):\n",
    "        self.front_left_wheel.rotate()\n",
    "        self.front_right_wheel.rotate()\n",
    "        self.rear_left_wheel.rotate()\n",
    "        self.rear_right_wheel.rotate()"
   ]
  },
  {
   "cell_type": "code",
   "execution_count": 73,
   "id": "c752d788-85e3-429f-9b40-05996bfd7968",
   "metadata": {},
   "outputs": [
    {
     "name": "stdout",
     "output_type": "stream",
     "text": [
      "Engine started.\n",
      "Wheel rotating.\n",
      "Wheel rotating.\n",
      "Wheel rotating.\n",
      "Wheel rotating.\n",
      "Engine stopped.\n"
     ]
    }
   ],
   "source": [
    "my_car = Car()\n",
    "\n",
    "my_car.start()  \n",
    "my_car.drive()   \n",
    "my_car.stop()    "
   ]
  },
  {
   "cell_type": "markdown",
   "id": "dc56a609-9f8f-4366-955d-ee0c6b265240",
   "metadata": {},
   "source": [
    "1. The Engine class represents the engine of the car with methods for starting and stopping.\n",
    "2. The Wheel class represents a wheel with a method for rotation.\n",
    "3. The Car class is composed of instances of Engine and Wheel. \n",
    "4. It has methods for starting, stopping, and driving, which delegate specific tasks to its components.\n"
   ]
  },
  {
   "cell_type": "markdown",
   "id": "d0a7239e-759c-4119-aed5-e11ea38f5b10",
   "metadata": {},
   "source": [
    "6. Create a Python class hierarchy for a music player system, using composition to represent playlists and\n",
    "songs."
   ]
  },
  {
   "cell_type": "code",
   "execution_count": 74,
   "id": "448352a8-6fc4-478e-beb8-332b5cd23bc6",
   "metadata": {},
   "outputs": [],
   "source": [
    "class Song:\n",
    "    def __init__(self, title, artist, duration):\n",
    "        self.title = title\n",
    "        self.artist = artist\n",
    "        self.duration = duration\n",
    "\n",
    "    def play(self):\n",
    "        print(f\"Playing: {self.title} by {self.artist}\")\n",
    "\n",
    "class Playlist:\n",
    "    def __init__(self, name):\n",
    "        self.name = name\n",
    "        self.songs = []\n",
    "\n",
    "    def add_song(self, song):\n",
    "        self.songs.append(song)\n",
    "\n",
    "    def play_playlist(self):\n",
    "        print(f\"Playlist: {self.name}\")\n",
    "        for song in self.songs:\n",
    "            song.play()\n",
    "\n",
    "class MusicPlayer:\n",
    "    def __init__(self):\n",
    "        self.playlists = []\n",
    "\n",
    "    def add_playlist(self, playlist):\n",
    "        self.playlists.append(playlist)\n"
   ]
  },
  {
   "cell_type": "code",
   "execution_count": 75,
   "id": "e8ad94fe-3fe8-44ce-a665-b6a1c770c439",
   "metadata": {},
   "outputs": [],
   "source": [
    "song1 = Song(\"Shape of You\", \"Ed Sheeran\", \"4:23\")\n",
    "song2 = Song(\"Blinding Lights\", \"The Weeknd\", \"3:20\")\n",
    "song3 = Song(\"Imagine\", \"John Lennon\", \"3:03\")\n"
   ]
  },
  {
   "cell_type": "code",
   "execution_count": 77,
   "id": "cee9fabb-ae7f-4884-92ff-56bc4b338067",
   "metadata": {},
   "outputs": [],
   "source": [
    "playlist1 = Playlist(\"Pop Hits\")\n",
    "playlist1.add_song(song1)\n",
    "playlist1.add_song(song2)\n",
    "\n",
    "playlist2 = Playlist(\"Classic Songs\")\n",
    "playlist2.add_song(song3)"
   ]
  },
  {
   "cell_type": "code",
   "execution_count": 78,
   "id": "eb24861d-b124-4b31-b7cb-d54786724994",
   "metadata": {},
   "outputs": [
    {
     "name": "stdout",
     "output_type": "stream",
     "text": [
      "Playlist: Pop Hits\n",
      "Playing: Shape of You by Ed Sheeran\n",
      "Playing: Blinding Lights by The Weeknd\n",
      "Playlist: Classic Songs\n",
      "Playing: Imagine by John Lennon\n"
     ]
    }
   ],
   "source": [
    "music_player = MusicPlayer()\n",
    "music_player.add_playlist(playlist1)\n",
    "music_player.add_playlist(playlist2)\n",
    "\n",
    "for playlist in music_player.playlists:\n",
    "    playlist.play_playlist()"
   ]
  },
  {
   "cell_type": "markdown",
   "id": "faa7febc-a3a4-4229-a1a3-730929b2aecc",
   "metadata": {},
   "source": [
    "1. The Song class represents individual songs with attributes like title, artist, and duration. It has a method play to simulate playing the song.\n",
    "2. The Playlist class represents a collection of songs. It has a name and a list of songs. The add_song method allows adding songs to the playlist, and the play_playlist method plays all the songs in the playlist.\n",
    "3. The MusicPlayer class represents the overall music player system. It contains a list of playlists, and the add_playlist method allows adding playlists to the music player.\n",
    "4. Instances of Song, Playlist, and MusicPlayer are created and composed to build the music player system."
   ]
  },
  {
   "cell_type": "markdown",
   "id": "262e990b-4f44-4a32-ad9f-eef5087e1253",
   "metadata": {},
   "source": [
    "7. Explain the concept of \"has-a\" relationships in composition and how it helps design software systems."
   ]
  },
  {
   "cell_type": "code",
   "execution_count": 79,
   "id": "80b2c643-14a2-43de-8df9-8050ff1079dd",
   "metadata": {},
   "outputs": [],
   "source": [
    "class Engine:\n",
    "    def start(self):\n",
    "        print(\"Engine started.\")\n",
    "\n",
    "    def stop(self):\n",
    "        print(\"Engine stopped.\")\n",
    "\n",
    "class Wheels:\n",
    "    def rotate(self):\n",
    "        print(\"Wheels rotating.\")\n",
    "\n",
    "class Car:\n",
    "    def __init__(self):\n",
    "        self.engine = Engine()\n",
    "        self.wheels = Wheels()\n",
    "\n",
    "    def start(self):\n",
    "        self.engine.start()\n",
    "\n",
    "    def stop(self):\n",
    "        self.engine.stop()\n",
    "\n",
    "    def drive(self):\n",
    "        self.wheels.rotate()"
   ]
  },
  {
   "cell_type": "code",
   "execution_count": 80,
   "id": "04df0efa-9e72-4ac9-bfc5-7ac571f6decc",
   "metadata": {},
   "outputs": [
    {
     "name": "stdout",
     "output_type": "stream",
     "text": [
      "Engine started.\n",
      "Wheels rotating.\n",
      "Engine stopped.\n"
     ]
    }
   ],
   "source": [
    "my_car = Car()\n",
    "my_car.start()  \n",
    "my_car.drive()   \n",
    "my_car.stop()  "
   ]
  },
  {
   "cell_type": "markdown",
   "id": "d90ebd56-3b0d-49f4-9681-be561b23135b",
   "metadata": {},
   "source": [
    "Benefits in Software System:\n",
    "1. Improved Code Organization:Components encapsulate specific functionalities, leading to a more organized and structured codebase.\n",
    "2. Enhanced Flexibility:Components can be easily replaced or extended, providing flexibility in adapting to changing requirements.\n",
    "3. Promotes Reusability:Components can be reused in different contexts, promoting code reusability and reducing redundancy.\n",
    "4. Easier Maintenance:Changes to one component do not necessarily impact other components, making maintenance more straightforward.\n",
    "5. Supports Modular Design:\"Has-a\" relationships support modular design, allowing developers to focus on individual components independently.\n",
    "\n",
    "Example:\n",
    "\n",
    "1. The Car class is composed of instances of the Engine and Wheels classes. \n",
    "2. It encapsulates the functionality related to starting, stopping, and driving.\n",
    "3. Composition allows the Car class to delegate specific tasks to the Engine and Wheels instances without inheriting their entire implementation.\n",
    "4. The start, stop, and drive methods of the Car class demonstrate how composition is used to build complex behavior from the simpler components."
   ]
  },
  {
   "cell_type": "markdown",
   "id": "f3b466f4-40be-44e4-8c7a-ee4c580fc06f",
   "metadata": {},
   "source": [
    "8. Create a Python class for a computer system, using composition to represent components like CPU, RAM,\n",
    "and storage devices."
   ]
  },
  {
   "cell_type": "code",
   "execution_count": 81,
   "id": "74e0f714-a792-4838-a210-34a655322ac6",
   "metadata": {},
   "outputs": [],
   "source": [
    "class CPU:\n",
    "    def __init__(self, brand, speed):\n",
    "        self.brand = brand\n",
    "        self.speed = speed\n",
    "\n",
    "    def process_data(self):\n",
    "        print(f\"{self.brand} CPU processing data at {self.speed} GHz.\")\n",
    "\n",
    "class RAM:\n",
    "    def __init__(self, capacity):\n",
    "        self.capacity = capacity\n",
    "\n",
    "    def read_data(self):\n",
    "        print(f\"Reading data from {self.capacity} GB RAM.\")\n",
    "\n",
    "class StorageDevice:\n",
    "    def __init__(self, type, capacity):\n",
    "        self.type = type\n",
    "        self.capacity = capacity\n",
    "\n",
    "    def store_data(self):\n",
    "        print(f\"Storing data on {self.capacity} GB {self.type} storage.\")\n",
    "\n",
    "class Computer:\n",
    "    def __init__(self, cpu, ram, storage):\n",
    "        self.cpu = cpu\n",
    "        self.ram = ram\n",
    "        self.storage = storage\n",
    "\n",
    "    def perform_computations(self):\n",
    "        self.cpu.process_data()\n",
    "        self.ram.read_data()\n",
    "        self.storage.store_data()"
   ]
  },
  {
   "cell_type": "code",
   "execution_count": 82,
   "id": "e87dae95-0f9d-4531-bcf4-ff7246bb4022",
   "metadata": {},
   "outputs": [
    {
     "name": "stdout",
     "output_type": "stream",
     "text": [
      "Intel CPU processing data at 3.5 GHz.\n",
      "Reading data from 8 GB RAM.\n",
      "Storing data on 512 GB SSD storage.\n"
     ]
    }
   ],
   "source": [
    "cpu = CPU(\"Intel\", 3.5)\n",
    "ram = RAM(8)\n",
    "storage = StorageDevice(\"SSD\", 512)\n",
    "\n",
    "my_computer = Computer(cpu, ram, storage)\n",
    "\n",
    "my_computer.perform_computations()"
   ]
  },
  {
   "cell_type": "markdown",
   "id": "448a7500-9119-44c7-919f-2bac79dfb681",
   "metadata": {},
   "source": [
    "1. The CPU, RAM, and StorageDevice classes represent individual components of a computer system.\n",
    "2. The Computer class is composed of instances of CPU, RAM, and StorageDevice. \n",
    "3. It has a method perform_computations that internally uses the functionalities of these components.\n",
    "4. Print the result"
   ]
  },
  {
   "cell_type": "markdown",
   "id": "41fe9c94-bb47-474f-a198-217493352af8",
   "metadata": {},
   "source": [
    "9. Describe the concept of \"delegation\" in composition and how it simplifies the design of complex systems."
   ]
  },
  {
   "cell_type": "code",
   "execution_count": 84,
   "id": "190752f2-6ca7-485c-a1d8-1b2e7abaff6a",
   "metadata": {},
   "outputs": [],
   "source": [
    "class FileManager:\n",
    "    def save_document(self, document_content):\n",
    "        print(\"Document saved successfully.\")\n",
    "\n",
    "class TextEditor:\n",
    "    def __init__(self, file_manager):\n",
    "        self.file_manager = file_manager\n",
    "\n",
    "    def edit_document(self, document_content):\n",
    "        print(\"Document edited successfully.\")\n",
    "\n",
    "    def save_document(self, document_content):\n",
    "        self.file_manager.save_document(document_content)\n",
    "\n"
   ]
  },
  {
   "cell_type": "code",
   "execution_count": 85,
   "id": "7bf299cb-43aa-42ac-b09f-d76ec55fc8e5",
   "metadata": {},
   "outputs": [
    {
     "name": "stdout",
     "output_type": "stream",
     "text": [
      "Document edited successfully.\n",
      "Document saved successfully.\n"
     ]
    }
   ],
   "source": [
    "file_manager = FileManager()\n",
    "text_editor = TextEditor(file_manager)\n",
    "text_editor.edit_document(\"Sample text\")\n",
    "text_editor.save_document(\"Sample text\")\n"
   ]
  },
  {
   "cell_type": "markdown",
   "id": "3931c04a-e688-4608-93e9-4cddf3c858f2",
   "metadata": {},
   "source": [
    "\n",
    "The concept of \"delegation\" in composition involves one object (or class) assigning responsibility for a particular task to another object. This is achieved by creating an instance of another class within a class and then forwarding or delegating specific operations to that instance. Delegation is a powerful design pattern that promotes code reuse, modularity, and flexibility in building complex systems.\n",
    "\n",
    "Key Points:\n",
    "1. Delegating Responsibility: In a composition-based design, an object delegates specific responsibilities or tasks to another object.The delegating object contains an instance of the delegate object and relies on it to perform certain operations.\n",
    "2. Code Reuse: Delegation promotes code reuse by allowing the reuse of existing classes or components without inheriting their entire implementation.Components can be easily swapped or extended without affecting the overall structure of the system.\n",
    "3. Modularity: Delegation contributes to modularity in software design. Each class is responsible for a specific set of tasks, making the codebase more organized and easier to maintain.\n",
    "4. Encapsulation: Delegation enhances encapsulation by encapsulating the details of specific tasks within individual classes.Each class is responsible for its own behavior, and the delegating class does not need to expose the details of the delegated tasks.\n",
    "5. Reduced Coupling:Delegation reduces coupling between classes. The delegating class is not tightly coupled to the internal details of the delegate class, promoting a more loosely coupled system.\n",
    "6. Flexibility: Delegation provides flexibility in design. Components can be easily replaced or extended without affecting the overall structure of the system.\n",
    "\n",
    "Example:\n",
    "1. Consider a text editor system where a TextEditor class delegates the functionality of saving documents to a FileManager class\n",
    "2. The FileManager class is responsible for saving documents.\n",
    "3. The TextEditor class contains an instance of FileManager and delegates the responsibility of saving documents to it."
   ]
  },
  {
   "cell_type": "markdown",
   "id": "bbec996f-ffaa-4c42-b217-7e36b6c82105",
   "metadata": {},
   "source": [
    "10. Create a Python class for a car, using composition to represent components like the engine, wheels, and\n",
    "transmission."
   ]
  },
  {
   "cell_type": "code",
   "execution_count": 90,
   "id": "95617fe3-3947-40fb-9c0c-3210922fcfba",
   "metadata": {},
   "outputs": [],
   "source": [
    "class Engine:\n",
    "    def __init__(self, brand, fuel_type):\n",
    "        self.brand = brand\n",
    "        self.fuel_type = fuel_type\n",
    "\n",
    "    def start(self):\n",
    "        print(f\"{self.brand} engine started.\")\n",
    "\n",
    "    def stop(self):\n",
    "        print(f\"{self.brand} engine stopped.\")\n",
    "\n",
    "class Wheels:\n",
    "    def __init__(self, brand, tire_type):\n",
    "        self.brand = brand\n",
    "        self.tire_type = tire_type\n",
    "\n",
    "    def rotate(self):\n",
    "        print(f\"{self.brand} wheels rotating on {self.tire_type} tires.\")\n",
    "\n",
    "class Transmission:\n",
    "    def __init__(self, type):\n",
    "        self.type = type\n",
    "\n",
    "    def shift_gear(self):\n",
    "        print(f\"Transmission shifted to {self.type} gear.\")\n",
    "\n",
    "class Car:\n",
    "    def __init__(self, engine, wheels, transmission):\n",
    "        self.engine = engine\n",
    "        self.wheels = wheels\n",
    "        self.transmission = transmission\n",
    "\n",
    "    def start(self):\n",
    "        self.engine.start()\n",
    "\n",
    "    def drive(self):\n",
    "        self.transmission.shift_gear()\n",
    "        self.wheels.rotate()\n",
    "\n",
    "    def stop(self):\n",
    "        self.transmission.shift_gear()  # Shift to neutral\n",
    "        self.engine.stop()"
   ]
  },
  {
   "cell_type": "code",
   "execution_count": 91,
   "id": "046b5199-df92-415e-82a3-dc6f2fa62856",
   "metadata": {},
   "outputs": [],
   "source": [
    "car_engine = Engine(\"V6\", \"Petrol\")\n",
    "car_wheels = Wheels(\"Michelin\", \"All-Season\")\n",
    "car_transmission = Transmission(\"Automatic\")"
   ]
  },
  {
   "cell_type": "code",
   "execution_count": 92,
   "id": "3386629c-2962-4411-86ff-55c032fc4ac2",
   "metadata": {},
   "outputs": [],
   "source": [
    "my_car = Car(car_engine, car_wheels, car_transmission)"
   ]
  },
  {
   "cell_type": "code",
   "execution_count": 93,
   "id": "88c50ed5-42dc-4847-9a5d-e4ea32b1cea3",
   "metadata": {},
   "outputs": [
    {
     "name": "stdout",
     "output_type": "stream",
     "text": [
      "V6 engine started.\n",
      "Transmission shifted to Automatic gear.\n",
      "Michelin wheels rotating on All-Season tires.\n",
      "Transmission shifted to Automatic gear.\n",
      "V6 engine stopped.\n"
     ]
    }
   ],
   "source": [
    "my_car.start()  \n",
    "my_car.drive()  \n",
    "my_car.stop()"
   ]
  },
  {
   "cell_type": "markdown",
   "id": "90f2a3af-a434-4a98-bf43-d71e1848fe39",
   "metadata": {},
   "source": [
    "1. The Engine, Wheels, and Transmission classes represent individual components of a car.\n",
    "2. The Car class is composed of instances of Engine, Wheels, and Transmission. \n",
    "3. It has methods to start, drive, and stop the car, which internally use the functionalities of these components.\n",
    "4. Print the result"
   ]
  },
  {
   "cell_type": "markdown",
   "id": "69bf3b0b-a605-4eea-b18d-3c04ed19cf6f",
   "metadata": {},
   "source": [
    "11. How can you encapsulate and hide the details of composed objects in Python classes to maintain\n",
    "abstraction?"
   ]
  },
  {
   "cell_type": "code",
   "execution_count": 94,
   "id": "b68fd06d-d3b6-406c-a3d5-0a6121cd2fc8",
   "metadata": {},
   "outputs": [],
   "source": [
    "class Car:\n",
    "    def __init__(self, engine, wheels, transmission):\n",
    "        self._engine = engine\n",
    "        self._wheels = wheels\n",
    "        self._transmission = transmission\n",
    "\n",
    "    def start(self):\n",
    "        self._engine.start()\n",
    "        self._transmission.shift_gear()\n",
    "        self._wheels.rotate()"
   ]
  },
  {
   "cell_type": "code",
   "execution_count": 95,
   "id": "8d2a033f-7ef0-4275-aab6-8f66d4206b4d",
   "metadata": {},
   "outputs": [],
   "source": [
    "car_engine = Engine(\"V8\", \"Petrol\")\n",
    "car_wheels = Wheels(\"Michelin\", \"Summer\")\n",
    "car_transmission = Transmission(\"Automatic\")"
   ]
  },
  {
   "cell_type": "code",
   "execution_count": 96,
   "id": "5d95c4f4-8ed9-42e8-ab71-9f5e5f631bdf",
   "metadata": {},
   "outputs": [],
   "source": [
    "my_car = Car(car_engine, car_wheels, car_transmission)"
   ]
  },
  {
   "cell_type": "code",
   "execution_count": 97,
   "id": "f8814695-65dc-407a-b6a2-4d6654a18ad6",
   "metadata": {},
   "outputs": [
    {
     "name": "stdout",
     "output_type": "stream",
     "text": [
      "V8 engine started.\n",
      "Transmission shifted to Automatic gear.\n",
      "Michelin wheels rotating on Summer tires.\n"
     ]
    }
   ],
   "source": [
    "my_car.start()"
   ]
  },
  {
   "cell_type": "markdown",
   "id": "dce8613d-4778-410c-976f-366425616c80",
   "metadata": {},
   "source": [
    "1. The very act of using composition itself contributes to encapsulation. \n",
    "2. External users of the class interact with the class interface, not the details of its composed objects.\n",
    "3. In this example, the details of the composed objects (Engine, Wheels, Transmission) are encapsulated within the Car class. \n",
    "4. External users interact with the Car class without needing to know the internal details of its composed objects, maintaining abstraction and promoting a clean and modular design.\n",
    "5. Print the result"
   ]
  },
  {
   "cell_type": "markdown",
   "id": "6dabb027-c535-4311-ade1-7c38fb0cdb62",
   "metadata": {},
   "source": [
    "12. Create a Python class for a university course, using composition to represent students, instructors, and\n",
    "course materials."
   ]
  },
  {
   "cell_type": "code",
   "execution_count": 98,
   "id": "28aceef8-5e10-46cb-b168-2945677c737c",
   "metadata": {},
   "outputs": [],
   "source": [
    "class Student:\n",
    "    def __init__(self, student_id, name):\n",
    "        self.student_id = student_id\n",
    "        self.name = name\n",
    "\n",
    "    def enroll(self, course):\n",
    "        print(f\"{self.name} enrolled in {course}.\")\n",
    "\n",
    "class Instructor:\n",
    "    def __init__(self, instructor_id, name):\n",
    "        self.instructor_id = instructor_id\n",
    "        self.name = name\n",
    "\n",
    "    def teach(self, course):\n",
    "        print(f\"{self.name} is teaching {course}.\")\n",
    "\n",
    "class CourseMaterial:\n",
    "    def __init__(self, title, content):\n",
    "        self.title = title\n",
    "        self.content = content\n",
    "\n",
    "    def display_content(self):\n",
    "        print(f\"Course Material: {self.title}\\n{self.content}\")\n",
    "\n",
    "class UniversityCourse:\n",
    "    def __init__(self, course_code, course_name, instructor, students, course_material):\n",
    "        self.course_code = course_code\n",
    "        self.course_name = course_name\n",
    "        self.instructor = instructor\n",
    "        self.students = students\n",
    "        self.course_material = course_material\n",
    "\n",
    "    def display_course_info(self):\n",
    "        print(f\"Course: {self.course_code} - {self.course_name}\")\n",
    "        self.instructor.teach(self.course_name)\n",
    "        print(\"\\nStudents:\")\n",
    "        for student in self.students:\n",
    "            print(f\"- {student.name}\")\n",
    "        print(\"\\nCourse Material:\")\n",
    "        self.course_material.display_content()\n",
    "\n"
   ]
  },
  {
   "cell_type": "code",
   "execution_count": 99,
   "id": "9aec4c5f-1b02-4dac-886e-32dd757d772a",
   "metadata": {},
   "outputs": [],
   "source": [
    "student1 = Student(\"S001\", \"Alice\")\n",
    "student2 = Student(\"S002\", \"Bob\")"
   ]
  },
  {
   "cell_type": "code",
   "execution_count": 100,
   "id": "d842b178-760c-4dfc-a28e-9e07a8401064",
   "metadata": {},
   "outputs": [
    {
     "name": "stdout",
     "output_type": "stream",
     "text": [
      "Course: CS101 - Python Programming\n",
      "Professor Smith is teaching Python Programming.\n",
      "\n",
      "Students:\n",
      "- Alice\n",
      "- Bob\n",
      "\n",
      "Course Material:\n",
      "Course Material: Introduction to Python\n",
      "This course covers the basics of Python programming.\n"
     ]
    }
   ],
   "source": [
    "instructor = Instructor(\"I001\", \"Professor Smith\")\n",
    "course_material = CourseMaterial(\"Introduction to Python\", \"This course covers the basics of Python programming.\")\n",
    "students = [student1, student2]\n",
    "python_course = UniversityCourse(\"CS101\", \"Python Programming\", instructor, students, course_material)\n",
    "python_course.display_course_info()"
   ]
  },
  {
   "cell_type": "markdown",
   "id": "f20d71e4-02d6-4db4-a4ed-6782a6a130ea",
   "metadata": {},
   "source": [
    "1. The Student, Instructor, and CourseMaterial classes represent individual components of a university course.\n",
    "2. The UniversityCourse class is composed of instances of Student, Instructor, and CourseMaterial.\n",
    "3. It has a method display_course_info that internally uses the functionalities of these components\n",
    "4. Print the result"
   ]
  },
  {
   "cell_type": "markdown",
   "id": "8a0f6165-92f4-46c2-8ffb-df6b581073b9",
   "metadata": {},
   "source": [
    "13. Discuss the challenges and drawbacks of composition, such as increased complexity and potential for\n",
    "tight coupling between objects."
   ]
  },
  {
   "cell_type": "code",
   "execution_count": 101,
   "id": "b7bcb105-f361-4c00-a4b7-3095e219f541",
   "metadata": {},
   "outputs": [],
   "source": [
    "class Engine:\n",
    "    def start(self):\n",
    "        print(\"Engine started.\")\n",
    "\n",
    "    def stop(self):\n",
    "        print(\"Engine stopped.\")\n",
    "\n",
    "class Wheels:\n",
    "    def rotate(self):\n",
    "        print(\"Wheels rotating.\")\n",
    "\n",
    "class Car:\n",
    "    def __init__(self):\n",
    "        self.engine = Engine()\n",
    "        self.wheels = Wheels()\n",
    "\n",
    "    def start(self):\n",
    "        self.engine.start()\n",
    "\n",
    "    def stop(self):\n",
    "        self.engine.stop()\n",
    "\n",
    "    def drive(self):\n",
    "        self.wheels.rotate()"
   ]
  },
  {
   "cell_type": "code",
   "execution_count": 102,
   "id": "46c89910-9062-4d27-b069-50983b6821f8",
   "metadata": {},
   "outputs": [
    {
     "name": "stdout",
     "output_type": "stream",
     "text": [
      "Engine started.\n",
      "Wheels rotating.\n",
      "Engine stopped.\n"
     ]
    }
   ],
   "source": [
    "my_car = Car()\n",
    "my_car.start()  \n",
    "my_car.drive()   \n",
    "my_car.stop()"
   ]
  },
  {
   "cell_type": "markdown",
   "id": "114e95d0-531a-4c77-8ad4-a89a055dc0fe",
   "metadata": {},
   "source": [
    "1. Increased Complexity:\n",
    "As the number of composed objects increases, the complexity of managing and coordinating interactions between them can grow. This can make the code harder to understand and maintain, especially in large-scale systems.\n",
    "2. Potential for Tight Coupling:\n",
    "If the composition is not carefully managed, it can lead to tight coupling between objects. Tight coupling occurs when the internal details of one object are closely tied to the internal details of another object, making it difficult to modify one without affecting the other.\n",
    "3. Dependency Management:\n",
    "Managing dependencies between composed objects can be challenging. Changes in one component might have a ripple effect on other components, potentially requiring extensive modifications throughout the system.\n",
    "4. Constructor Overhead:\n",
    "The process of creating instances of composed objects and passing them to the constructor of the containing class can lead to constructor overhead. This becomes more apparent when dealing with a large number of dependencies.\n",
    "5. Potential for Code Duplication:\n",
    "In some cases, composition may lead to code duplication if multiple classes use the same set of composed objects. This can happen when the same components are needed across different classes.\n",
    "6. Limited Code Reuse in Some Cases:\n",
    "While composition promotes code reuse, there are scenarios where it might not be as effective as inheritance. Inheritance allows for more straightforward reuse of code through the \"is-a\" relationship.\n",
    "7. Design Decisions and Flexibility:\n",
    "Poor design decisions during composition can result in a less flexible system. It may become challenging to modify or extend the system without introducing unintended side effects.\n",
    "8. Potential for Runtime Performance Overhead:\n",
    "Depending on the implementation, the use of composition can introduce runtime performance overhead, especially if there are many objects interacting with each other. This can impact the overall efficiency of the system.\n",
    "9. Diamond Inheritance Problem (Multiple Inheritance):\n",
    "While composition itself does not suffer from the diamond inheritance problem, it can still arise if multiple inheritance is used in combination with composition. This problem can introduce ambiguity and complexity in the code.\n",
    "\n",
    "\n",
    "Example:\n",
    "\n",
    "1. The Car class is composed of instances of the Engine and Wheels classes. \n",
    "2. It encapsulates the functionality related to starting, stopping, and driving.\n",
    "3. Composition allows the Car class to delegate specific tasks to the Engine and Wheels instances without inheriting their entire implementation.\n",
    "4. The start, stop, and drive methods of the Car class demonstrate how composition is used to build complex behavior from the simpler components."
   ]
  },
  {
   "cell_type": "markdown",
   "id": "6eb64590-d9ae-4b74-8e30-1d7406203696",
   "metadata": {},
   "source": [
    "14. Create a Python class hierarchy for a restaurant system, using composition to represent menus, dishes,\n",
    "and ingredients."
   ]
  },
  {
   "cell_type": "code",
   "execution_count": 104,
   "id": "76909e2c-b46b-46e0-98fc-f5f6ebc64281",
   "metadata": {},
   "outputs": [],
   "source": [
    "class Ingredient:\n",
    "    def __init__(self, name, quantity):\n",
    "        self.name = name\n",
    "        self.quantity = quantity\n",
    "\n",
    "    def display(self):\n",
    "        print(f\"{self.quantity} {self.name}\")\n",
    "\n",
    "class Dish:\n",
    "    def __init__(self, name, ingredients):\n",
    "        self.name = name\n",
    "        self.ingredients = ingredients\n",
    "\n",
    "    def display(self):\n",
    "        print(f\"Dish: {self.name}\")\n",
    "        print(\"Ingredients:\")\n",
    "        for ingredient in self.ingredients:\n",
    "            ingredient.display()\n",
    "\n",
    "class Menu:\n",
    "    def __init__(self, name, dishes):\n",
    "        self.name = name\n",
    "        self.dishes = dishes\n",
    "\n",
    "    def display(self):\n",
    "        print(f\"Menu: {self.name}\")\n",
    "        print(\"Dishes:\")\n",
    "        for dish in self.dishes:\n",
    "            dish.display()\n",
    "\n",
    "class Restaurant:\n",
    "    def __init__(self, name, menus):\n",
    "        self.name = name\n",
    "        self.menus = menus\n",
    "\n",
    "    def display_menu(self):\n",
    "        print(f\"Welcome to {self.name}!\")\n",
    "        print(\"Available Menus:\")\n",
    "        for menu in self.menus:\n",
    "            menu.display()"
   ]
  },
  {
   "cell_type": "code",
   "execution_count": 105,
   "id": "2c81f9f7-5150-4df8-97e7-e7c6a842b5d7",
   "metadata": {},
   "outputs": [],
   "source": [
    "ingredient1 = Ingredient(\"Tomato\", 3)\n",
    "ingredient2 = Ingredient(\"Cheese\", 200)\n",
    "ingredient3 = Ingredient(\"Dough\", 300)"
   ]
  },
  {
   "cell_type": "code",
   "execution_count": 108,
   "id": "55832141-b674-413e-aa6f-350b08a18145",
   "metadata": {},
   "outputs": [],
   "source": [
    "dish1 = Dish(\"Margherita Pizza\", [ingredient1, ingredient2, ingredient3])"
   ]
  },
  {
   "cell_type": "code",
   "execution_count": 109,
   "id": "e3429ddf-807e-4b97-a600-f03c55145bc4",
   "metadata": {},
   "outputs": [],
   "source": [
    "ingredient4 = Ingredient(\"Chicken\", 400)\n",
    "ingredient5 = Ingredient(\"Rice\", 200)\n",
    "ingredient6 = Ingredient(\"Vegetables\", 150)"
   ]
  },
  {
   "cell_type": "code",
   "execution_count": 110,
   "id": "d94b8a73-6831-48b1-93cd-06839847c8b3",
   "metadata": {},
   "outputs": [],
   "source": [
    "dish2 = Dish(\"Chicken Biryani\", [ingredient4, ingredient5, ingredient6])"
   ]
  },
  {
   "cell_type": "code",
   "execution_count": 111,
   "id": "ac4cb70e-5b27-49d4-9348-16e821c200ec",
   "metadata": {},
   "outputs": [],
   "source": [
    "menu1 = Menu(\"Pizza Menu\", [dish1])\n",
    "menu2 = Menu(\"Indian Cuisine\", [dish2])\n",
    "restaurant = Restaurant(\"Food Haven\", [menu1, menu2])"
   ]
  },
  {
   "cell_type": "code",
   "execution_count": 112,
   "id": "d8c5dadf-51bd-479e-bbe8-942b1f1b7863",
   "metadata": {},
   "outputs": [
    {
     "name": "stdout",
     "output_type": "stream",
     "text": [
      "Welcome to Food Haven!\n",
      "Available Menus:\n",
      "Menu: Pizza Menu\n",
      "Dishes:\n",
      "Dish: Margherita Pizza\n",
      "Ingredients:\n",
      "3 Tomato\n",
      "200 Cheese\n",
      "300 Dough\n",
      "Menu: Indian Cuisine\n",
      "Dishes:\n",
      "Dish: Chicken Biryani\n",
      "Ingredients:\n",
      "400 Chicken\n",
      "200 Rice\n",
      "150 Vegetables\n"
     ]
    }
   ],
   "source": [
    "restaurant.display_menu()"
   ]
  },
  {
   "cell_type": "markdown",
   "id": "be315429-2fb5-4e8f-9e13-47d8ba63adac",
   "metadata": {},
   "source": [
    "1. Each component will be a separate class, and the Restaurant class will be composed of instances of these components.\n",
    "2. The Ingredient, Dish, and Menu classes represent individual components of a restaurant system.\n",
    "3. The Restaurant class is composed of instances of Menu. \n",
    "4. It has a method display_menu that internally uses the functionalities of Menu, Dish, and Ingredient.\n",
    "5. Print the result"
   ]
  },
  {
   "cell_type": "markdown",
   "id": "676aae4b-4fe2-43ce-9496-6a80814b87a5",
   "metadata": {},
   "source": [
    "15. Explain how composition enhances code maintainability and modularity in Python programs."
   ]
  },
  {
   "cell_type": "code",
   "execution_count": 113,
   "id": "f5b0cbf5-eec7-42ae-9931-3521562d96ea",
   "metadata": {},
   "outputs": [],
   "source": [
    "class Engine:\n",
    "    def start(self):\n",
    "        print(\"Engine started.\")\n",
    "\n",
    "    def stop(self):\n",
    "        print(\"Engine stopped.\")\n",
    "\n",
    "class Wheels:\n",
    "    def rotate(self):\n",
    "        print(\"Wheels rotating.\")\n",
    "\n",
    "class Car:\n",
    "    def __init__(self):\n",
    "        self.engine = Engine()\n",
    "        self.wheels = Wheels()\n",
    "\n",
    "    def start(self):\n",
    "        self.engine.start()\n",
    "\n",
    "    def stop(self):\n",
    "        self.engine.stop()\n",
    "\n",
    "    def drive(self):\n",
    "        self.wheels.rotate()"
   ]
  },
  {
   "cell_type": "code",
   "execution_count": 114,
   "id": "759081a1-3f36-421d-9565-101bbf8f5f56",
   "metadata": {},
   "outputs": [
    {
     "name": "stdout",
     "output_type": "stream",
     "text": [
      "Engine started.\n",
      "Wheels rotating.\n",
      "Engine stopped.\n"
     ]
    }
   ],
   "source": [
    "my_car = Car()\n",
    "my_car.start()  \n",
    "my_car.drive()   \n",
    "my_car.stop()"
   ]
  },
  {
   "cell_type": "markdown",
   "id": "76b71fa4-f645-4fa1-b6d8-0d9627425cdf",
   "metadata": {},
   "source": [
    "1. Encapsulation and Abstraction:\n",
    "Composition promotes encapsulation by allowing each class to encapsulate its own behavior and data. This means that the internal details of a class are hidden from the outside, and interactions occur through well-defined interfaces. This encapsulation aids in abstraction, where the complexity of a component is hidden behind a simplified and understandable interface.\n",
    "2. Modularity:\n",
    "Composition allows for the creation of modular code by breaking down a system into smaller, independent components. Each component is responsible for a specific aspect of the functionality, making it easier to understand, maintain, and extend. Modules can be developed and tested independently, facilitating code organization.\n",
    "3. Code Reusability:\n",
    "Components created through composition are inherently reusable. A well-designed component can be used in different contexts or even in entirely different projects without modification. This reuse of components reduces redundancy, leads to cleaner code, and accelerates development.\n",
    "4. Flexibility and Extensibility:\n",
    "Composition provides flexibility in modifying and extending a system. Changes to one component do not necessarily impact others, making it easier to adapt the codebase to evolving requirements. New features can be added by introducing new components or modifying existing ones without affecting the entire system.\n",
    "5. Dependency Management:\n",
    "Composition helps manage dependencies between components. Dependencies are explicit and well-defined, making it clear which components rely on others. This transparency simplifies the identification and resolution of dependencies, enhancing overall code maintainability.\n",
    "6. Reduced Code Coupling:\n",
    "Composition typically results in looser coupling between classes. Objects interact through well-defined interfaces, and changes to one class are less likely to cause a ripple effect throughout the entire system. This loose coupling contributes to a more maintainable and adaptable codebase.\n",
    "7. Testing and Debugging:\n",
    "Modular components created through composition are easier to test in isolation. Unit testing can be performed on individual components, simplifying the debugging process. This isolated testing also contributes to the overall reliability and robustness of the code.\n",
    "8. Improved Readability:\n",
    "A composition-based design often leads to more readable code. Each class or module has a specific responsibility, and the relationships between components are clearly defined. This clarity improves code readability, making it easier for developers to understand and collaborate on the codebase.\n",
    "9. Scalability:\n",
    "Composition facilitates scalability by allowing developers to add new features or scale the system by introducing new components. The modular nature of composition makes it easier to scale a project without introducing unnecessary complexity.\n",
    "\n",
    "Example:\n",
    "\n",
    "1. The Car class is composed of instances of the Engine and Wheels classes. \n",
    "2. It encapsulates the functionality related to starting, stopping, and driving.\n",
    "3. Composition allows the Car class to delegate specific tasks to the Engine and Wheels instances without inheriting their entire implementation.\n",
    "4. The start, stop, and drive methods of the Car class demonstrate how composition is used to build complex behavior from the simpler components."
   ]
  },
  {
   "cell_type": "markdown",
   "id": "a1b4a7c3-124f-4ab8-9a4d-1b277c89c44b",
   "metadata": {},
   "source": [
    "16. Create a Python class for a computer game character, using composition to represent attributes like\n",
    "weapons, armor, and inventory."
   ]
  },
  {
   "cell_type": "code",
   "execution_count": 115,
   "id": "41ed2c1b-c5b0-4004-8e84-0842ddb7f488",
   "metadata": {},
   "outputs": [],
   "source": [
    "class Weapon:\n",
    "    def __init__(self, name, damage):\n",
    "        self.name = name\n",
    "        self.damage = damage\n",
    "\n",
    "    def attack(self):\n",
    "        print(f\"{self.name} deals {self.damage} damage.\")\n",
    "\n",
    "class Armor:\n",
    "    def __init__(self, name, defense):\n",
    "        self.name = name\n",
    "        self.defense = defense\n",
    "\n",
    "    def absorb_damage(self, damage):\n",
    "        absorbed_damage = min(damage, self.defense)\n",
    "        self.defense -= absorbed_damage\n",
    "        print(f\"{self.name} absorbs {absorbed_damage} damage.\")\n",
    "\n",
    "class Inventory:\n",
    "    def __init__(self):\n",
    "        self.items = []\n",
    "\n",
    "    def add_item(self, item):\n",
    "        self.items.append(item)\n",
    "        print(f\"Added {item} to the inventory.\")\n",
    "\n",
    "class GameCharacter:\n",
    "    def __init__(self, name, health, weapon, armor, inventory):\n",
    "        self.name = name\n",
    "        self.health = health\n",
    "        self.weapon = weapon\n",
    "        self.armor = armor\n",
    "        self.inventory = inventory\n",
    "\n",
    "    def attack(self, target):\n",
    "        print(f\"{self.name} attacks {target.name}!\")\n",
    "        self.weapon.attack()\n",
    "\n",
    "    def take_damage(self, damage):\n",
    "        print(f\"{self.name} takes {damage} damage!\")\n",
    "        self.armor.absorb_damage(damage)\n",
    "        self.health -= damage\n",
    "\n",
    "    def show_inventory(self):\n",
    "        print(f\"{self.name}'s Inventory:\")\n",
    "        for item in self.inventory.items:\n",
    "            print(f\"- {item}\")"
   ]
  },
  {
   "cell_type": "code",
   "execution_count": 116,
   "id": "64237669-d6f4-434d-a50e-e57a402b716f",
   "metadata": {},
   "outputs": [],
   "source": [
    "sword = Weapon(\"Sword\", 10)\n",
    "plate_armor = Armor(\"Plate Armor\", 15)\n",
    "player_inventory = Inventory()"
   ]
  },
  {
   "cell_type": "code",
   "execution_count": 117,
   "id": "af8066e4-49be-4cc2-be61-2e1ca09d4f16",
   "metadata": {},
   "outputs": [],
   "source": [
    "player_character = GameCharacter(\"Hero\", 100, sword, plate_armor, player_inventory)"
   ]
  },
  {
   "cell_type": "code",
   "execution_count": 118,
   "id": "dddefc36-5509-43a7-a789-876f26377a8b",
   "metadata": {},
   "outputs": [
    {
     "name": "stdout",
     "output_type": "stream",
     "text": [
      "Hero attacks Enemy!\n",
      "Sword deals 10 damage.\n",
      "Hero takes 8 damage!\n",
      "Plate Armor absorbs 8 damage.\n",
      "Hero's Inventory:\n"
     ]
    }
   ],
   "source": [
    "player_character.attack(target=GameCharacter(\"Enemy\", 50, None, None, None))\n",
    "player_character.take_damage(8)\n",
    "player_character.show_inventory()"
   ]
  },
  {
   "cell_type": "markdown",
   "id": "dc55101a-302a-4e19-8973-ce595604fb8f",
   "metadata": {},
   "source": [
    "1. Each component will be a separate class, and the GameCharacter class will be composed of instances of these components.\n",
    "2. The Weapon, Armor, and Inventory classes represent individual components of a game character.\n",
    "3. The GameCharacter class is composed of instances of Weapon, Armor, and Inventory. \n",
    "4. It has methods to attack, take damage, and show the inventory, which internally use the functionalities of these components.\n",
    "5. Print the result"
   ]
  },
  {
   "cell_type": "markdown",
   "id": "f1a77675-6286-4b26-9a37-19598c9db4e9",
   "metadata": {},
   "source": [
    "17. Describe the concept of \"aggregation\" in composition and how it differs from simple composition."
   ]
  },
  {
   "cell_type": "code",
   "execution_count": 121,
   "id": "b1796736-1559-4f62-bf02-c9b8f91a419e",
   "metadata": {},
   "outputs": [],
   "source": [
    "class Department:\n",
    "    def __init__(self, name):\n",
    "        self.name = name\n",
    "        self.courses = []\n",
    "\n",
    "    def add_course(self, course):\n",
    "        self.courses.append(course)\n",
    "\n",
    "class University:\n",
    "    def __init__(self, name):\n",
    "        self.name = name\n",
    "        self.departments = []\n",
    "\n",
    "    def add_department(self, department):\n",
    "        self.departments.append(department)\n"
   ]
  },
  {
   "cell_type": "code",
   "execution_count": 122,
   "id": "62c0aa70-b429-4bf3-8d8e-4055350d0173",
   "metadata": {},
   "outputs": [],
   "source": [
    "math_department = Department(\"Mathematics\")\n",
    "physics_department = Department(\"Physics\")"
   ]
  },
  {
   "cell_type": "code",
   "execution_count": 124,
   "id": "6fa8d363-7c5e-4e3e-b017-6efec2d6421a",
   "metadata": {},
   "outputs": [],
   "source": [
    "university = University(\"ABC University\")\n",
    "university.add_department(math_department)\n",
    "university.add_department(physics_department)"
   ]
  },
  {
   "cell_type": "code",
   "execution_count": 125,
   "id": "749952fc-0805-4066-9f65-8ba1929e6e36",
   "metadata": {},
   "outputs": [],
   "source": [
    "math_department.add_course(\"Calculus\")\n",
    "physics_department.add_course(\"Mechanics\")"
   ]
  },
  {
   "cell_type": "markdown",
   "id": "a7972b60-04f9-4403-83b2-170d6bf70f37",
   "metadata": {},
   "source": [
    "In object-oriented programming, \"aggregation\" is a form of composition where one class (the whole or container) contains another class (the part) as a component. Aggregation represents a \"has-a\" relationship between objects, indicating that one object is part of or composed within another object. The key distinction between aggregation and simple composition lies in the degree of ownership and the lifecycle of the contain\n",
    "1. Whole-Part Relationship: Aggregation represents a whole-part relationship, where one class (the whole) contains another class (the part).\n",
    "2. Loose Coupling: In aggregation, the contained object (part) can exist independently of the container (whole). The container does not fully own the lifecycle of the contained object, resulting in loose coupling between the two.\n",
    "3. Bi-directional Association: Objects involved in aggregation have a bi-directional association. Both the whole and the part can reference each other, but they are not tightly coupled.\n",
    "4. Shared Ownership: The contained object in aggregation can be shared among multiple containers or may exist independently. The destruction of the whole does not necessarily lead to the destruction of the part.\n",
    "5. Multiplicative Relationship: Aggregation implies that the part can exist in multiple instances of the whole. For example, a university (whole) can have multiple departments (parts), and each department can be part of multiple universities.\n",
    "\n",
    "Example:\n",
    "1. University and Department have an aggregation relationship.\n",
    "2. Each University can contain multiple Departments, and each Department can exist independently of the University.\n",
    "\n",
    "Difference from Simple Composition:\n",
    "In simple composition, the contained object is fully owned by the container, and the destruction of the container leads to the destruction of the contained object. In aggregation, the contained object can have a more independent lifecycle, and it may exist outside of the container."
   ]
  },
  {
   "cell_type": "markdown",
   "id": "e16ec044-3c47-4f8f-9f7f-3846aa95b458",
   "metadata": {},
   "source": [
    "18. Create a Python class for a house, using composition to represent rooms, furniture, and appliances."
   ]
  },
  {
   "cell_type": "code",
   "execution_count": 126,
   "id": "944a8d64-e553-4bf5-8d9f-e010a39a5736",
   "metadata": {},
   "outputs": [],
   "source": [
    "class Furniture:\n",
    "    def __init__(self, name):\n",
    "        self.name = name\n",
    "\n",
    "    def display(self):\n",
    "        print(f\"- {self.name}\")\n",
    "\n",
    "class Appliance:\n",
    "    def __init__(self, name):\n",
    "        self.name = name\n",
    "\n",
    "    def display(self):\n",
    "        print(f\"- {self.name}\")\n",
    "\n",
    "class Room:\n",
    "    def __init__(self, name, furniture=None, appliances=None):\n",
    "        self.name = name\n",
    "        self.furniture = furniture or []\n",
    "        self.appliances = appliances or []\n",
    "\n",
    "    def add_furniture(self, furniture):\n",
    "        self.furniture.append(furniture)\n",
    "\n",
    "    def add_appliance(self, appliance):\n",
    "        self.appliances.append(appliance)\n",
    "\n",
    "    def display_contents(self):\n",
    "        print(f\"{self.name} contents:\")\n",
    "        print(\"Furniture:\")\n",
    "        for piece in self.furniture:\n",
    "            piece.display()\n",
    "        print(\"Appliances:\")\n",
    "        for appliance in self.appliances:\n",
    "            appliance.display()\n",
    "\n",
    "class House:\n",
    "    def __init__(self, name, rooms=None):\n",
    "        self.name = name\n",
    "        self.rooms = rooms or []\n",
    "\n",
    "    def add_room(self, room):\n",
    "        self.rooms.append(room)\n",
    "\n",
    "    def display_house_contents(self):\n",
    "        print(f\"{self.name} contents:\")\n",
    "        for room in self.rooms:\n",
    "            room.display_contents()"
   ]
  },
  {
   "cell_type": "code",
   "execution_count": 127,
   "id": "326515d9-25ca-4f92-ad9d-6cc830f5dcec",
   "metadata": {},
   "outputs": [],
   "source": [
    "sofa = Furniture(\"Sofa\")\n",
    "table = Furniture(\"Coffee Table\")\n",
    "tv = Appliance(\"TV\")\n",
    "fridge = Appliance(\"Refrigerator\")"
   ]
  },
  {
   "cell_type": "code",
   "execution_count": 128,
   "id": "b09c7c20-abfc-4814-ab7b-106e0662af0c",
   "metadata": {},
   "outputs": [],
   "source": [
    "living_room = Room(\"Living Room\", furniture=[sofa, table], appliances=[tv])\n",
    "kitchen = Room(\"Kitchen\", appliances=[fridge])\n",
    "my_house = House(\"Cozy Home\", rooms=[living_room, kitchen])"
   ]
  },
  {
   "cell_type": "code",
   "execution_count": 129,
   "id": "45289885-95a5-4d71-8aab-5e9aa1bb2ea9",
   "metadata": {},
   "outputs": [
    {
     "name": "stdout",
     "output_type": "stream",
     "text": [
      "Cozy Home contents:\n",
      "Living Room contents:\n",
      "Furniture:\n",
      "- Sofa\n",
      "- Coffee Table\n",
      "Appliances:\n",
      "- TV\n",
      "Kitchen contents:\n",
      "Furniture:\n",
      "Appliances:\n",
      "- Refrigerator\n"
     ]
    }
   ],
   "source": [
    "my_house.display_house_contents()"
   ]
  },
  {
   "cell_type": "markdown",
   "id": "aa3f5cee-68dc-4944-bd6e-1bd5b63d02d2",
   "metadata": {},
   "source": [
    "1. The Furniture, Appliance, and Room classes represent individual components of a house.\n",
    "2. The House class is composed of instances of Room. \n",
    "3. It has a method display_house_contents that internally uses the functionalities of Room, Furniture, and Appliance.\n",
    "4. Print the result"
   ]
  },
  {
   "cell_type": "markdown",
   "id": "0662a6a9-ef29-4329-9715-ac4caea0b907",
   "metadata": {},
   "source": [
    "19. How can you achieve flexibility in composed objects by allowing them to be replaced or modified\n",
    "dynamically at runtime?"
   ]
  },
  {
   "cell_type": "code",
   "execution_count": 131,
   "id": "f31372d9-5a04-4bf8-93f1-5e1b84adaf11",
   "metadata": {},
   "outputs": [],
   "source": [
    "class Coffee:\n",
    "    def cost(self):\n",
    "        return 5\n",
    "\n",
    "class MilkDecorator:\n",
    "    def __init__(self, coffee):\n",
    "        self._coffee = coffee\n",
    "\n",
    "    def cost(self):\n",
    "        return self._coffee.cost() + 2"
   ]
  },
  {
   "cell_type": "code",
   "execution_count": 132,
   "id": "1e29971e-9f83-4a2b-a805-a1f6309a7561",
   "metadata": {},
   "outputs": [
    {
     "name": "stdout",
     "output_type": "stream",
     "text": [
      "Cost of basic coffee: $5\n"
     ]
    }
   ],
   "source": [
    "my_coffee = Coffee()\n",
    "print(f\"Cost of basic coffee: ${my_coffee.cost()}\")"
   ]
  },
  {
   "cell_type": "code",
   "execution_count": 133,
   "id": "00634d99-3b93-49f4-83bf-675d2084970d",
   "metadata": {},
   "outputs": [
    {
     "name": "stdout",
     "output_type": "stream",
     "text": [
      "Cost of coffee with milk: $7\n"
     ]
    }
   ],
   "source": [
    "my_coffee_with_milk = MilkDecorator(my_coffee)\n",
    "print(f\"Cost of coffee with milk: ${my_coffee_with_milk.cost()}\")"
   ]
  },
  {
   "cell_type": "markdown",
   "id": "9ccf13cb-de46-418c-ab88-993e95f622d5",
   "metadata": {},
   "source": [
    "Achieving flexibility in composed objects by allowing them to be replaced or modified dynamically at runtime involves employing design patterns and strategies that decouple the components and provide mechanisms for runtime modifications\n",
    "1. Utilize the decorator pattern to dynamically add or modify behavior of individual components at runtime. This allows for the flexible extension of the functionality of composed objects.\n",
    "2. These design patterns and strategies contribute to making composed objects more flexible by allowing them to be replaced or modified dynamically at runtime. \n",
    "3. The choice of which approach to use depends on the specific requirements and characteristics of your system"
   ]
  },
  {
   "cell_type": "markdown",
   "id": "f82a5a60-c78a-4581-ad17-c73ad294ee87",
   "metadata": {},
   "source": [
    "20. Create a Python class for a social media application, using composition to represent users, posts, and\n",
    "comments."
   ]
  },
  {
   "cell_type": "code",
   "execution_count": 135,
   "id": "564445ae-a9d5-46f7-b79f-242a30438dba",
   "metadata": {},
   "outputs": [],
   "source": [
    "class Comment:\n",
    "    def __init__(self, user, text):\n",
    "        self.user = user\n",
    "        self.text = text\n",
    "\n",
    "    def display(self):\n",
    "        print(f\"{self.user}: {self.text}\")\n",
    "\n",
    "class Post:\n",
    "    def __init__(self, user, content):\n",
    "        self.user = user\n",
    "        self.content = content\n",
    "        self.comments = []\n",
    "\n",
    "    def add_comment(self, comment):\n",
    "        self.comments.append(comment)\n",
    "\n",
    "    def display(self):\n",
    "        print(f\"{self.user}'s Post: {self.content}\")\n",
    "        print(\"Comments:\")\n",
    "        for comment in self.comments:\n",
    "            comment.display()\n",
    "\n",
    "class User:\n",
    "    def __init__(self, username):\n",
    "        self.username = username\n",
    "        self.posts = []\n",
    "\n",
    "    def create_post(self, content):\n",
    "        post = Post(self.username, content)\n",
    "        self.posts.append(post)\n",
    "        return post\n",
    "\n",
    "class SocialMediaApp:\n",
    "    def __init__(self, name, users=None):\n",
    "        self.name = name\n",
    "        self.users = users or []\n",
    "\n",
    "    def add_user(self, user):\n",
    "        self.users.append(user)\n",
    "\n",
    "    def display_timeline(self, username):\n",
    "        print(f\"Timeline for {username}:\")\n",
    "        for user in self.users:\n",
    "            if user.username == username:\n",
    "                for post in user.posts:\n",
    "                    post.display()\n",
    "                return\n",
    "        print(f\"User '{username}' not found.\")"
   ]
  },
  {
   "cell_type": "code",
   "execution_count": 136,
   "id": "b5e4c729-d514-498d-8620-40a502b11073",
   "metadata": {},
   "outputs": [],
   "source": [
    "user1 = User(\"Rajesh\")\n",
    "user2 = User(\"Manoj\")"
   ]
  },
  {
   "cell_type": "code",
   "execution_count": 137,
   "id": "6cc0a407-1154-4b9f-bd8c-93e939018722",
   "metadata": {},
   "outputs": [],
   "source": [
    "post1 = user1.create_post(\"Just visited the new coffee shop!\")\n",
    "comment1 = Comment(\"Rajesh\", \"Looks great!\")\n",
    "post1.add_comment(comment1)"
   ]
  },
  {
   "cell_type": "code",
   "execution_count": 138,
   "id": "950736ec-dd93-4cd5-8ee8-6caf93d6c718",
   "metadata": {},
   "outputs": [],
   "source": [
    "post2 = user2.create_post(\"Enjoying the weekend getaway.\")\n",
    "comment2 = Comment(\"Manoj\", \"Beautiful scenery!\")\n",
    "post2.add_comment(comment2)"
   ]
  },
  {
   "cell_type": "code",
   "execution_count": 139,
   "id": "c261389f-c8bd-4a1c-9a3f-402a6c383dbd",
   "metadata": {},
   "outputs": [],
   "source": [
    "social_media_app = SocialMediaApp(\"MySocialApp\", users=[user1, user2])"
   ]
  },
  {
   "cell_type": "code",
   "execution_count": 140,
   "id": "860da069-62f5-4830-ac17-46b80fb399c6",
   "metadata": {},
   "outputs": [
    {
     "name": "stdout",
     "output_type": "stream",
     "text": [
      "Timeline for Rajesh:\n",
      "Rajesh's Post: Just visited the new coffee shop!\n",
      "Comments:\n",
      "Rajesh: Looks great!\n",
      "Timeline for Manoj:\n",
      "Manoj's Post: Enjoying the weekend getaway.\n",
      "Comments:\n",
      "Manoj: Beautiful scenery!\n"
     ]
    }
   ],
   "source": [
    "social_media_app.display_timeline(\"Rajesh\")\n",
    "social_media_app.display_timeline(\"Manoj\")"
   ]
  },
  {
   "cell_type": "markdown",
   "id": "fee07be5-66db-45fc-b9fc-913940edca37",
   "metadata": {},
   "source": [
    "1. The Comment, Post, and User classes represent individual components of a social media application.\n",
    "2. The SocialMediaApp class is composed of instances of User. \n",
    "3. It has a method display_timeline that internally uses the functionalities of User, Post, and Comment.\n",
    "4. Print the result"
   ]
  },
  {
   "cell_type": "code",
   "execution_count": null,
   "id": "1da3dc5f-243e-49e8-adbc-cd5346ad6e4e",
   "metadata": {},
   "outputs": [],
   "source": []
  }
 ],
 "metadata": {
  "kernelspec": {
   "display_name": "Python 3 (ipykernel)",
   "language": "python",
   "name": "python3"
  },
  "language_info": {
   "codemirror_mode": {
    "name": "ipython",
    "version": 3
   },
   "file_extension": ".py",
   "mimetype": "text/x-python",
   "name": "python",
   "nbconvert_exporter": "python",
   "pygments_lexer": "ipython3",
   "version": "3.10.8"
  }
 },
 "nbformat": 4,
 "nbformat_minor": 5
}
